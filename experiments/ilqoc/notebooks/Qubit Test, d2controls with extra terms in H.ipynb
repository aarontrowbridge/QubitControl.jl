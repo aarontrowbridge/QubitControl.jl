{
 "cells": [
  {
   "cell_type": "code",
   "execution_count": 19,
   "metadata": {
    "ExecuteTime": {
     "end_time": "2022-09-09T17:28:11.319000-07:00",
     "start_time": "2022-09-10T00:27:18.500Z"
    }
   },
   "outputs": [
    {
     "name": "stderr",
     "output_type": "stream",
     "text": [
      "\u001b[32m\u001b[1m  Activating\u001b[22m\u001b[39m project at `C:\\Users\\a7b\\Pico.jl`\n",
      "\u001b[32m\u001b[1mPrecompiling\u001b[22m\u001b[39m project...\n",
      "\u001b[91m  ✗ \u001b[39mPico\n",
      "\u001b[32m  ✓ \u001b[39mPico\n",
      "  1 dependency successfully precompiled in 52 seconds (366 already precompiled)\n"
     ]
    }
   ],
   "source": [
    "import Pkg; Pkg.activate(\"C:/Users/a7b/Pico.jl\"); Pkg.instantiate()"
   ]
  },
  {
   "cell_type": "code",
   "execution_count": 21,
   "metadata": {
    "ExecuteTime": {
     "end_time": "2022-09-09T18:04:25.585000-07:00",
     "start_time": "2022-09-10T01:04:25.016Z"
    }
   },
   "outputs": [],
   "source": [
    "using Pico\n",
    "using PyPlot\n",
    "using QuantumOptics\n",
    "using ForwardDiff\n",
    "using Interpolations\n",
    "using LinearAlgebra\n",
    "using SparseArrays\n",
    "using OSQP"
   ]
  },
  {
   "cell_type": "code",
   "execution_count": 22,
   "metadata": {
    "ExecuteTime": {
     "end_time": "2022-09-09T18:04:26.620000-07:00",
     "start_time": "2022-09-10T01:04:26.503Z"
    }
   },
   "outputs": [
    {
     "data": {
      "text/plain": [
       "exp_frechet!"
      ]
     },
     "execution_count": 22,
     "metadata": {},
     "output_type": "execute_result"
    }
   ],
   "source": [
    "WDIR = joinpath(@__DIR__, \"../../\")\n",
    "include(joinpath(WDIR, \"experiments\", \"ilqoc\", \"measurement.jl\"))"
   ]
  },
  {
   "cell_type": "code",
   "execution_count": 23,
   "metadata": {
    "ExecuteTime": {
     "end_time": "2022-09-09T18:04:37.165000-07:00",
     "start_time": "2022-09-10T01:04:27.528Z"
    }
   },
   "outputs": [],
   "source": [
    "#set up the 2 level transmon system\n",
    "\n",
    "iter = 3000\n",
    "ω = 2π * 4.96 #GHz\n",
    "α = -2π * 0.143 #GHz\n",
    "levels = 2\n",
    "\n",
    "ψg = [1. + 0*im, 0]\n",
    "ψe = [0, 1. + 0*im]\n",
    "\n",
    "ψ1 = [ψg, ψe]\n",
    "ψf = [-im*ψe, -im*ψg]\n",
    "\n",
    "H_drift = α/2 * Pico.quad(levels)\n",
    "H_drive = [Pico.create(levels) + Pico.annihilate(levels),\n",
    "1im * (Pico.create(levels) - Pico.annihilate(levels))]\n",
    "\n",
    "sys = QuantumSystem(\n",
    "    H_drift, \n",
    "    H_drive,\n",
    "    ψ1,\n",
    "    ψf,\n",
    "    [2π * 19e-3,  2π * 19e-3]\n",
    ");"
   ]
  },
  {
   "cell_type": "code",
   "execution_count": 12,
   "metadata": {
    "ExecuteTime": {
     "end_time": "2022-09-09T16:24:13.548000-07:00",
     "start_time": "2022-09-09T23:22:46.088Z"
    }
   },
   "outputs": [
    {
     "ename": "LoadError",
     "evalue": "UndefVarError: infidelity_cost not defined",
     "output_type": "error",
     "traceback": [
      "UndefVarError: infidelity_cost not defined",
      "",
      "Stacktrace:",
      " [1] top-level scope",
      "   @ In[12]:7",
      " [2] eval",
      "   @ .\\boot.jl:373 [inlined]",
      " [3] include_string(mapexpr::typeof(REPL.softscope), mod::Module, code::String, filename::String)",
      "   @ Base .\\loading.jl:1196"
     ]
    }
   ],
   "source": [
    "# Define the optimal control problem.\n",
    "# Here we are doing a pi pulse (Rx(pi) gate).\n",
    "T = 400\n",
    "Δt = 0.1\n",
    "Q = 200.\n",
    "R = 0.1\n",
    "cost = infidelity_cost\n",
    "hess = true\n",
    "pinqstate = true\n",
    "\n",
    "time = T * Δt\n",
    "\n",
    "options = Options(\n",
    "    max_iter = iter,\n",
    "    tol = 1e-5\n",
    ")\n",
    "\n",
    "prob = QuantumControlProblem(\n",
    "    sys,\n",
    "    T = T,\n",
    "    Δt = Δt,\n",
    "    Q = Q,\n",
    "    R = R,\n",
    "    eval_hessian = hess,\n",
    "    pin_first_qstate = pinqstate,\n",
    "    options = options\n",
    ");"
   ]
  },
  {
   "cell_type": "code",
   "execution_count": 13,
   "metadata": {
    "ExecuteTime": {
     "end_time": "2022-09-09T16:24:13.571000-07:00",
     "start_time": "2022-09-09T23:22:50.483Z"
    }
   },
   "outputs": [
    {
     "ename": "LoadError",
     "evalue": "UndefVarError: solve! not defined",
     "output_type": "error",
     "traceback": [
      "UndefVarError: solve! not defined",
      "",
      "Stacktrace:",
      " [1] top-level scope",
      "   @ In[13]:2",
      " [2] eval",
      "   @ .\\boot.jl:373 [inlined]",
      " [3] include_string(mapexpr::typeof(REPL.softscope), mod::Module, code::String, filename::String)",
      "   @ Base .\\loading.jl:1196"
     ]
    }
   ],
   "source": [
    "# This will give us the nominal trajectory that we need to track\n",
    "solve!(prob)"
   ]
  },
  {
   "cell_type": "code",
   "execution_count": 14,
   "metadata": {
    "ExecuteTime": {
     "end_time": "2022-09-09T16:24:13.592000-07:00",
     "start_time": "2022-09-09T23:22:52.999Z"
    }
   },
   "outputs": [
    {
     "ename": "LoadError",
     "evalue": "UndefVarError: prob not defined",
     "output_type": "error",
     "traceback": [
      "UndefVarError: prob not defined",
      "",
      "Stacktrace:",
      " [1] top-level scope",
      "   @ In[14]:2",
      " [2] eval",
      "   @ .\\boot.jl:373 [inlined]",
      " [3] include_string(mapexpr::typeof(REPL.softscope), mod::Module, code::String, filename::String)",
      "   @ Base .\\loading.jl:1196"
     ]
    }
   ],
   "source": [
    "#Extract the solution\n",
    "Xopt = prob.trajectory.states\n",
    "Uopt = prob.trajectory.actions \n",
    "\n",
    "display(Xopt)\n",
    "display(Uopt)\n",
    "\n",
    "#Add the measurements we care about to the state vector.\n",
    "#Here they are the Pauli measurements <σ_x>, <σ_y>, <σ_z>\n",
    "for i = 1:length(Xopt)\n",
    "    x = Xopt[i]\n",
    "    meas = zeros(0)\n",
    "    for s = 1:sys.nqstates\n",
    "        iso_state = x[slice(s, sys.isodim)]\n",
    "        append!(meas, meas_x_iso(iso_state))\n",
    "        append!(meas, meas_y_iso(iso_state))\n",
    "        append!(meas, meas_z_iso(iso_state))\n",
    "    end\n",
    "    Xopt[i] = [x[1:sys.n_wfn_states]; meas; x[(sys.n_wfn_states + 1):end]]\n",
    "end\n"
   ]
  },
  {
   "cell_type": "code",
   "execution_count": 15,
   "metadata": {
    "ExecuteTime": {
     "end_time": "2022-09-09T16:24:13.616000-07:00",
     "start_time": "2022-09-09T23:22:54.677Z"
    }
   },
   "outputs": [
    {
     "ename": "LoadError",
     "evalue": "UndefVarError: sys not defined",
     "output_type": "error",
     "traceback": [
      "UndefVarError: sys not defined",
      "",
      "Stacktrace:",
      " [1] top-level scope",
      "   @ In[15]:3",
      " [2] eval",
      "   @ .\\boot.jl:373 [inlined]",
      " [3] include_string(mapexpr::typeof(REPL.softscope), mod::Module, code::String, filename::String)",
      "   @ Base .\\loading.jl:1196"
     ]
    }
   ],
   "source": [
    "#Set up xnom, unom, and utraj\n",
    "\n",
    "n = sys.nstates + 3*sys.nqstates\n",
    "print(n)\n",
    "m = sys.ncontrols\n",
    "\n",
    "xnom = zeros(n, prob.trajectory.T)\n",
    "\n",
    "for k = 1:prob.trajectory.T\n",
    "    xnom[:, k] .= Xopt[k]\n",
    "end\n",
    "\n",
    "unom = zeros(m, prob.trajectory.T - 1)\n",
    "utraj = zeros(m, prob.trajectory.T - 1)\n",
    "\n",
    "for k = 1:prob.trajectory.T - 1\n",
    "    unom[:, k] .= Uopt[k]\n",
    "    utraj[:, k] .= Uopt[k]\n",
    "end\n",
    "\n",
    "display(xnom)\n",
    "display(Xopt)"
   ]
  },
  {
   "cell_type": "code",
   "execution_count": 16,
   "metadata": {
    "ExecuteTime": {
     "end_time": "2022-09-09T16:24:14.200000-07:00",
     "start_time": "2022-09-09T23:22:58.125Z"
    }
   },
   "outputs": [
    {
     "data": {
      "text/plain": [
       "true_dynamics (generic function with 1 method)"
      ]
     },
     "execution_count": 16,
     "metadata": {},
     "output_type": "execute_result"
    }
   ],
   "source": [
    "#Nominal model for the system\n",
    "function discrete_dynamics(x, u)\n",
    "    G = sys.G_drift + x[15] * sys.G_drives[1] + x[16] * sys.G_drives[2]\n",
    "    h_prop = exp(G * Δt)\n",
    "    state1_ = x[1:4]\n",
    "    state2_ = x[5:8]\n",
    "    state1 = h_prop * state1_\n",
    "    state2 = h_prop * state2_\n",
    "    meas_1 = [meas_x_iso(state1), meas_y_iso(state1), meas_z_iso(state1)]\n",
    "    meas_2 = [meas_x_iso(state2), meas_y_iso(state2), meas_z_iso(state2)]\n",
    "    controls = x[15:16] + x[17:18] .* Δt\n",
    "    dcontrols = x[17:18] + u[1:2] .* Δt\n",
    "    return [state1; state2; meas_1; meas_2; controls; dcontrols]\n",
    "end\n",
    "\n",
    "#Fake true model for the system. Just add a small sigmaz() term to the Hamiltonian\n",
    "function true_dynamics(x, u)\n",
    "    G = sys.G_drift + 0.01*get_mat_iso(-1im * sigmaz()) + x[15] * sys.G_drives[1] + x[16] * sys.G_drives[2]\n",
    "    h_prop = exp(G * Δt)\n",
    "    state1_ = x[1:4]\n",
    "    state2_ = x[5:8]\n",
    "    state1 = h_prop * state1_\n",
    "    state2 = h_prop * state2_\n",
    "    meas_1 = [meas_x_iso(state1), meas_y_iso(state1), meas_z_iso(state1)]\n",
    "    meas_2 = [meas_x_iso(state2), meas_y_iso(state2), meas_z_iso(state2)]\n",
    "    controls = x[15:16] + x[17:18] .* Δt\n",
    "    dcontrols = x[17:18] + u[1:2] .* Δt\n",
    "    return [state1; state2; meas_1; meas_2; controls; dcontrols]\n",
    "end\n"
   ]
  },
  {
   "cell_type": "code",
   "execution_count": 17,
   "metadata": {
    "ExecuteTime": {
     "end_time": "2022-09-09T16:24:14.214000-07:00",
     "start_time": "2022-09-09T23:23:13.362Z"
    }
   },
   "outputs": [
    {
     "ename": "LoadError",
     "evalue": "UndefVarError: n not defined",
     "output_type": "error",
     "traceback": [
      "UndefVarError: n not defined",
      "",
      "Stacktrace:",
      " [1] top-level scope",
      "   @ In[17]:4",
      " [2] eval",
      "   @ .\\boot.jl:373 [inlined]",
      " [3] include_string(mapexpr::typeof(REPL.softscope), mod::Module, code::String, filename::String)",
      "   @ Base .\\loading.jl:1196"
     ]
    }
   ],
   "source": [
    "#Compute linearization of dynamics using nominal dynamics + trajectory\n",
    "# This cell takes around 30 seconds to run\n",
    "\n",
    "A = zeros(n, n, T-1)\n",
    "B = zeros(n, m, T-1)  \n",
    "\n",
    "# for k = 1:(T-1)\n",
    "#     A[:, :, k] .= ForwardDiff.jacobian(x->discrete_dynamics(x, Uopt[k]), Xopt[k])\n",
    "#     B[:, :, k] .= ForwardDiff.jacobian(u->discrete_dynamics(Xopt[k], u), Uopt[k])\n",
    "# end    \n",
    "for k = 1:(T-1)\n",
    "    A[:, :, k] .= ForwardDiff.jacobian(x->discrete_dynamics(x, unom[:,k]), xnom[:,k])\n",
    "    B[:, :, k] .= ForwardDiff.jacobian(u->discrete_dynamics(xnom[:, k], u), unom[:,k])\n",
    "end    \n"
   ]
  },
  {
   "cell_type": "code",
   "execution_count": 25,
   "metadata": {
    "ExecuteTime": {
     "end_time": "2022-09-04T15:35:13.734000-07:00",
     "start_time": "2022-09-04T22:34:52.167Z"
    }
   },
   "outputs": [
    {
     "name": "stdout",
     "output_type": "stream",
     "text": [
      "truetrue"
     ]
    }
   ],
   "source": [
    "A1 = zeros(n, n, T-1)\n",
    "B1 = zeros(n, m, T-1)  \n",
    "\n",
    "for k = 1:(T-1)\n",
    "    A1[:, :, k] .= ForwardDiff.jacobian(x->discrete_dynamics(x, Uopt[k]), Xopt[k])\n",
    "    B1[:, :, k] .= ForwardDiff.jacobian(u->discrete_dynamics(Xopt[k], u), Uopt[k])\n",
    "end\n",
    "\n",
    "print(A == A1)\n",
    "print(B == B1)\n"
   ]
  },
  {
   "cell_type": "code",
   "execution_count": 26,
   "metadata": {
    "ExecuteTime": {
     "end_time": "2022-09-04T15:36:27.941000-07:00",
     "start_time": "2022-09-04T22:36:27.414Z"
    }
   },
   "outputs": [
    {
     "data": {
      "text/plain": [
       "Array{Float64, 3}"
      ]
     },
     "execution_count": 26,
     "metadata": {},
     "output_type": "execute_result"
    }
   ],
   "source": [
    "typeof(A)"
   ]
  },
  {
   "cell_type": "markdown",
   "metadata": {},
   "source": [
    "## To run the ILC algorithm run all the cells below and repeat until solution is sufficiently dialed in."
   ]
  },
  {
   "cell_type": "code",
   "execution_count": null,
   "metadata": {
    "ExecuteTime": {
     "end_time": "2022-08-23T11:57:10.613000-05:00",
     "start_time": "2022-08-23T16:57:10.448Z"
    }
   },
   "outputs": [],
   "source": [
    "#Rollout on the \"real\" system\n",
    "xtraj = zeros(n,T)\n",
    "xtraj[:,1] .= xnom[:,1]\n",
    "for k = 1:(T-1)\n",
    "    xtraj[:,k+1] .= true_dynamics(xtraj[:,k], utraj[:,k])\n",
    "end\n"
   ]
  },
  {
   "cell_type": "code",
   "execution_count": null,
   "metadata": {
    "ExecuteTime": {
     "end_time": "2022-08-23T11:57:12.376000-05:00",
     "start_time": "2022-08-23T16:57:11.872Z"
    }
   },
   "outputs": [],
   "source": [
    "#plot σz for the state that starts in |e> and goes to -i|g>\n",
    "plot(xtraj[14, :])\n",
    "plot(xnom[14, :])\n",
    "xtraj[14, end]"
   ]
  },
  {
   "cell_type": "code",
   "execution_count": null,
   "metadata": {
    "ExecuteTime": {
     "end_time": "2022-08-23T11:27:02.913000-05:00",
     "start_time": "2022-08-23T16:26:44.600Z"
    }
   },
   "outputs": [],
   "source": [
    "#plot σz for the state that starts in |g> and goes to -i|e>\n",
    "plot(xtraj[11, :])\n",
    "plot(xnom[11, :])\n",
    "xtraj[11, end]"
   ]
  },
  {
   "cell_type": "code",
   "execution_count": null,
   "metadata": {
    "ExecuteTime": {
     "end_time": "2022-08-23T11:27:12.011000-05:00",
     "start_time": "2022-08-23T16:26:46.287Z"
    }
   },
   "outputs": [],
   "source": [
    "# Plot controls. The blue and yellow are the nominal controls and the red and green \n",
    "#are the updated controls after each iteration.\n",
    "plot([Xopt[i][15:16] for i = 1:length(Xopt)])\n",
    "plot(xtraj[15,:])\n",
    "plot(xtraj[16, :])"
   ]
  },
  {
   "cell_type": "code",
   "execution_count": null,
   "metadata": {
    "ExecuteTime": {
     "end_time": "2022-08-23T11:39:06.373000-05:00",
     "start_time": "2022-08-23T16:38:39.958Z"
    }
   },
   "outputs": [],
   "source": [
    "#Set up the ILC QP\n",
    "\n",
    "#Costs\n",
    "\n",
    "# Only really care about getting sigmaz measurments to be 1 since that \n",
    "# forces the other measurements to be 0.\n",
    "Qf = Diagonal([fill(0., sys.isodim*sys.nqstates); [0, 0, 8000.]; [0., 0., 8000.]; fill(0., 4)])\n",
    "\n",
    "Qilc = sparse(Diagonal([fill(0., sys.isodim*sys.nqstates); fill(1., 3*sys.nqstates); fill(0., 4)]))\n",
    "\n",
    "Rilc = sparse(Diagonal([0.01, 0.01]))\n",
    "H = blockdiag(kron(I(T-2), blockdiag(Rilc, Qilc)), Rilc, sparse(Qf))\n",
    "q = zeros((n+m)*(T-1))\n",
    "#errors from the \"real\" rollout\n",
    "for k = 1:(T-2)\n",
    "   q[(k-1)*(m+n) .+ (1:(m+n))] .= [zeros(sys.ncontrols); Qilc*(xtraj[:,k+1] - Xopt[k+1])] \n",
    "end\n",
    "q[(T-2)*(m+n) .+ (1:(m+n))] .= [zeros(sys.ncontrols); Qf*(xtraj[:,T] - Xopt[T])]\n",
    "\n",
    "display(xtraj[:,T] - Xopt[T])\n",
    "\n",
    "#Constraints\n",
    "U = kron(I(T-1), [I zeros(m,n)]) #Matrix that picks out all u (d2controls)\n",
    "C = kron(I(T-1), [zeros(m,16) I zeros(m,2)]) #picks out all cntrls\n",
    "X = kron(I(T-1), [zeros(n,m) I]) #Matrix that picks out all x\n",
    "D = spzeros(n*(T-1), (n+m)*(T-1)) #dynamics constraints\n",
    "\n",
    "D[1:n,1:m] .= B[:,:,1]\n",
    "D[1:n,(m+1):(m+n)] .= -I(n)\n",
    "for k = 1:(T-2)\n",
    "    D[(k*n).+(1:n), (m+(k-1)*(n+m)).+(1:(2*n+m))] .= [A[:,:,k+1] B[:,:,k+1] -I]\n",
    "end \n",
    "\n",
    "c_bnd = [fill(2π*19e-3, 2*(T-2)); zeros(2)]\n",
    "ctrajF = reduce(vcat, xtraj[15:16,2:end])\n",
    "lb = [zeros(n*(T-1)); -c_bnd-ctrajF]\n",
    "ub = [zeros(n*(T-1)); c_bnd-ctrajF]\n",
    "\n",
    "qp = OSQP.Model()\n",
    "OSQP.setup!(qp, P=H, q=q, A=[D; C], l=lb, u=ub, eps_abs=1e-8, eps_rel=1e-8, eps_prim_inf = 1.0e-8, eps_dual_inf = 1.0e-8, polish=1)\n",
    "results = OSQP.solve!(qp)\n",
    "ztraj = results.x;"
   ]
  },
  {
   "cell_type": "code",
   "execution_count": null,
   "metadata": {
    "ExecuteTime": {
     "end_time": "2022-08-23T11:57:05.892000-05:00",
     "start_time": "2022-08-23T16:57:02.109Z"
    }
   },
   "outputs": [],
   "source": [
    "#update utraj\n",
    "Δu = reshape(U*ztraj, 2, :)\n",
    "#display(Δu[:, 20:60])\n",
    "#display(utraj[:, 20:60])\n",
    "utraj = utraj+Δu\n",
    "#display(utraj[:, 20:60])"
   ]
  },
  {
   "cell_type": "code",
   "execution_count": null,
   "metadata": {},
   "outputs": [],
   "source": []
  }
 ],
 "metadata": {
  "kernelspec": {
   "display_name": "Julia 1.7.2",
   "language": "julia",
   "name": "julia-1.7"
  },
  "language_info": {
   "file_extension": ".jl",
   "mimetype": "application/julia",
   "name": "julia",
   "version": "1.7.2"
  }
 },
 "nbformat": 4,
 "nbformat_minor": 4
}
