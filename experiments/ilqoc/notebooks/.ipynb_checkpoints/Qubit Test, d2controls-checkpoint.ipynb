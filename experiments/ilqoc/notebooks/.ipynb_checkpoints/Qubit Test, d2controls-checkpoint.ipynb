{
 "cells": [
  {
   "cell_type": "code",
   "execution_count": 2,
   "metadata": {},
   "outputs": [
    {
     "name": "stderr",
     "output_type": "stream",
     "text": [
      "\u001b[32m\u001b[1m  Activating\u001b[22m\u001b[39m project at `C:\\Users\\a7b\\Pico.jl`\n"
     ]
    }
   ],
   "source": [
    "import Pkg; Pkg.activate(\"C:/Users/a7b/Pico.jl\"); Pkg.instantiate()"
   ]
  },
  {
   "cell_type": "code",
   "execution_count": 3,
   "metadata": {},
   "outputs": [],
   "source": [
    "using Pico\n",
    "using PyPlot\n",
    "using QuantumOptics\n",
    "using ForwardDiff\n",
    "using Interpolations\n",
    "using LinearAlgebra\n",
    "using SparseArrays\n",
    "using OSQP"
   ]
  },
  {
   "cell_type": "code",
   "execution_count": 4,
   "metadata": {},
   "outputs": [
    {
     "data": {
      "text/plain": [
       "exp_frechet!"
      ]
     },
     "execution_count": 4,
     "metadata": {},
     "output_type": "execute_result"
    }
   ],
   "source": [
    "WDIR = joinpath(@__DIR__, \"../../\")\n",
    "include(joinpath(WDIR, \"experiments\", \"ilqoc\", \"measurement.jl\"))"
   ]
  },
  {
   "cell_type": "code",
   "execution_count": 5,
   "metadata": {},
   "outputs": [],
   "source": [
    "iter = 3000\n",
    "\n",
    "ω = 2π * 4.96 #GHz\n",
    "α = -2π * 0.143 #GHz\n",
    "levels = 2\n",
    "\n",
    "ψg = [1. + 0*im, 0]\n",
    "ψe = [0, 1. + 0*im]\n",
    "\n",
    "ψ1 = [ψg, ψe]\n",
    "ψf = [-im*ψe, -im*ψg]\n",
    "\n",
    "H_drift = α/2 * Pico.quad(levels)\n",
    "H_drive = [Pico.create(levels) + Pico.annihilate(levels),\n",
    "1im * (Pico.create(levels) - Pico.annihilate(levels))]\n",
    "\n",
    "sys = QuantumSystem(\n",
    "    H_drift, \n",
    "    H_drive,\n",
    "    ψ1 = ψ1,\n",
    "    ψf = ψf,\n",
    "    control_bounds = [2π * 19e-3,  2π * 19e-3]\n",
    ");"
   ]
  },
  {
   "cell_type": "code",
   "execution_count": 84,
   "metadata": {},
   "outputs": [],
   "source": [
    "T = 400\n",
    "Δt = 0.1\n",
    "Q = 200.\n",
    "R = 0.1\n",
    "cost = infidelity_cost\n",
    "hess = true\n",
    "pinqstate = true\n",
    "\n",
    "time = T * Δt\n",
    "\n",
    "options = Options(\n",
    "    max_iter = iter,\n",
    "    tol = 1e-5\n",
    ")\n",
    "\n",
    "prob = QuantumControlProblem(\n",
    "    sys,\n",
    "    T;\n",
    "    Δt = Δt,\n",
    "    Q = Q,\n",
    "    R = R,\n",
    "    eval_hessian = hess,\n",
    "    cost = cost,\n",
    "    pin_first_qstate = pinqstate,\n",
    "    options = options\n",
    ");"
   ]
  },
  {
   "cell_type": "code",
   "execution_count": 85,
   "metadata": {},
   "outputs": [
    {
     "name": "stdout",
     "output_type": "stream",
     "text": [
      "This is Ipopt version 3.14.4, running with linear solver MUMPS 5.4.1.\n",
      "\n",
      "Number of nonzeros in equality constraint Jacobian...:    36634\n",
      "Number of nonzeros in inequality constraint Jacobian.:        0\n",
      "Number of nonzeros in Lagrangian Hessian.............:    14723\n",
      "\n",
      "Total number of variables............................:     5580\n",
      "                     variables with only lower bounds:        0\n",
      "                variables with lower and upper bounds:      796\n",
      "                     variables with only upper bounds:        0\n",
      "Total number of equality constraints.................:     4788\n",
      "Total number of inequality constraints...............:        0\n",
      "        inequality constraints with only lower bounds:        0\n",
      "   inequality constraints with lower and upper bounds:        0\n",
      "        inequality constraints with only upper bounds:        0\n",
      "\n",
      "iter    objective    inf_pr   inf_du lg(mu)  ||d||  lg(rg) alpha_du alpha_pr  ls\n",
      "   0  3.9602918e-01 4.37e-01 7.24e-03  -1.0 0.00e+00    -  0.00e+00 0.00e+00   0\n",
      "   1  1.8450473e+01 3.17e-01 1.23e+01  -1.7 8.50e+00  -4.0 2.04e-02 2.75e-01f  1\n",
      "   2  1.7158469e+01 3.23e-03 2.00e+02  -1.7 2.50e+00  -4.5 1.77e-01 1.00e+00f  1\n",
      "   3  1.8751392e+00 1.25e-04 2.00e+02  -1.7 1.88e+00  -5.0 7.75e-01 1.00e+00f  1\n",
      "   4  7.4966962e-02 2.93e-04 7.15e-01  -1.7 5.85e-01  -5.4 1.00e+00 1.00e+00f  1\n",
      "   5  2.3169510e-02 1.01e-04 1.27e-01  -1.7 1.32e-01  -5.9 1.00e+00 1.00e+00h  1\n",
      "   6  1.2247648e-02 1.35e-06 5.39e-03  -2.5 1.40e-01  -6.4 1.00e+00 1.00e+00h  1\n",
      "   7  3.8216329e-03 7.98e-06 3.59e-02  -3.8 1.28e-01  -6.9 9.35e-01 1.00e+00h  1\n",
      "   8  9.5493283e-04 1.81e-05 1.80e-03  -3.8 6.04e-02  -7.8 1.00e+00 1.00e+00h  1\n",
      "   9  6.5904827e-04 2.71e-06 2.00e+02  -3.8 1.01e-02  -8.3 1.00e+00 1.00e+00h  1\n",
      "iter    objective    inf_pr   inf_du lg(mu)  ||d||  lg(rg) alpha_du alpha_pr  ls\n",
      "  10  6.6207781e-04 1.60e-08 3.42e-03  -3.8 1.30e-03  -8.8 1.00e+00 1.00e+00h  1\n",
      "  11  6.6205994e-04 6.04e-10 8.17e-06  -3.8 2.29e-04  -9.2 1.00e+00 1.00e+00h  1\n",
      "  12  5.2117685e-04 6.93e-07 2.00e+02  -4.0 6.22e-03  -9.7 1.00e+00 1.00e+00h  1\n",
      "  13  5.2112135e-04 1.96e-12 2.00e+02  -4.0 1.27e-05   0.1 1.00e+00 1.00e+00h  1\n",
      "  14  5.2096352e-04 1.59e-12 2.00e+02  -4.0 6.82e-06  -0.4 1.00e+00 1.00e+00h  1\n",
      "  15  5.2050353e-04 1.32e-11 3.97e-04  -4.0 1.98e-05  -0.8 1.00e+00 1.00e+00h  1\n",
      "  16  5.1920138e-04 1.12e-10 2.00e+02  -4.0 5.57e-05  -1.3 1.00e+00 1.00e+00h  1\n",
      "  17  5.1621195e-04 5.17e-10 2.18e-03  -4.0 1.30e-04  -1.8 1.00e+00 1.00e+00h  1\n",
      "  18  5.1102260e-04 1.68e-09 2.00e+02  -4.0 2.46e-04  -2.3 1.00e+00 1.00e+00h  1\n",
      "  19  5.0519479e-04 2.79e-09 2.00e+02  -4.0 3.44e-04  -2.7 1.00e+00 1.00e+00h  1\n",
      "iter    objective    inf_pr   inf_du lg(mu)  ||d||  lg(rg) alpha_du alpha_pr  ls\n",
      "  20  5.0367270e-04 1.16e-10 2.16e-03  -4.0 1.44e-04  -2.3 1.00e+00 1.00e+00F  1\n",
      "  21  5.0163978e-04 5.50e-10 5.42e-03  -4.0 1.74e-04  -2.8 1.00e+00 1.00e+00h  1\n",
      "  22  5.0098154e-04 7.73e-11 2.89e-07  -4.0 6.77e-05  -2.4 1.00e+00 1.00e+00h  1\n",
      "\n",
      "Number of Iterations....: 22\n",
      "\n",
      "                                   (scaled)                 (unscaled)\n",
      "Objective...............:   1.2524538511502766e-04    5.0098154046011065e-04\n",
      "Dual infeasibility......:   2.8948979308163203e-07    1.1579591723265281e-06\n",
      "Constraint violation....:   7.7334697673459019e-11    7.7334697673459019e-11\n",
      "Variable bound violation:   0.0000000000000000e+00    0.0000000000000000e+00\n",
      "Complementarity.........:   1.0000000000000002e-04    4.0000000000000007e-04\n",
      "Overall NLP error.......:   2.1310151976500982e-07    1.1579591723265281e-06\n",
      "\n",
      "\n",
      "Number of objective function evaluations             = 25\n",
      "Number of objective gradient evaluations             = 23\n",
      "Number of equality constraint evaluations            = 25\n",
      "Number of inequality constraint evaluations          = 0\n",
      "Number of equality constraint Jacobian evaluations   = 23\n",
      "Number of inequality constraint Jacobian evaluations = 0\n",
      "Number of Lagrangian Hessian evaluations             = 22\n",
      "Total seconds in IPOPT                               = 3.608\n",
      "\n",
      "EXIT: Optimal Solution Found.\n"
     ]
    }
   ],
   "source": [
    "#this will give us the nominal trajectory that we need to track\n",
    "solve!(prob)"
   ]
  },
  {
   "cell_type": "code",
   "execution_count": 86,
   "metadata": {},
   "outputs": [],
   "source": [
    "#Extract the solution\n",
    "Xopt = prob.trajectory.states\n",
    "Uopt = prob.trajectory.actions\n",
    "\n",
    "for i = 1:length(Xopt)\n",
    "    x = Xopt[i]\n",
    "    meas = zeros(0)\n",
    "    for s = 1:sys.nqstates\n",
    "        iso_state = x[slice(s, sys.isodim)]\n",
    "        append!(meas, meas_x_iso(iso_state))\n",
    "        append!(meas, meas_y_iso(iso_state))\n",
    "        append!(meas, meas_z_iso(iso_state))\n",
    "    end\n",
    "    Xopt[i] = [x[1:sys.n_wfn_states]; meas; x[(sys.n_wfn_states + 1):end]]\n",
    "end\n"
   ]
  },
  {
   "cell_type": "code",
   "execution_count": 87,
   "metadata": {},
   "outputs": [
    {
     "name": "stdout",
     "output_type": "stream",
     "text": [
      "18"
     ]
    }
   ],
   "source": [
    "n = sys.nstates + 3*sys.nqstates\n",
    "print(n)\n",
    "m = sys.ncontrols\n",
    "\n",
    "xnom = zeros(n, prob.T)\n",
    "\n",
    "for k = 1:prob.T\n",
    "    xnom[:, k] .= Xopt[k]\n",
    "end\n",
    "\n",
    "unom = zeros(m, prob.T - 1)\n",
    "utraj = zeros(m, prob.T - 1)\n",
    "\n",
    "for k = 1:prob.T - 1\n",
    "    unom[:, k] .= Uopt[k]\n",
    "    utraj[:, k] .= Uopt[k]\n",
    "end\n",
    "\n"
   ]
  },
  {
   "cell_type": "code",
   "execution_count": 88,
   "metadata": {},
   "outputs": [
    {
     "data": {
      "text/plain": [
       "discrete_dynamics (generic function with 1 method)"
      ]
     },
     "execution_count": 88,
     "metadata": {},
     "output_type": "execute_result"
    }
   ],
   "source": [
    "function discrete_dynamics(x, u)\n",
    "    G = sys.G_drift + u[1] * sys.G_drives[1] + u[2] * sys.G_drives[2]\n",
    "    h_prop = exp(G * Δt)\n",
    "    state1_ = x[1:4]\n",
    "    state2_ = x[5:8]\n",
    "    state1 = h_prop * state1_\n",
    "    state2 = h_prop * state2_\n",
    "    meas_1 = [meas_x_iso(state1), meas_y_iso(state1), meas_z_iso(state1)]\n",
    "    meas_2 = [meas_x_iso(state2), meas_y_iso(state2), meas_z_iso(state2)]\n",
    "    controls = x[15:16] + x[17:18] .* Δt\n",
    "    dcontrols = x[17:18] + u[1:2] .* Δt\n",
    "    return [state1; state2; meas_1; meas_2; controls; dcontrols]\n",
    "end"
   ]
  },
  {
   "cell_type": "code",
   "execution_count": 89,
   "metadata": {},
   "outputs": [],
   "source": [
    "#Compute linearization of dynamics using nominal dynamics + trajectory\n",
    "\n",
    "A = zeros(n, n, T-1)\n",
    "B = zeros(n, m, T-1)  \n",
    "\n",
    "for k = 1:(T-1)\n",
    "    A[:, :, k] .= ForwardDiff.jacobian(x->discrete_dynamics(x, Uopt[k]), Xopt[k])\n",
    "    B[:, :, k] .= ForwardDiff.jacobian(u->discrete_dynamics(Xopt[k], u), Uopt[k])\n",
    "end    "
   ]
  },
  {
   "cell_type": "code",
   "execution_count": 96,
   "metadata": {},
   "outputs": [
    {
     "data": {
      "text/plain": [
       "Operator(dim=2x2)\n",
       "  basis: Basis(dim=2)\n",
       " -0.345499+0.0im            0.0-0.938419im\n",
       "       0.0+0.938419im  0.345499+0.0im"
      ]
     },
     "execution_count": 96,
     "metadata": {},
     "output_type": "execute_result"
    }
   ],
   "source": [
    "basis = GenericBasis(2)\n",
    "ketψg = Ket(basis, ψg)\n",
    "ketψe = Ket(basis, ψe)\n",
    "\n",
    "σx_noisy = Operator(basis, basis, noisy_sigmax(error = 0.13))\n",
    "σy_noisy = Operator(basis, basis, noisy_sigmay(error = 0.13))"
   ]
  },
  {
   "cell_type": "code",
   "execution_count": 105,
   "metadata": {},
   "outputs": [],
   "source": [
    "xtraj = zeros(n, T)\n",
    "xtraj[17, :] .= [0. ; cumsum(utraj[1, :]*Δt)]\n",
    "xtraj[18, :] .= [0. ; cumsum(utraj[2, :]*Δt)]\n",
    "xtraj[15, :] .= [0.;cumsum(xtraj[17, :]*Δt)][1:end-1]\n",
    "xtraj[16, :] .= [0.;cumsum(xtraj[18, :]*Δt)][1:end-1];"
   ]
  },
  {
   "cell_type": "code",
   "execution_count": 106,
   "metadata": {},
   "outputs": [],
   "source": [
    "tspan = 0.0:Δt:39.9\n",
    "uint_1 = constant_interpolation(tspan, xtraj[15,:])\n",
    "uint_2 = constant_interpolation(tspan, xtraj[16,:]);"
   ]
  },
  {
   "cell_type": "code",
   "execution_count": 107,
   "metadata": {},
   "outputs": [
    {
     "data": {
      "text/plain": [
       "400-element Vector{Float64}:\n",
       " -1.0\n",
       " -0.9999391009408953\n",
       " -0.999877150317393\n",
       " -0.9998009961337189\n",
       " -0.9996772965313927\n",
       " -0.9994572355339865\n",
       " -0.9990811693075177\n",
       " -0.998484280297872\n",
       " -0.9975987468305983\n",
       " -0.9963585206726955\n",
       " -0.9947033561180372\n",
       " -0.9925718239193725\n",
       " -0.9899183287110068\n",
       "  ⋮\n",
       " -0.9826280464787523\n",
       " -0.9825659578484953\n",
       " -0.9824704489686111\n",
       " -0.9823555763903274\n",
       " -0.9822318918098658\n",
       " -0.9821080027109594\n",
       " -0.9819905158795897\n",
       " -0.981883241389215\n",
       " -0.9817883312912792\n",
       " -0.9817057778757563\n",
       " -0.9816335684848457\n",
       " -0.9815700806260779"
      ]
     },
     "execution_count": 107,
     "metadata": {},
     "output_type": "execute_result"
    }
   ],
   "source": [
    "basis = GenericBasis(2)\n",
    "ketψg = Ket(basis, ψg)\n",
    "ketψe = Ket(basis, ψe)\n",
    "\n",
    "#True dynamics with Lindblad master equation\n",
    "Ts = [tspan;]\n",
    "T1 = 100e2/3\n",
    "T2 = 150e2/3\n",
    "nth = 0.015\n",
    "rates = [1/T1 * (1+nth), 1/T1 * nth, 1/T2 - 1/2/T1]\n",
    "J = [Operator(basis, basis, Pico.annihilate(2)), Operator(basis, basis, Pico.create(2)),\n",
    "     Operator(basis, basis, Pico.number(2))]\n",
    "Jdagger = dagger.(J)\n",
    "\n",
    "function f(t, ρ)\n",
    "    Hop = Operator(basis, basis, H_drift + uint_1(t)*H_drive[1] + uint_2(t) * H_drive[2])\n",
    "    return Hop, J, Jdagger\n",
    "end\n",
    "\n",
    "toutg, ρgt = timeevolution.master_dynamic(Ts, ketψg, f, rates = rates)\n",
    "toute, ρet = timeevolution.master_dynamic(Ts, ketψe, f, rates = rates)\n",
    "\n",
    "expectxg = real(expect(σx_noisy, ρgt))\n",
    "expectyg = real(expect(σy_noisy, ρgt))\n",
    "expectzg = real(expect(Operator(basis, basis, sigmaz()), ρgt))\n",
    "\n",
    "expectxe = real(expect(σx_noisy, ρet))\n",
    "expectye = real(expect(σy_noisy, ρet))\n",
    "expectze = real(expect(Operator(basis, basis, sigmaz()), ρet))\n"
   ]
  },
  {
   "cell_type": "code",
   "execution_count": 108,
   "metadata": {},
   "outputs": [],
   "source": [
    "xtraj[1:8, :] .= xnom[1:8, :]\n",
    "xtraj[9, :] .= expectxg\n",
    "xtraj[10,:] .= expectyg\n",
    "xtraj[11, :] .= expectzg\n",
    "xtraj[12, :] .= expectxe\n",
    "xtraj[13, :] .= expectye\n",
    "xtraj[14, :] .= expectze;"
   ]
  },
  {
   "cell_type": "code",
   "execution_count": 109,
   "metadata": {},
   "outputs": [
    {
     "data": {
      "image/png": "[encoded data removed]",
      "text/plain": [
       "Figure(PyObject <Figure size 640x480 with 1 Axes>)"
      ]
     },
     "metadata": {},
     "output_type": "display_data"
    },
    {
     "data": {
      "text/plain": [
       "1-element Vector{PyCall.PyObject}:\n",
       " PyObject <matplotlib.lines.Line2D object at 0x0000000001CCBDA0>"
      ]
     },
     "execution_count": 109,
     "metadata": {},
     "output_type": "execute_result"
    }
   ],
   "source": [
    "plot(xtraj[14, :])\n",
    "plot(xnom[14, :])"
   ]
  },
  {
   "cell_type": "code",
   "execution_count": 110,
   "metadata": {},
   "outputs": [
    {
     "data": {
      "image/png": "[encoded data removed]",
      "text/plain": [
       "Figure(PyObject <Figure size 640x480 with 1 Axes>)"
      ]
     },
     "metadata": {},
     "output_type": "display_data"
    },
    {
     "data": {
      "text/plain": [
       "1-element Vector{PyCall.PyObject}:\n",
       " PyObject <matplotlib.lines.Line2D object at 0x000000004E9BF550>"
      ]
     },
     "execution_count": 110,
     "metadata": {},
     "output_type": "execute_result"
    }
   ],
   "source": [
    "plot([Xopt[i][15:16] for i = 1:length(Xopt)])\n",
    "plot(xtraj[15,:])\n",
    "plot(xtraj[16, :])"
   ]
  },
  {
   "cell_type": "code",
   "execution_count": 103,
   "metadata": {},
   "outputs": [
    {
     "name": "stdout",
     "output_type": "stream",
     "text": [
      "-----------------------------------------------------------------\n",
      "           OSQP v0.6.2  -  Operator Splitting QP Solver\n",
      "              (c) Bartolomeo Stellato,  Goran Banjac\n",
      "        University of Oxford  -  Stanford University 2021\n",
      "-----------------------------------------------------------------\n",
      "problem:  variables n = 7980, constraints m = 7980\n",
      "          nnz(P) + nnz(A) = 52605\n",
      "settings: linear system solver = qdldl,\n",
      "          eps_abs = 1.0e-008, eps_rel = 1.0e-008,\n",
      "          eps_prim_inf = 1.0e-008, eps_dual_inf = 1.0e-008,\n",
      "          rho = 1.00e-001 (adaptive),\n",
      "          sigma = 1.00e-006, alpha = 1.60, max_iter = 4000\n",
      "          check_termination: on (interval 25),\n",
      "          scaling: on, scaled_termination: off\n",
      "          warm start: on, polish: on, time_limit: off\n",
      "\n",
      "iter  objective    pri res    dua res    rho        time\n",
      "   1 -2.7851e+001  1.23e-002  2.09e+001  1.00e-001  3.45e-002s\n",
      " 200 -1.7105e+001  5.79e-005  3.51e-004  6.36e-001  1.98e-001s\n",
      " 400 -1.6959e+001  3.69e-007  4.36e-005  3.18e+000  3.45e-001s\n",
      " 600 -1.6959e+001  9.81e-008  8.99e-006  5.89e-001  5.00e-001s\n",
      " 750 -1.6959e+001  6.55e-009  3.25e-007  5.89e-001  6.18e-001s\n",
      "plsh -1.6959e+001  1.60e-009  2.55e-009  ---------  6.42e-001s\n",
      "\n",
      "status:               solved\n",
      "solution polish:      successful\n",
      "number of iterations: 750\n",
      "optimal objective:    -16.9594\n",
      "run time:             6.42e-001s\n",
      "optimal rho estimate: 7.20e-001\n",
      "\n"
     ]
    }
   ],
   "source": [
    "#Set up the ILC QP\n",
    "\n",
    "#Cost   \n",
    "Qf = Diagonal([fill(0., sys.isodim*sys.nqstates); [5., 5., 800.]; [5., 5. 800.]; fill(5., 4)])\n",
    "\n",
    "Qilc = sparse(Diagonal([fill(0., sys.isodim*sys.nqstates); fill(1., 3*sys.nqstates); fill(2., 4)]))\n",
    "\n",
    "Rilc = sparse(Diagonal([0.001, 0.001]))\n",
    "H = blockdiag(kron(I(T-2), blockdiag(Rilc, Qilc)), Rilc, sparse(Qf))\n",
    "q = zeros((n+m)*(T-1))\n",
    "for k = 1:(T-2)\n",
    "   q[(k-1)*(m+n) .+ (1:(m+n))] .= [zeros(sys.ncontrols); Qilc*(xtraj[:,k+1] - Xopt[k+1])] \n",
    "end\n",
    "q[(T-2)*(m+n) .+ (1:(m+n))] .= [zeros(sys.ncontrols); Qf*(xtraj[:,T] - Xopt[T])]\n",
    "\n",
    "#Constraints\n",
    "U = kron(I(T-1), [I zeros(m,n)]) #Matrix that picks out all u\n",
    "C = kron(I(T-1), [zeros(m,16) I zeros(m,2)]) #picks out all cntrls\n",
    "X = kron(I(T-1), [zeros(n,m) I]) #Matrix that picks out all x\n",
    "D = spzeros(n*(T-1), (n+m)*(T-1)) #dynamics constraints\n",
    "\n",
    "D[1:n,1:m] .= B[:,:,1]\n",
    "D[1:n,(m+1):(m+n)] .= -I(n)\n",
    "for k = 1:(T-2)\n",
    "    D[(k*n).+(1:n), (m+(k-1)*(n+m)).+(1:(2*n+m))] .= [A[:,:,k+1] B[:,:,k+1] -I]\n",
    "end \n",
    "\n",
    "c_bnd = [fill(2π*19e-3, 2*(T-2)); zeros(2)]\n",
    "ctrajF = reduce(vcat, xtraj[15:16,2:end])\n",
    "lb = [zeros(n*(T-1)); -c_bnd-ctrajF]\n",
    "ub = [zeros(n*(T-1)); c_bnd-ctrajF]\n",
    "\n",
    "qp = OSQP.Model()\n",
    "OSQP.setup!(qp, P=H, q=q, A=[D; C], l=lb, u=ub, eps_abs=1e-8, eps_rel=1e-8, eps_prim_inf = 1.0e-8, eps_dual_inf = 1.0e-8, polish=1)\n",
    "results = OSQP.solve!(qp)\n",
    "ztraj = results.x;"
   ]
  },
  {
   "cell_type": "code",
   "execution_count": 104,
   "metadata": {},
   "outputs": [
    {
     "data": {
      "text/plain": [
       "2×41 Matrix{Float64}:\n",
       "  0.0329702    0.007095     0.0073697   …   7.04122e-5  -2.84813e-6\n",
       " -0.00164423  -0.00170281  -0.00174446     -0.00174885  -0.00179691"
      ]
     },
     "metadata": {},
     "output_type": "display_data"
    },
    {
     "data": {
      "text/plain": [
       "2×41 Matrix{Float64}:\n",
       " -0.00671874  -0.00709501  -0.00736972  …  -7.04283e-5  2.83205e-6\n",
       "  2.63326e-6   2.79759e-6   2.92567e-6      2.7825e-7   2.29148e-7"
      ]
     },
     "metadata": {},
     "output_type": "display_data"
    },
    {
     "data": {
      "text/plain": [
       "2×41 Matrix{Float64}:\n",
       "  0.0262515  -1.69454e-8  -1.57237e-8  …  -1.60855e-8  -1.6082e-8\n",
       " -0.0016416  -0.00170001  -0.00174153     -0.00174858  -0.00179668"
      ]
     },
     "metadata": {},
     "output_type": "display_data"
    }
   ],
   "source": [
    "Δu = reshape(U*ztraj, 2, :)\n",
    "display(Δu[:, 20:60])\n",
    "display(utraj[:, 20:60])\n",
    "utraj = utraj+Δu\n",
    "display(utraj[:, 20:60])"
   ]
  }
 ],
 "metadata": {
  "kernelspec": {
   "display_name": "Julia 1.7.2",
   "language": "julia",
   "name": "julia-1.7"
  },
  "language_info": {
   "file_extension": ".jl",
   "mimetype": "application/julia",
   "name": "julia",
   "version": "1.7.2"
  }
 },
 "nbformat": 4,
 "nbformat_minor": 4
}
