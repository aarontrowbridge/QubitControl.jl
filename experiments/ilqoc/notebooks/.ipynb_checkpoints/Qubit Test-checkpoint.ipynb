{
 "cells": [
  {
   "cell_type": "code",
   "execution_count": 6,
   "metadata": {},
   "outputs": [
    {
     "name": "stderr",
     "output_type": "stream",
     "text": [
      "\u001b[32m\u001b[1m  Activating\u001b[22m\u001b[39m project at `C:\\Users\\a7b\\Pico.jl`\n"
     ]
    }
   ],
   "source": [
    "import Pkg; Pkg.activate(\"C:/Users/a7b/Pico.jl\"); Pkg.instantiate()"
   ]
  },
  {
   "cell_type": "code",
   "execution_count": 124,
   "metadata": {},
   "outputs": [
    {
     "name": "stderr",
     "output_type": "stream",
     "text": [
      "┌ Info: Precompiling OSQP [ab2f91bb-94b4-55e3-9ba0-7f65df51de79]\n",
      "└ @ Base loading.jl:1423\n"
     ]
    }
   ],
   "source": [
    "using Pico\n",
    "using PyPlot\n",
    "using QuantumOptics\n",
    "using ForwardDiff\n",
    "using Interpolations\n",
    "using LinearAlgebra\n",
    "using SparseArrays\n",
    "using OSQP"
   ]
  },
  {
   "cell_type": "code",
   "execution_count": 22,
   "metadata": {},
   "outputs": [
    {
     "data": {
      "text/plain": [
       "exp_frechet!"
      ]
     },
     "execution_count": 22,
     "metadata": {},
     "output_type": "execute_result"
    }
   ],
   "source": [
    "WDIR = joinpath(@__DIR__, \"../../\")\n",
    "include(joinpath(WDIR, \"experiments\", \"ilqoc\", \"measurement.jl\"))"
   ]
  },
  {
   "cell_type": "code",
   "execution_count": 9,
   "metadata": {},
   "outputs": [],
   "source": [
    "iter = 3000\n",
    "\n",
    "ω = 2π * 4.96 #GHz\n",
    "α = -2π * 0.143 #GHz\n",
    "levels = 2\n",
    "\n",
    "ψg = [1. + 0*im, 0]\n",
    "ψe = [0, 1. + 0*im]\n",
    "\n",
    "ψ1 = [ψg, ψe]\n",
    "ψf = [-im*ψe, -im*ψg]\n",
    "\n",
    "H_drift = α/2 * Pico.quad(levels)\n",
    "H_drive = [Pico.create(levels) + Pico.annihilate(levels),\n",
    "1im * (Pico.create(levels) - Pico.annihilate(levels))]\n",
    "\n",
    "sys = QuantumSystem(\n",
    "    H_drift, \n",
    "    H_drive,\n",
    "    ψ1 = ψ1,\n",
    "    ψf = ψf,\n",
    "    control_bounds = [2π * 19e-3,  2π * 19e-3]\n",
    ");"
   ]
  },
  {
   "cell_type": "code",
   "execution_count": 10,
   "metadata": {},
   "outputs": [],
   "source": [
    "T = 400\n",
    "Δt = 0.1\n",
    "Q = 200.\n",
    "R = 0.1\n",
    "cost = infidelity_cost\n",
    "hess = true\n",
    "pinqstate = true\n",
    "\n",
    "time = T * Δt\n",
    "\n",
    "options = Options(\n",
    "    max_iter = iter,\n",
    "    tol = 1e-5\n",
    ")\n",
    "\n",
    "prob = QuantumControlProblem(\n",
    "    sys,\n",
    "    T;\n",
    "    Δt = Δt,\n",
    "    Q = Q,\n",
    "    R = R,\n",
    "    eval_hessian = hess,\n",
    "    cost = cost,\n",
    "    pin_first_qstate = pinqstate,\n",
    "    options = options\n",
    ");"
   ]
  },
  {
   "cell_type": "code",
   "execution_count": 11,
   "metadata": {},
   "outputs": [
    {
     "name": "stdout",
     "output_type": "stream",
     "text": [
      "\n",
      "******************************************************************************\n",
      "This program contains Ipopt, a library for large-scale nonlinear optimization.\n",
      " Ipopt is released as open source code under the Eclipse Public License (EPL).\n",
      "         For more information visit https://github.com/coin-or/Ipopt\n",
      "******************************************************************************\n",
      "\n",
      "This is Ipopt version 3.14.4, running with linear solver MUMPS 5.4.1.\n",
      "\n",
      "Number of nonzeros in equality constraint Jacobian...:    36634\n",
      "Number of nonzeros in inequality constraint Jacobian.:        0\n",
      "Number of nonzeros in Lagrangian Hessian.............:    14723\n",
      "\n",
      "Total number of variables............................:     5580\n",
      "                     variables with only lower bounds:        0\n",
      "                variables with lower and upper bounds:      796\n",
      "                     variables with only upper bounds:        0\n",
      "Total number of equality constraints.................:     4788\n",
      "Total number of inequality constraints...............:        0\n",
      "        inequality constraints with only lower bounds:        0\n",
      "   inequality constraints with lower and upper bounds:        0\n",
      "        inequality constraints with only upper bounds:        0\n",
      "\n",
      "iter    objective    inf_pr   inf_du lg(mu)  ||d||  lg(rg) alpha_du alpha_pr  ls\n",
      "   0  3.8357237e-01 4.84e-01 8.40e-03  -1.0 0.00e+00    -  0.00e+00 0.00e+00   0\n",
      "   1  1.3798613e+01 3.54e-01 1.11e+01  -1.7 7.37e+00  -4.0 2.17e-02 2.68e-01f  1\n",
      "   2  1.5062093e+01 2.80e-03 3.13e+00  -1.7 2.44e+00  -4.5 1.50e-01 1.00e+00f  1\n",
      "   3  2.2028081e+00 1.58e-04 2.00e+02  -1.7 1.36e+00  -5.0 6.68e-01 1.00e+00f  1\n",
      "   4  1.7327894e-01 1.96e-04 9.02e-01  -1.7 7.11e-01  -5.4 1.00e+00 1.00e+00f  1\n",
      "   5  2.2599838e-02 1.13e-04 2.00e+02  -1.7 2.19e-01  -5.9 1.00e+00 1.00e+00f  1\n",
      "   6  2.2718068e-02 2.09e-06 8.56e-02  -1.7 2.66e-02  -6.4 1.00e+00 1.00e+00h  1\n",
      "   7  1.2042907e-02 1.36e-06 2.54e-02  -2.5 1.37e-01  -6.9 1.00e+00 1.00e+00h  1\n",
      "   8  3.7617629e-03 7.64e-06 1.78e-02  -3.8 1.25e-01  -7.3 9.38e-01 1.00e+00h  1\n",
      "   9  9.2908965e-04 1.74e-05 2.00e+02  -3.8 5.96e-02  -7.8 1.00e+00 1.00e+00h  1\n",
      "iter    objective    inf_pr   inf_du lg(mu)  ||d||  lg(rg) alpha_du alpha_pr  ls\n",
      "  10  7.3414870e-04 2.30e-06 2.00e+02  -3.8 1.08e-02  -2.9 1.00e+00 1.00e+00h  1\n",
      "  11  7.3298094e-04 3.22e-10 2.00e+02  -3.8 1.15e-04  -0.6 1.00e+00 1.00e+00h  1\n",
      "  12  7.2993792e-04 1.13e-09 2.00e+02  -3.8 2.08e-04  -1.1 1.00e+00 1.00e+00h  1\n",
      "  13  7.2281977e-04 8.08e-09 1.09e-02  -3.8 5.32e-04  -1.6 1.00e+00 1.00e+00h  1\n",
      "  14  7.0992942e-04 4.52e-08 2.35e-02  -3.8 1.29e-03  -2.1 1.00e+00 1.00e+00h  1\n",
      "  15  7.1044556e-04 4.52e-08 2.00e+02  -3.8 1.19e+01  -2.6 2.25e-02 4.96e-05h 10\n",
      "  16  6.8588784e-04 2.90e-06 1.60e+00  -3.8 1.19e-02  -3.0 1.00e+00 1.00e+00h  1\n",
      "  17  6.8570730e-04 3.22e-10 2.00e+02  -3.8 1.25e-04   0.1 1.00e+00 1.00e+00h  1\n",
      "  18  6.8561312e-04 2.88e-13 2.00e+02  -3.8 8.84e-05  -0.4 1.00e+00 1.00e+00F  1\n",
      "  19  6.8533442e-04 4.06e-10 2.00e+02  -3.8 8.08e-05  -0.8 1.00e+00 1.00e+00h  1\n",
      "iter    objective    inf_pr   inf_du lg(mu)  ||d||  lg(rg) alpha_du alpha_pr  ls\n",
      "  20  6.8600296e-04 4.63e-10 4.77e-03  -3.8 2.28e-04  -1.3 1.00e+00 1.00e+00F  1\n",
      "  21  6.8234579e-04 1.44e-08 2.00e+02  -3.8 5.19e-04  -1.8 1.00e+00 1.00e+00h  1\n",
      "  22  6.8234409e-04 1.44e-08 2.54e-03  -3.8 1.30e-03  -2.3 1.00e+00 5.96e-08h 25\n",
      "  23  5.7644446e-04 3.10e-07 3.57e-02  -4.0 4.87e-03  -2.8 1.00e+00 1.00e+00h  1\n",
      "  24  5.2227198e-04 2.02e-07 4.39e-02  -4.0 2.93e-03  -3.2 1.00e+00 1.00e+00h  1\n",
      "  25  5.1419917e-04 8.34e-09 6.47e-03  -4.0 6.30e-04  -2.8 1.00e+00 1.00e+00h  1\n",
      "  26  5.0641101e-04 1.63e-08 1.30e-02  -4.0 1.09e-03  -3.3 1.00e+00 1.00e+00h  1\n",
      "  27r 5.0641101e-04 1.63e-08 8.11e+01  -4.0 0.00e+00  -3.8 0.00e+00 4.77e-07R 22\n",
      "  28r 6.9869113e-04 6.55e-07 8.93e-06  -4.0 1.17e-02    -  1.00e+00 1.00e+00f  1\n",
      "  29r 6.9804549e-04 1.69e-12 9.84e-09  -4.0 8.65e-06    -  1.00e+00 1.00e+00h  1\n",
      "iter    objective    inf_pr   inf_du lg(mu)  ||d||  lg(rg) alpha_du alpha_pr  ls\n",
      "  30  5.0358472e-04 1.08e-08 4.46e-02  -4.0 1.19e-02  -4.2 1.00e+00 1.00e+00F  1\n",
      "  31  4.9877838e-04 4.58e-10 2.00e+02  -4.0 8.77e-05  -2.9 1.00e+00 1.00e+00h  1\n",
      "  32  4.9809403e-04 3.22e-10 2.16e-03  -4.0 1.09e-04  -3.4 1.00e+00 1.00e+00F  1\n",
      "  33  4.9722752e-04 2.31e-10 2.00e+02  -4.0 1.52e-04  -3.9 1.00e+00 1.00e+00h  1\n",
      "  34  4.9695476e-04 6.48e-11 7.69e-04  -4.0 8.52e-05  -4.3 1.00e+00 1.00e+00h  1\n",
      "  35  4.9691582e-04 5.55e-12 1.92e-08  -4.0 2.72e-05  -4.8 1.00e+00 1.00e+00h  1\n",
      "\n",
      "Number of Iterations....: 35\n",
      "\n",
      "                                   (scaled)                 (unscaled)\n",
      "Objective...............:   1.2422895614086566e-04    4.9691582456346266e-04\n",
      "Dual infeasibility......:   1.9154317211543884e-08    7.6617268846175535e-08\n",
      "Constraint violation....:   5.5490048320172569e-12    5.5490048320172569e-12\n",
      "Variable bound violation:   0.0000000000000000e+00    0.0000000000000000e+00\n",
      "Complementarity.........:   1.0000000000000000e-04    4.0000000000000002e-04\n",
      "Overall NLP error.......:   1.9154317211543884e-08    7.6617268846175535e-08\n",
      "\n",
      "\n",
      "Number of objective function evaluations             = 100\n",
      "Number of objective gradient evaluations             = 35\n",
      "Number of equality constraint evaluations            = 100\n",
      "Number of inequality constraint evaluations          = 0\n",
      "Number of equality constraint Jacobian evaluations   = 37\n",
      "Number of inequality constraint Jacobian evaluations = 0\n",
      "Number of Lagrangian Hessian evaluations             = 35\n",
      "Total seconds in IPOPT                               = 24.819\n",
      "\n",
      "EXIT: Optimal Solution Found.\n"
     ]
    }
   ],
   "source": [
    "#this will give us the nominal trajectory that we need to track\n",
    "solve!(prob)"
   ]
  },
  {
   "cell_type": "code",
   "execution_count": 12,
   "metadata": {},
   "outputs": [
    {
     "data": {
      "text/plain": [
       "400-element Vector{Vector{Float64}}:\n",
       " [1.0, 0.0, 0.0, 0.0, 0.0, 1.0, 0.0, 0.0, 0.0, 0.0, 0.0, 0.0]\n",
       " [1.0, 0.0, 0.0, 0.0, 1.3290397209583414e-23, 1.0, 1.4050445759102134e-23, -2.6088058816849602e-24, 0.0, -3.381248775037841e-23, 0.0033212506014433773, 6.008512028806791e-9]\n",
       " [1.0000000000000107, -3.381248775637921e-24, 1.748115765969762e-27, -2.1064858766735392e-34, -6.328332044033418e-24, 1.0, -1.6608259756915278e-19, 1.236012562643803e-23, 0.00033212506014433776, 6.008512028806451e-10, 0.006223491846257165, 1.1159556390114824e-8]\n",
       " [0.9999999994484705, 6.008512027875725e-11, -1.1044052673094165e-27, -3.321250600934575e-5, -6.008512027887047e-11, 0.9999999994484647, -3.3212506009345644e-5, 1.4022776449406108e-23, 0.0009544742447700543, 1.716806841892128e-9, 0.008734014624692973, 1.5509345709573143e-8]\n",
       " [0.999999991723317, 2.3176580388236272e-10, -3.303696759261897e-17, -0.00012865993016165236, -2.317658038827578e-10, 0.9999999917233112, -0.0001286599301616517, 3.303697885305784e-17, 0.0018278757072393503, 3.2677414128494453e-9, 0.010879760447425845, 1.9113450579339035e-8]\n",
       " [0.9999999515002337, 5.585399370721956e-10, -3.543295546580198e-16, -0.00031144749637514727, -5.585399370732087e-10, 0.9999999515002279, -0.00031144749637514554, 3.543295609742548e-16, 0.002915851751981935, 5.1790864707833495e-9, 0.01268718034733492, 2.2026524694507006e-8]\n",
       " [0.9999998181758084, 1.0764485290976764e-9, -1.9155320097235463e-15, -0.0006030326407483853, -1.076448529099663e-9, 0.9999998181758025, -0.0006030326407483819, 1.9155320079953485e-15, 0.004184569786715427, 7.381738940234049e-9, 0.014182113901004713, 2.430206231560048e-8]\n",
       " [0.9999994782794962, 1.8146221760357327e-9, -7.221955797336857e-15, -0.0010214894803599378, -1.8146221760390976e-9, 0.9999994782794904, -0.001021489480359932, 7.221955806835635e-15, 0.005602781176815899, 9.811945171794095e-9, 0.01538968659563583, 2.5992186408101637e-8]\n",
       " [0.9999987490056245, 2.7958158501263716e-9, -2.1640484261595412e-14, -0.001581767120976819, -2.795815850131592e-9, 0.9999987490056187, -0.0015817671209768101, 2.1640484288644556e-14, 0.007141749836379482, 1.2411163812604261e-8, 0.016334223772704045, 2.71474657711368e-8]\n",
       " [0.9999973643245809, 4.036929863694546e-9, -5.519734214419185e-14, -0.0022959407572071097, -4.036929863702138e-9, 0.999997364324575, -0.0022959407572070967, 5.5197342182384054e-14, 0.008775172213649887, 1.5125910389717937e-8, 0.017039179439481755, 2.781675944361273e-8]\n",
       " [0.9999949645800545, 5.5495151546815596e-9, -1.2487842158506725e-13, -0.0031734546878927723, -5.549515154691914e-9, 0.9999949645800488, -0.0031734546878927536, 1.2487842164284126e-13, 0.010479090157598063, 1.790758633407921e-8, 0.017527078344514953, 2.8047086666901128e-8]\n",
       " [0.9999910900349536, 7.3402613269273234e-9, -2.574209543265089e-13, -0.004221356524762616, -7.340261326941041e-9, 0.9999910900349478, -0.004221356524762592, 2.5742095442443437e-13, 0.01223179799204956, 2.0712295000769323e-8, 0.017819469850179164, 2.7883520687868104e-8]\n",
       " [0.9999851784803491, 9.411466150093325e-9, -4.92564278085152e-13, -0.0054445220133717605, -9.411466150110534e-9, 0.9999851784803433, -0.005444522013371729, 4.925642782140308e-13, 0.014013744977067475, 2.350064706955612e-8, 0.017936892290709744, 2.736910470323397e-8]\n",
       " ⋮\n",
       " [0.006845686950778894, 6.718316278973319e-13, -1.3637605063097803e-8, -0.9999765680105797, -6.71829500675156e-13, 0.006845686950778866, -0.9999765680105739, 1.363760506471111e-8, 0.014013373903615277, 2.747985507400406e-8, -0.017819010563103616, -3.3420925571834865e-8]\n",
       " [0.005444376057139221, 3.728207318781195e-13, -1.0889672225075423e-8, -0.9999851792748617, -3.728186031316323e-13, 0.0054443760571392, -0.999985179274856, 1.0889672226689272e-8, 0.012231472847304916, 2.4137762516820578e-8, -0.017526622784686325, -3.3347708979761066e-8]\n",
       " [0.0042212430818565115, 1.9466887563043782e-13, -8.475924546987465e-9, -0.9999910905137412, -1.9466674556654654e-13, 0.0042212430818564985, -0.9999910905137354, 8.475924548599025e-9, 0.010478810568836282, 2.0802991618844466e-8, -0.017038733138547396, -3.283920338922661e-8]\n",
       " [0.0031733692032853106, 9.436514671091325e-14, -6.395639781210898e-9, -0.9999949648512784, -9.436301552148675e-14, 0.0031733692032853036, -0.9999949648512726, 6.3956397828219675e-9, 0.008774937254981543, 1.7519071279921816e-8, -0.01633379290553197, -3.1846843320908484e-8]\n",
       " [0.0022958787682010313, 4.1683932939736654e-14, -4.643739279406336e-9, -0.9999973644668705, -4.1681800806956096e-14, 0.0022958787682010296, -0.9999973644668646, 4.643739281016188e-9, 0.007141557964428346, 1.4334386947830965e-8, -0.015389278006697819, -3.0319865527649046e-8]\n",
       " [0.0015817243190568793, 1.6334170952415107e-14, -3.210303308464575e-9, -0.9999987490733081, -1.633203805397364e-14, 0.0015817243190568817, -0.9999987490733023, 3.2103033100738912e-9, 0.005602630163758564, 1.1302400395066052e-8, -0.0141817351293362, -2.8205418367219025e-8]\n",
       " [0.001021461779707052, 5.448996030122833e-15, -2.080064236975e-9, -0.9999994783077807, -5.446862533598935e-15, 0.0010214617797070576, -0.9999994783077749, 2.080064238584025e-9, 0.004184456650824944, 8.481858558344131e-9, -0.012686839649821336, -2.5448698642953588e-8]\n",
       " [0.0006030162536732474, 1.4448853508038372e-15, -1.231878664313875e-9, -0.9999998181856825, -1.4427514085927729e-15, 0.0006030162536732556, -0.9999998181856767, 1.2318786659225891e-9, 0.0029157726858428097, 5.936988694048783e-9, -0.010879466820114637, -2.199311802096553e-8]\n",
       " [0.0003114390159114123, 2.6722901589718766e-16, -6.381798578914767e-10, -0.9999999515028686, -2.650947637486746e-16, 0.00031143901591142224, -0.9999999515028628, 6.381798594999567e-10, 0.0018278260038313463, 3.7376768919522255e-9, -0.008733777821771652, -1.77805011556889e-8]\n",
       " [0.00012865642003835067, 2.4914875030786756e-17, -2.6441217794157233e-10, -0.9999999917237627, -2.2780429021164693e-17, 0.0001286564200383616, -0.999999991723757, 2.644121795498968e-10, 0.0009544482216541809, 1.9596267763833342e-9, -0.006223322396272483, -1.2751317665710475e-8]\n",
       " [3.321159819760538e-5, 1.3916183436465948e-30, -6.844950097074696e-11, -0.9999999994484948, 2.1345470189158066e-18, 3.321159819761686e-5, -0.999999999448489, 6.8449502578997e-11, 0.00033211598202693266, 6.844950098122864e-10, -0.003321159820269326, -6.844950098122861e-9]\n",
       " [0.0, 0.0, 0.0, -1.0, 2.134582093956194e-18, 1.1666180363593434e-17, -0.9999999999999942, 1.6082228989509856e-18, 0.0, 0.0, 0.0, 0.0]"
      ]
     },
     "metadata": {},
     "output_type": "display_data"
    },
    {
     "data": {
      "text/plain": [
       "400-element Vector{Vector{Float64}}:\n",
       " [1.0, 0.0, 0.0, 0.0, 0.0, 1.0, 0.0, 0.0, 0.0, 0.0, 1.0, 0.0, 0.0, -1.0]\n",
       " [1.0, 0.0, 0.0, 0.0, 1.3290397209583414e-23, 1.0, 1.4050445759102134e-23, -2.6088058816849602e-24, 0.0, 0.0, 1.0, 2.658079441916683e-23, -2.810089151820427e-23, -1.0]\n",
       " [1.0000000000000107, -3.381248775637921e-24, 1.748115765969762e-27, -2.1064858766735392e-34, -6.328332044033418e-24, 1.0, -1.6608259756915278e-19, 1.236012562643803e-23, -6.762497551275914e-24, -4.212971753347123e-34, 1.0000000000000213, -1.2656664088066836e-23, 3.3216519513830557e-19, -1.0]\n",
       " [0.9999999994484705, 6.008512027875725e-11, -1.1044052673094165e-27, -3.321250600934575e-5, -6.008512027887047e-11, 0.9999999994484647, -3.3212506009345644e-5, 1.4022776449406108e-23, 1.2017024049123707e-10, -6.642501198205615e-5, 0.9999999977938705, -1.2017024049146281e-10, 6.642501198205555e-5, -0.999999997793859]\n",
       " [0.999999991723317, 2.3176580388236272e-10, -3.303696759261897e-17, -0.00012865993016165236, -2.317658038827578e-10, 0.9999999917233112, -0.0001286599301616517, 3.303697885305784e-17, 4.635316039367223e-10, -0.0002573198581935498, 0.9999999668932564, -4.635316039375098e-10, 0.00025731985819354704, -0.9999999668932449]\n",
       " [0.9999999515002337, 5.585399370721956e-10, -3.543295546580198e-16, -0.00031144749637514727, -5.585399370732087e-10, 0.9999999515002279, -0.00031144749637514554, 3.543295609742548e-16, 1.1170798201869884e-9, -0.000622894962540033, 0.9999998060009267, -1.1170798201890081e-9, 0.0006228949625400259, -0.9999998060009152]\n",
       " [0.9999998181758084, 1.0764485290976764e-9, -1.9155320097235463e-15, -0.0006030326407483853, -1.076448529099663e-9, 0.9999998181758025, -0.0006030326407483819, 1.9155320079953485e-15, 2.1528966690568426e-9, -0.0012060650622049258, 0.9999992727032841, -2.1528966690608027e-9, 0.0012060650622049119, -0.9999992727032724]\n",
       " [0.9999994782794962, 1.8146221760357327e-9, -7.221955797336857e-15, -0.0010214894803599378, -1.8146221760390976e-9, 0.9999994782794904, -0.001021489480359932, 7.221955806835635e-15, 3.6292424733745774e-9, -0.002042977894855863, 0.9999979131185062, -3.6292424733812867e-9, 0.0020429778948558392, -0.9999979131184946]\n",
       " [0.9999987490056245, 2.7958158501263716e-9, -2.1640484261595412e-14, -0.001581767120976819, -2.795815850131592e-9, 0.9999987490056187, -0.0015817671209768101, 2.1640484288644556e-14, 5.591624773613348e-9, -0.0031635302843900947, 0.999994996025589, -5.591624773623756e-9, 0.0031635302843900587, -0.9999949960255774]\n",
       " [0.9999973643245809, 4.036929863694546e-9, -5.519734214419185e-14, -0.0022959407572071097, -4.036929863702138e-9, 0.999997364324575, -0.0022959407572070967, 5.5197342182384054e-14, 8.073838700775124e-9, -0.0045918694117049845, 0.999989457312148, -8.07383870079026e-9, 0.004591869411704932, -0.9999894573121362]\n",
       " [0.9999949645800545, 5.5495151546815596e-9, -1.2487842158506725e-13, -0.0031734546878927723, -5.549515154691914e-9, 0.9999949645800488, -0.0031734546878927536, 1.2487842164284126e-13, 1.1098975213676549e-8, -0.006346877416431482, 0.9999798583708085, -1.1098975213697195e-8, 0.0063468774164314075, -0.9999798583707968]\n",
       " [0.9999910900349536, 7.3402613269273234e-9, -2.574209543265089e-13, -0.004221356524762616, -7.340261326941041e-9, 0.9999910900349478, -0.004221356524762592, 2.5742095442443437e-13, 1.4680394024242188e-8, -0.008442637825247064, 0.9999643602983854, -1.468039402426954e-8, 0.008442637825246967, -0.9999643602983738]\n",
       " [0.9999851784803491, 9.411466150093325e-9, -4.92564278085152e-13, -0.0054445220133717605, -9.411466150110534e-9, 0.9999851784803433, -0.005444522013371729, 4.925642782140308e-13, 1.8822658679279785e-8, -0.010888882634563498, 0.9999407143604214, -1.8822658679314093e-8, 0.010888882634563373, -0.9999407143604099]\n",
       " ⋮\n",
       " [0.006845686950778894, 6.718316278973319e-13, -1.3637605063097803e-8, -0.9999765680105797, -6.71829500675156e-13, 0.006845686950778866, -0.9999765680105739, 1.363760506471111e-8, 2.727458021205851e-8, -0.013691053085429377, -0.9999062731403892, -2.727458021525576e-8, 0.013691053085429242, 0.9999062731403776]\n",
       " [0.005444376057139221, 3.728207318781195e-13, -1.0889672225075423e-8, -0.9999851792748617, -3.728186031316323e-13, 0.0054443760571392, -0.999985179274856, 1.0889672226689272e-8, 2.1779025724025593e-8, -0.010888590735076259, -0.9999407175387257, -2.1779025727229935e-8, 0.010888590735076153, 0.9999407175387142]\n",
       " [0.0042212430818565115, 1.9466887563043782e-13, -8.475924546987465e-9, -0.9999910905137412, -1.9466674556654654e-13, 0.0042212430818564985, -0.9999910905137354, 8.475924548599025e-9, 1.6951699705197656e-8, -0.008442410945498557, -0.9999643622137052, -1.6951699708402663e-8, 0.008442410945498482, 0.9999643622136934]\n",
       " [0.0031733692032853106, 9.436514671091325e-14, -6.395639781210898e-9, -0.9999949648512784, -9.436301552148675e-14, 0.0031733692032853036, -0.9999949648512726, 6.3956397828219675e-9, 1.2791215755337759e-8, -0.006346706449798847, -0.999979859455809, -1.2791215758546283e-8, 0.006346706449798796, 0.9999798594557976]\n",
       " [0.0022958787682010313, 4.1683932939736654e-14, -4.643739279406336e-9, -0.9999973644668705, -4.1681800806956096e-14, 0.0022958787682010296, -0.9999973644668646, 4.643739281016188e-9, 9.287454272757754e-9, -0.0045917454346729525, -0.9999894578813687, -9.287454275967606e-9, 0.004591745434672922, 0.999989457881357]\n",
       " [0.0015817243190568793, 1.6334170952415107e-14, -3.210303308464575e-9, -0.9999987490733081, -1.633203805397364e-14, 0.0015817243190568817, -0.9999987490733023, 3.2103033100738912e-9, 6.420598636893266e-9, -0.0031634446808714188, -0.9999949962963595, -6.4205986401051095e-9, 0.0031634446808714053, 0.999994996296348]\n",
       " [0.001021461779707052, 5.448996030122833e-15, -2.080064236975e-9, -0.9999994783077807, -5.446862533598935e-15, 0.0010214617797070576, -0.9999994783077749, 2.080064238584025e-9, 4.160126314775226e-9, -0.002042922493636778, -0.9999979132316661, -4.1601263179888914e-9, 0.0020429224936367777, 0.9999979132316545]\n",
       " [0.0006030162536732474, 1.4448853508038372e-15, -1.231878664313875e-9, -0.9999998181856825, -1.4427514085927729e-15, 0.0006030162536732556, -0.9999998181856767, 1.2318786659225891e-9, 2.4637568824239717e-9, -0.0012060322880725176, -0.9999992727427959, -2.4637568856388116e-9, 0.001206032288072527, 0.9999992727427843]\n",
       " [0.0003114390159114123, 2.6722901589718766e-16, -6.381798578914767e-10, -0.9999999515028686, -2.650947637486746e-16, 0.00031143901591142224, -0.9999999515028628, 6.381798594999567e-10, 1.2763596540496195e-9, -0.0006228780016150269, -0.9999998060114789, -1.2763596572652425e-9, 0.0006228780016150432, 0.9999998060114673]\n",
       " [0.00012865642003835067, 2.4914875030786756e-17, -2.6441217794157233e-10, -0.9999999917237627, -2.2780429021164693e-17, 0.0001286564200383616, -0.999999991723757, 2.644121795498968e-10, 5.288243515128797e-10, -0.00025731283794711924, -0.9999999668950511, -5.288243547289764e-10, 0.00025731283794713957, 0.9999999668950396]\n",
       " [3.321159819760538e-5, 1.3916183436465948e-30, -6.844950097074696e-11, -0.9999999994484948, 2.1345470189158066e-18, 3.321159819761686e-5, -0.999999999448489, 6.8449502578997e-11, 1.3689900186599342e-10, -6.642319635857802e-5, -0.9999999977939794, -1.3689900508235092e-10, 6.64231963586006e-5, 0.9999999977939679]\n",
       " [0.0, 0.0, 0.0, -1.0, 2.134582093956194e-18, 1.1666180363593434e-17, -0.9999999999999942, 1.6082228989509856e-18, 0.0, 0.0, -1.0, -3.2164457979019527e-18, 2.3332360727186732e-17, 0.9999999999999885]"
      ]
     },
     "metadata": {},
     "output_type": "display_data"
    },
    {
     "data": {
      "text/plain": [
       "14-element Vector{Float64}:\n",
       "  1.0\n",
       "  0.0\n",
       "  0.0\n",
       "  0.0\n",
       "  0.0\n",
       "  1.0\n",
       "  0.0\n",
       "  0.0\n",
       "  0.0\n",
       "  0.0\n",
       "  1.0\n",
       "  0.0\n",
       "  0.0\n",
       " -1.0"
      ]
     },
     "metadata": {},
     "output_type": "display_data"
    },
    {
     "data": {
      "text/plain": [
       "400-element Vector{Vector{Float64}}:\n",
       " [0.0, 0.0]\n",
       " [0.0, -3.381248775037841e-23]\n",
       " [0.00033212506014433776, 6.008512028806451e-10]\n",
       " [0.0009544742447700543, 1.716806841892128e-9]\n",
       " [0.0018278757072393503, 3.2677414128494453e-9]\n",
       " [0.002915851751981935, 5.1790864707833495e-9]\n",
       " [0.004184569786715427, 7.381738940234049e-9]\n",
       " [0.005602781176815899, 9.811945171794095e-9]\n",
       " [0.007141749836379482, 1.2411163812604261e-8]\n",
       " [0.008775172213649887, 1.5125910389717937e-8]\n",
       " [0.010479090157598063, 1.790758633407921e-8]\n",
       " [0.01223179799204956, 2.0712295000769323e-8]\n",
       " [0.014013744977067475, 2.350064706955612e-8]\n",
       " ⋮\n",
       " [0.014013373903615277, 2.747985507400406e-8]\n",
       " [0.012231472847304916, 2.4137762516820578e-8]\n",
       " [0.010478810568836282, 2.0802991618844466e-8]\n",
       " [0.008774937254981543, 1.7519071279921816e-8]\n",
       " [0.007141557964428346, 1.4334386947830965e-8]\n",
       " [0.005602630163758564, 1.1302400395066052e-8]\n",
       " [0.004184456650824944, 8.481858558344131e-9]\n",
       " [0.0029157726858428097, 5.936988694048783e-9]\n",
       " [0.0018278260038313463, 3.7376768919522255e-9]\n",
       " [0.0009544482216541809, 1.9596267763833342e-9]\n",
       " [0.00033211598202693266, 6.844950098122864e-10]\n",
       " [0.0, 0.0]"
      ]
     },
     "metadata": {},
     "output_type": "display_data"
    }
   ],
   "source": [
    "#Extract the solution\n",
    "result = prob.trajectory.states\n",
    "\n",
    "Xopt = [result[i][1:sys.n_wfn_states] for i = 1:length(result)]\n",
    "Uopt = [result[i][sys.n_wfn_states .+ (1:2)] for i = 1:length(result)]\n",
    "\n",
    "for i = 1:length(Xopt)\n",
    "    x = Xopt[i]\n",
    "    meas = zeros(0)\n",
    "    for s = 1:sys.nqstates\n",
    "        iso_state = x[slice(s, sys.isodim)]\n",
    "        append!(meas, meas_x_iso(iso_state))\n",
    "        append!(meas, meas_y_iso(iso_state))\n",
    "        append!(meas, meas_z_iso(iso_state))\n",
    "    end\n",
    "    Xopt[i] = [x; meas]\n",
    "end"
   ]
  },
  {
   "cell_type": "code",
   "execution_count": 13,
   "metadata": {},
   "outputs": [
    {
     "name": "stdout",
     "output_type": "stream",
     "text": [
      "14"
     ]
    }
   ],
   "source": [
    "n = sys.n_wfn_states + 3*sys.nqstates\n",
    "print(n)\n",
    "m = sys.ncontrols\n",
    "\n",
    "xnom = zeros(n, prob.T)\n",
    "\n",
    "for k = 1:prob.T\n",
    "    xnom[:, k] .= Xopt[k]\n",
    "end\n",
    "\n",
    "unom = zeros(m, prob.T - 1)\n",
    "utraj = zeros(m, prob.T - 1)\n",
    "\n",
    "for k = 1:prob.T - 1\n",
    "    unom[:, k] .= Uopt[k]\n",
    "    utraj[:, k] .= Uopt[k]\n",
    "end"
   ]
  },
  {
   "cell_type": "code",
   "execution_count": 14,
   "metadata": {},
   "outputs": [
    {
     "data": {
      "text/plain": [
       "14×400 Matrix{Float64}:\n",
       "  1.0   1.0           1.0          …   3.32116e-5    0.0\n",
       "  0.0   0.0          -3.38125e-24      1.39162e-30   0.0\n",
       "  0.0   0.0           1.74812e-27     -6.84495e-11   0.0\n",
       "  0.0   0.0          -2.10649e-34     -1.0          -1.0\n",
       "  0.0   1.32904e-23  -6.32833e-24      2.13455e-18   2.13458e-18\n",
       "  1.0   1.0           1.0          …   3.32116e-5    1.16662e-17\n",
       "  0.0   1.40504e-23  -1.66083e-19     -1.0          -1.0\n",
       "  0.0  -2.60881e-24   1.23601e-23      6.84495e-11   1.60822e-18\n",
       "  0.0   0.0          -6.7625e-24       1.36899e-10   0.0\n",
       "  0.0   0.0          -4.21297e-34     -6.64232e-5    0.0\n",
       "  1.0   1.0           1.0          …  -1.0          -1.0\n",
       "  0.0   2.65808e-23  -1.26567e-23     -1.36899e-10  -3.21645e-18\n",
       "  0.0  -2.81009e-23   3.32165e-19      6.64232e-5    2.33324e-17\n",
       " -1.0  -1.0          -1.0              1.0           1.0"
      ]
     },
     "metadata": {},
     "output_type": "display_data"
    },
    {
     "data": {
      "text/plain": [
       "2×399 Matrix{Float64}:\n",
       " 0.0   0.0          0.000332125  0.000954474  …  0.000954448  0.000332116\n",
       " 0.0  -3.38125e-23  6.00851e-10  1.71681e-9      1.95963e-9   6.84495e-10"
      ]
     },
     "metadata": {},
     "output_type": "display_data"
    }
   ],
   "source": [
    "display(xnom) \n",
    "display(utraj)"
   ]
  },
  {
   "cell_type": "code",
   "execution_count": 35,
   "metadata": {},
   "outputs": [
    {
     "data": {
      "text/plain": [
       "discrete_dynamics (generic function with 1 method)"
      ]
     },
     "execution_count": 35,
     "metadata": {},
     "output_type": "execute_result"
    }
   ],
   "source": [
    "function discrete_dynamics(x, u)\n",
    "    G = sys.G_drift + u[1] * sys.G_drives[1] + u[2] * sys.G_drives[2]\n",
    "    h_prop = exp(G * Δt)\n",
    "    state1_ = x[1:4]\n",
    "    state2_ = x[5:8]\n",
    "    state1 = h_prop * state1_\n",
    "    state2 = h_prop * state2_\n",
    "    meas_1 = [meas_x_iso(state1), meas_y_iso(state1), meas_z_iso(state1)]\n",
    "    meas_2 = [meas_x_iso(state2), meas_y_iso(state2), meas_z_iso(state2)]\n",
    "    return [state1; state2; meas_1; meas_2]\n",
    "end"
   ]
  },
  {
   "cell_type": "code",
   "execution_count": 36,
   "metadata": {},
   "outputs": [],
   "source": [
    "#Compute linearization of dynamics using nominal dynamics + trajectory\n",
    "\n",
    "A = zeros(n, n, T-1)\n",
    "B = zeros(n, m, T-1)  \n",
    "\n",
    "for k = 1:(T-1)\n",
    "    A[:, :, k] .= ForwardDiff.jacobian(x->discrete_dynamics(x, Uopt[k]), Xopt[k])\n",
    "    B[:, :, k] .= ForwardDiff.jacobian(u->discrete_dynamics(Xopt[k], u), Uopt[k])\n",
    "end\n",
    "\n",
    "    "
   ]
  },
  {
   "cell_type": "code",
   "execution_count": 66,
   "metadata": {},
   "outputs": [
    {
     "data": {
      "text/plain": [
       "400-element extrapolate(scale(interpolate(::Vector{Float64}, BSpline(Linear())), (0.0:0.1:39.9,)), Throw()) with element type Float64:\n",
       "  0.0\n",
       " -3.381248775037841e-23\n",
       "  6.008512028806451e-10\n",
       "  1.7168068418921274e-9\n",
       "  3.2677414128494453e-9\n",
       "  5.1790864707833495e-9\n",
       "  7.3817389402340475e-9\n",
       "  9.811945171794094e-9\n",
       "  1.2411163812604261e-8\n",
       "  1.5125910389717937e-8\n",
       "  1.790758633407921e-8\n",
       "  2.0712295000769323e-8\n",
       "  2.3500647069556112e-8\n",
       "  ⋮\n",
       "  2.7479855074004248e-8\n",
       "  2.4137762516820767e-8\n",
       "  2.0802991618844466e-8\n",
       "  1.7519071279921816e-8\n",
       "  1.4334386947830965e-8\n",
       "  1.1302400395066226e-8\n",
       "  8.481858558344292e-9\n",
       "  5.936988694048783e-9\n",
       "  3.7376768919522255e-9\n",
       "  1.9596267763833342e-9\n",
       "  6.844950098123589e-10\n",
       "  3.890903655089269e-23"
      ]
     },
     "execution_count": 66,
     "metadata": {},
     "output_type": "execute_result"
    }
   ],
   "source": [
    "tspan = 0.0:Δt:39.9\n",
    "uint_1 = linear_interpolation(tspan, vcat(utraj[1,:], [0.0]))\n",
    "uint_2 = linear_interpolation(tspan, vcat(utraj[2,:], [0.0]));"
   ]
  },
  {
   "cell_type": "code",
   "execution_count": 107,
   "metadata": {},
   "outputs": [
    {
     "data": {
      "text/plain": [
       "400-element Vector{Float64}:\n",
       " -1.0\n",
       " -0.9995940418127003\n",
       " -0.9991881666705449\n",
       " -0.9987823630752827\n",
       " -0.9983765717842695\n",
       " -0.9979706266334079\n",
       " -0.9975641860031161\n",
       " -0.9971566639082896\n",
       " -0.9967471725184844\n",
       " -0.9963344658813499\n",
       " -0.9959169170453533\n",
       " -0.9954924931898005\n",
       " -0.9950587642870566\n",
       "  ⋮\n",
       "  0.9368727159661356\n",
       "  0.9367875263101848\n",
       "  0.9367095651151205\n",
       "  0.9366407911769998\n",
       "  0.9365825474178652\n",
       "  0.9365356338928793\n",
       "  0.9365002211156164\n",
       "  0.9364758962706728\n",
       "  0.9364616884481199\n",
       "  0.9364561835835749\n",
       "  0.9364573855174673\n",
       "  0.9364629532730044"
      ]
     },
     "execution_count": 107,
     "metadata": {},
     "output_type": "execute_result"
    }
   ],
   "source": [
    "basis = GenericBasis(2)\n",
    "ketψg = Ket(basis, ψg)\n",
    "ketψe = Ket(basis, ψe)\n",
    "Hop = Operator(basis, basis, H_drift)\n",
    "\n",
    "#True dynamics with Lindblad master equation\n",
    "Ts = [tspan;]\n",
    "T1 = 100e1/2\n",
    "T2 = 150e1/2\n",
    "nth = 0.015\n",
    "rates = [1/T1 * (1+nth), 1/T1 * nth, 1/T2 - 1/2/T1]\n",
    "J = [Operator(basis, basis, Pico.annihilate(2)), Operator(basis, basis, Pico.create(2)),\n",
    "     Operator(basis, basis, Pico.number(2))]\n",
    "Jdagger = dagger.(J)\n",
    "\n",
    "function f(t, ρ)\n",
    "    Hop = Operator(basis, basis, H_drift + uint_1(t)*H_drive[1] + uint_2(t) * H_drive[2])\n",
    "    return Hop, J, Jdagger\n",
    "end\n",
    "\n",
    "toutg, ρgt = timeevolution.master_dynamic(Ts, ketψg, f, rates = rates)\n",
    "toute, ρet = timeevolution.master_dynamic(Ts, ketψe, f, rates = rates)\n",
    "\n",
    "expectxg = real(expect(Operator(basis,basis,sigmax()), ρgt))\n",
    "expectyg = real(expect(Operator(basis, basis, sigmay()), ρgt))\n",
    "expectzg = real(expect(Operator(basis, basis, sigmaz()), ρgt))\n",
    "\n",
    "expectxe = real(expect(Operator(basis,basis,sigmax()), ρet))\n",
    "expectye = real(expect(Operator(basis, basis, sigmay()), ρet))\n",
    "expectze = real(expect(Operator(basis, basis, sigmaz()), ρet))\n",
    "\n",
    "#TODO: make these noisy expectation values"
   ]
  },
  {
   "cell_type": "code",
   "execution_count": 108,
   "metadata": {},
   "outputs": [],
   "source": [
    "xtraj = zeros(n, T)\n",
    "for k = 1:(T)\n",
    "    xtraj[1:8,k] .= xnom[1:8, k]\n",
    "    xtraj[9, :] .= expectxg\n",
    "    xtraj[10,:] .= expectyg\n",
    "    xtraj[11, :] .= expectzg\n",
    "    xtraj[12, :] .= expectxe\n",
    "    xtraj[13, :] .= expectye\n",
    "    xtraj[14, :] .= expectze\n",
    "end"
   ]
  },
  {
   "cell_type": "code",
   "execution_count": 109,
   "metadata": {},
   "outputs": [
    {
     "data": {
      "image/png": "[encoded data removed]",
      "text/plain": [
       "Figure(PyObject <Figure size 640x480 with 1 Axes>)"
      ]
     },
     "metadata": {},
     "output_type": "display_data"
    },
    {
     "data": {
      "text/plain": [
       "1-element Vector{PyCall.PyObject}:\n",
       " PyObject <matplotlib.lines.Line2D object at 0x0000000049FD4860>"
      ]
     },
     "execution_count": 109,
     "metadata": {},
     "output_type": "execute_result"
    }
   ],
   "source": [
    "plot(xtraj[11, :])\n",
    "plot(xnom[11, :])"
   ]
  },
  {
   "cell_type": "code",
   "execution_count": 114,
   "metadata": {},
   "outputs": [
    {
     "data": {
      "image/png": "[encoded data removed]",
      "text/plain": [
       "Figure(PyObject <Figure size 640x480 with 1 Axes>)"
      ]
     },
     "metadata": {},
     "output_type": "display_data"
    },
    {
     "data": {
      "text/plain": [
       "1-element Vector{PyCall.PyObject}:\n",
       " PyObject <matplotlib.lines.Line2D object at 0x0000000048E65BE0>"
      ]
     },
     "execution_count": 114,
     "metadata": {},
     "output_type": "execute_result"
    }
   ],
   "source": [
    "plot(Uopt[:])\n",
    "plot(utraj[1,:])\n",
    "plot(utraj[2, :])"
   ]
  },
  {
   "cell_type": "code",
   "execution_count": 128,
   "metadata": {},
   "outputs": [
    {
     "data": {
      "text/plain": [
       "5586×6384 SparseMatrixCSC{Float64, Int64} with 0 stored entries:\n",
       "⠀⠀⠀⠀⠀⠀⠀⠀⠀⠀⠀⠀⠀⠀⠀⠀⠀⠀⠀⠀⠀⠀⠀⠀⠀⠀⠀⠀⠀⠀⠀⠀⠀⠀⠀⠀⠀⠀⠀⠀\n",
       "⠀⠀⠀⠀⠀⠀⠀⠀⠀⠀⠀⠀⠀⠀⠀⠀⠀⠀⠀⠀⠀⠀⠀⠀⠀⠀⠀⠀⠀⠀⠀⠀⠀⠀⠀⠀⠀⠀⠀⠀\n",
       "⠀⠀⠀⠀⠀⠀⠀⠀⠀⠀⠀⠀⠀⠀⠀⠀⠀⠀⠀⠀⠀⠀⠀⠀⠀⠀⠀⠀⠀⠀⠀⠀⠀⠀⠀⠀⠀⠀⠀⠀\n",
       "⠀⠀⠀⠀⠀⠀⠀⠀⠀⠀⠀⠀⠀⠀⠀⠀⠀⠀⠀⠀⠀⠀⠀⠀⠀⠀⠀⠀⠀⠀⠀⠀⠀⠀⠀⠀⠀⠀⠀⠀\n",
       "⠀⠀⠀⠀⠀⠀⠀⠀⠀⠀⠀⠀⠀⠀⠀⠀⠀⠀⠀⠀⠀⠀⠀⠀⠀⠀⠀⠀⠀⠀⠀⠀⠀⠀⠀⠀⠀⠀⠀⠀\n",
       "⠀⠀⠀⠀⠀⠀⠀⠀⠀⠀⠀⠀⠀⠀⠀⠀⠀⠀⠀⠀⠀⠀⠀⠀⠀⠀⠀⠀⠀⠀⠀⠀⠀⠀⠀⠀⠀⠀⠀⠀\n",
       "⠀⠀⠀⠀⠀⠀⠀⠀⠀⠀⠀⠀⠀⠀⠀⠀⠀⠀⠀⠀⠀⠀⠀⠀⠀⠀⠀⠀⠀⠀⠀⠀⠀⠀⠀⠀⠀⠀⠀⠀\n",
       "⠀⠀⠀⠀⠀⠀⠀⠀⠀⠀⠀⠀⠀⠀⠀⠀⠀⠀⠀⠀⠀⠀⠀⠀⠀⠀⠀⠀⠀⠀⠀⠀⠀⠀⠀⠀⠀⠀⠀⠀\n",
       "⠀⠀⠀⠀⠀⠀⠀⠀⠀⠀⠀⠀⠀⠀⠀⠀⠀⠀⠀⠀⠀⠀⠀⠀⠀⠀⠀⠀⠀⠀⠀⠀⠀⠀⠀⠀⠀⠀⠀⠀\n",
       "⠀⠀⠀⠀⠀⠀⠀⠀⠀⠀⠀⠀⠀⠀⠀⠀⠀⠀⠀⠀⠀⠀⠀⠀⠀⠀⠀⠀⠀⠀⠀⠀⠀⠀⠀⠀⠀⠀⠀⠀\n",
       "⠀⠀⠀⠀⠀⠀⠀⠀⠀⠀⠀⠀⠀⠀⠀⠀⠀⠀⠀⠀⠀⠀⠀⠀⠀⠀⠀⠀⠀⠀⠀⠀⠀⠀⠀⠀⠀⠀⠀⠀\n",
       "⠀⠀⠀⠀⠀⠀⠀⠀⠀⠀⠀⠀⠀⠀⠀⠀⠀⠀⠀⠀⠀⠀⠀⠀⠀⠀⠀⠀⠀⠀⠀⠀⠀⠀⠀⠀⠀⠀⠀⠀\n",
       "⠀⠀⠀⠀⠀⠀⠀⠀⠀⠀⠀⠀⠀⠀⠀⠀⠀⠀⠀⠀⠀⠀⠀⠀⠀⠀⠀⠀⠀⠀⠀⠀⠀⠀⠀⠀⠀⠀⠀⠀\n",
       "⠀⠀⠀⠀⠀⠀⠀⠀⠀⠀⠀⠀⠀⠀⠀⠀⠀⠀⠀⠀⠀⠀⠀⠀⠀⠀⠀⠀⠀⠀⠀⠀⠀⠀⠀⠀⠀⠀⠀⠀\n",
       "⠀⠀⠀⠀⠀⠀⠀⠀⠀⠀⠀⠀⠀⠀⠀⠀⠀⠀⠀⠀⠀⠀⠀⠀⠀⠀⠀⠀⠀⠀⠀⠀⠀⠀⠀⠀⠀⠀⠀⠀\n",
       "⠀⠀⠀⠀⠀⠀⠀⠀⠀⠀⠀⠀⠀⠀⠀⠀⠀⠀⠀⠀⠀⠀⠀⠀⠀⠀⠀⠀⠀⠀⠀⠀⠀⠀⠀⠀⠀⠀⠀⠀\n",
       "⠀⠀⠀⠀⠀⠀⠀⠀⠀⠀⠀⠀⠀⠀⠀⠀⠀⠀⠀⠀⠀⠀⠀⠀⠀⠀⠀⠀⠀⠀⠀⠀⠀⠀⠀⠀⠀⠀⠀⠀\n",
       "⠀⠀⠀⠀⠀⠀⠀⠀⠀⠀⠀⠀⠀⠀⠀⠀⠀⠀⠀⠀⠀⠀⠀⠀⠀⠀⠀⠀⠀⠀⠀⠀⠀⠀⠀⠀⠀⠀⠀⠀"
      ]
     },
     "execution_count": 128,
     "metadata": {},
     "output_type": "execute_result"
    }
   ],
   "source": [
    "#Setup the ILC QP\n",
    "\n",
    "#Cost   \n",
    "Qf = Diagonal([fill(0., sys.isodim*sys.nqstates); fill(100., 3*sys.nqstates)])\n",
    "Qilc = sparse(Diagonal([fill(0., sys.isodim*sys.nqstates); fill(1., 3*sys.nqstates)]))\n",
    "Rilc = sparse(Diagonal([0.1, 0.1]))\n",
    "H = blockdiag(kron(I(T-2), blockdiag(Rilc, Qilc)), Rilc, sparse(Qf))\n",
    "q = zeros((n+m)*(T-1))\n",
    "for k = 1:(T-2)\n",
    "   q[(k-1)*(m+n) .+ (1:(m+n))] .= [zeros(sys.ncontrols); Qilc*(xtraj[:,k+1] - Xopt[k+1])] \n",
    "end\n",
    "q[(T-2)*(m+n) .+ (1:(m+n))] .= [zeros(sys.ncontrols); Qf*(xtraj[:,T] - Xopt[T])]\n",
    "\n",
    "#Constraints\n",
    "U = kron(I(T-1), [I zeros(m,n)]) #Matrix that picks out all u\n",
    "X = kron(I(T-1), [zeros(n,m) I]) #Matrix that picks out all x\n",
    "D = spzeros(n*(T-1), (n+m)*(T-1)) #dynamics constraints\n",
    "\n",
    "D[1:n,1:m] .= B[:,:,1]\n",
    "D[1:n,(m+1):(m+n)] .= -I(n)\n",
    "for k = 1:(T-2)\n",
    "    D[(k*n).+(1:n), (m+(k-1)*(n+m)).+(1:(2*n+m))] .= [A[:,:,k+1] B[:,:,k+1] -I]\n",
    "end"
   ]
  },
  {
   "cell_type": "code",
   "execution_count": 134,
   "metadata": {},
   "outputs": [
    {
     "data": {
      "text/plain": [
       "14×16 Matrix{Float64}:\n",
       " 0.0  0.0  1.0  0.0  0.0  0.0  0.0  0.0  …  0.0  0.0  0.0  0.0  0.0  0.0  0.0\n",
       " 0.0  0.0  0.0  1.0  0.0  0.0  0.0  0.0     0.0  0.0  0.0  0.0  0.0  0.0  0.0\n",
       " 0.0  0.0  0.0  0.0  1.0  0.0  0.0  0.0     0.0  0.0  0.0  0.0  0.0  0.0  0.0\n",
       " 0.0  0.0  0.0  0.0  0.0  1.0  0.0  0.0     0.0  0.0  0.0  0.0  0.0  0.0  0.0\n",
       " 0.0  0.0  0.0  0.0  0.0  0.0  1.0  0.0     0.0  0.0  0.0  0.0  0.0  0.0  0.0\n",
       " 0.0  0.0  0.0  0.0  0.0  0.0  0.0  1.0  …  0.0  0.0  0.0  0.0  0.0  0.0  0.0\n",
       " 0.0  0.0  0.0  0.0  0.0  0.0  0.0  0.0     0.0  0.0  0.0  0.0  0.0  0.0  0.0\n",
       " 0.0  0.0  0.0  0.0  0.0  0.0  0.0  0.0     1.0  0.0  0.0  0.0  0.0  0.0  0.0\n",
       " 0.0  0.0  0.0  0.0  0.0  0.0  0.0  0.0     0.0  1.0  0.0  0.0  0.0  0.0  0.0\n",
       " 0.0  0.0  0.0  0.0  0.0  0.0  0.0  0.0     0.0  0.0  1.0  0.0  0.0  0.0  0.0\n",
       " 0.0  0.0  0.0  0.0  0.0  0.0  0.0  0.0  …  0.0  0.0  0.0  1.0  0.0  0.0  0.0\n",
       " 0.0  0.0  0.0  0.0  0.0  0.0  0.0  0.0     0.0  0.0  0.0  0.0  1.0  0.0  0.0\n",
       " 0.0  0.0  0.0  0.0  0.0  0.0  0.0  0.0     0.0  0.0  0.0  0.0  0.0  1.0  0.0\n",
       " 0.0  0.0  0.0  0.0  0.0  0.0  0.0  0.0     0.0  0.0  0.0  0.0  0.0  0.0  1.0"
      ]
     },
     "execution_count": 134,
     "metadata": {},
     "output_type": "execute_result"
    }
   ],
   "source": [
    "[zeros(n,m) I]"
   ]
  }
 ],
 "metadata": {
  "kernelspec": {
   "display_name": "Julia 1.7.2",
   "language": "julia",
   "name": "julia-1.7"
  },
  "language_info": {
   "file_extension": ".jl",
   "mimetype": "application/julia",
   "name": "julia",
   "version": "1.7.2"
  }
 },
 "nbformat": 4,
 "nbformat_minor": 4
}
