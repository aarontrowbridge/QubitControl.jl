{
 "cells": [
  {
   "cell_type": "code",
   "execution_count": 2,
   "metadata": {},
   "outputs": [
    {
     "name": "stderr",
     "output_type": "stream",
     "text": [
      "\u001b[32m\u001b[1m  Activating\u001b[22m\u001b[39m project at `C:\\Users\\a7b\\Pico.jl`\n"
     ]
    }
   ],
   "source": [
    "import Pkg; Pkg.activate(\"C:/Users/a7b/Pico.jl\"); Pkg.instantiate()"
   ]
  },
  {
   "cell_type": "code",
   "execution_count": 3,
   "metadata": {},
   "outputs": [],
   "source": [
    "using Pico\n",
    "using PyPlot\n",
    "using QuantumOptics\n",
    "using ForwardDiff\n",
    "using Interpolations\n",
    "using LinearAlgebra\n",
    "using SparseArrays\n",
    "using OSQP"
   ]
  },
  {
   "cell_type": "code",
   "execution_count": 4,
   "metadata": {},
   "outputs": [
    {
     "data": {
      "text/plain": [
       "exp_frechet!"
      ]
     },
     "execution_count": 4,
     "metadata": {},
     "output_type": "execute_result"
    }
   ],
   "source": [
    "WDIR = joinpath(@__DIR__, \"../../\")\n",
    "include(joinpath(WDIR, \"experiments\", \"ilqoc\", \"measurement.jl\"))"
   ]
  },
  {
   "cell_type": "code",
   "execution_count": 335,
   "metadata": {},
   "outputs": [],
   "source": [
    "iter = 3000\n",
    "\n",
    "ω = 2π * 4.96 #GHz\n",
    "α = -2π * 0.143 #GHz\n",
    "levels = 2\n",
    "\n",
    "ψg = [1. + 0*im, 0]\n",
    "ψe = [0, 1. + 0*im]\n",
    "\n",
    "ψ1 = [ψg, ψe]\n",
    "ψf = [-im*ψe, -im*ψg]\n",
    "\n",
    "H_drift = α/2 * Pico.quad(levels)\n",
    "H_drive = [Pico.create(levels) + Pico.annihilate(levels),\n",
    "1im * (Pico.create(levels) - Pico.annihilate(levels))]\n",
    "\n",
    "sys = QuantumSystem(\n",
    "    H_drift, \n",
    "    H_drive,\n",
    "    ψ1 = ψ1,\n",
    "    ψf = ψf,\n",
    "    control_bounds = [2π * 19e-3,  2π * 19e-3]\n",
    ");"
   ]
  },
  {
   "cell_type": "code",
   "execution_count": 375,
   "metadata": {},
   "outputs": [],
   "source": [
    "T = 400\n",
    "Δt = 0.1\n",
    "Q = 200.\n",
    "R = 0.1\n",
    "cost = infidelity_cost\n",
    "hess = true\n",
    "pinqstate = true\n",
    "\n",
    "time = T * Δt\n",
    "\n",
    "options = Options(\n",
    "    max_iter = iter,\n",
    "    tol = 1e-5\n",
    ")\n",
    "\n",
    "prob = QuantumControlProblem(\n",
    "    sys,\n",
    "    T;\n",
    "    Δt = Δt,\n",
    "    Q = Q,\n",
    "    R = R,\n",
    "    eval_hessian = hess,\n",
    "    cost = cost,\n",
    "    pin_first_qstate = pinqstate,\n",
    "    options = options\n",
    ");"
   ]
  },
  {
   "cell_type": "code",
   "execution_count": 376,
   "metadata": {},
   "outputs": [
    {
     "name": "stdout",
     "output_type": "stream",
     "text": [
      "This is Ipopt version 3.14.4, running with linear solver MUMPS 5.4.1.\n",
      "\n",
      "Number of nonzeros in equality constraint Jacobian...:    36634\n",
      "Number of nonzeros in inequality constraint Jacobian.:        0\n",
      "Number of nonzeros in Lagrangian Hessian.............:    14723\n",
      "\n",
      "Total number of variables............................:     5580\n",
      "                     variables with only lower bounds:        0\n",
      "                variables with lower and upper bounds:      796\n",
      "                     variables with only upper bounds:        0\n",
      "Total number of equality constraints.................:     4788\n",
      "Total number of inequality constraints...............:        0\n",
      "        inequality constraints with only lower bounds:        0\n",
      "   inequality constraints with lower and upper bounds:        0\n",
      "        inequality constraints with only upper bounds:        0\n",
      "\n",
      "iter    objective    inf_pr   inf_du lg(mu)  ||d||  lg(rg) alpha_du alpha_pr  ls\n",
      "   0  3.9676497e-01 4.41e-01 9.16e-03  -1.0 0.00e+00    -  0.00e+00 0.00e+00   0\n",
      "   1  4.5258021e+01 2.17e-01 2.32e+01  -1.7 7.81e+00  -4.0 2.09e-02 5.07e-01h  1\n",
      "   2  1.0985758e+01 1.05e-03 2.02e+00  -1.7 3.91e+00  -4.5 2.66e-01 1.00e+00f  1\n",
      "   3  1.8046370e+00 1.21e-04 2.00e+02  -1.7 1.48e+00  -5.0 7.24e-01 1.00e+00f  1\n",
      "   4  1.1315075e-01 2.16e-04 5.82e+00  -1.7 5.94e-01  -5.4 1.00e+00 1.00e+00f  1\n",
      "   5  1.0749986e-01 9.02e-07 2.00e+02  -1.7 7.50e-03   0.4 1.00e+00 1.00e+00h  1\n",
      "   6  9.4832421e-02 1.72e-06 1.80e+00  -1.7 1.28e-02  -0.1 1.00e+00 1.00e+00f  1\n",
      "   7  7.2330549e-02 3.23e-06 3.38e+00  -1.7 2.20e-02  -0.5 1.00e+00 1.00e+00f  1\n",
      "   8  6.6034693e-02 2.53e-07 6.27e-01  -1.7 7.59e-03  -0.1 1.00e+00 1.00e+00h  1\n",
      "   9  5.6825372e-02 1.02e-07 2.00e+02  -2.5 2.19e-02  -0.6 1.00e+00 1.00e+00h  1\n",
      "iter    objective    inf_pr   inf_du lg(mu)  ||d||  lg(rg) alpha_du alpha_pr  ls\n",
      "  10  5.3279928e-02 1.24e-08 2.00e+02  -2.5 9.19e-03  -0.2 1.00e+00 1.00e+00F  1\n",
      "  11  4.4484438e-02 1.50e-07 2.00e+02  -2.5 2.35e-02  -0.6 1.00e+00 1.00e+00f  1\n",
      "  12  4.4092753e-02 3.82e-10 2.00e+02  -2.5 1.13e-03   0.7 1.00e+00 1.00e+00h  1\n",
      "  13  4.4087936e-02 4.65e-10 2.00e+02  -2.5 1.82e-04   2.0 1.00e+00 1.00e+00F  1\n",
      "  14  4.4019714e-02 7.27e-12 1.23e-02  -2.5 1.57e-04   1.5 1.00e+00 1.00e+00h  1\n",
      "  15  4.3860592e-02 8.40e-11 2.00e+02  -3.8 5.75e-04   1.1 1.00e+00 1.00e+00h  1\n",
      "  16  4.3800927e-02 1.08e-09 2.00e+02  -3.8 2.24e-04   1.5 1.00e+00 1.00e+00F  1\n",
      "  17  4.3779450e-02 1.60e-11 2.00e+02  -3.8 8.79e-05   1.9 1.00e+00 1.00e+00F  1\n",
      "  18  4.3711579e-02 1.50e-11 6.60e-03  -3.8 2.42e-04   1.4 1.00e+00 1.00e+00h  1\n",
      "  19  4.3511837e-02 1.35e-10 6.61e-03  -4.0 7.27e-04   1.0 1.00e+00 1.00e+00h  1\n",
      "iter    objective    inf_pr   inf_du lg(mu)  ||d||  lg(rg) alpha_du alpha_pr  ls\n",
      "  20  4.2919870e-02 1.20e-09 6.56e-03  -4.0 2.17e-03   0.5 1.00e+00 1.00e+00h  1\n",
      "  21  4.1207274e-02 1.04e-08 2.00e+02  -4.0 6.36e-03   0.0 1.00e+00 1.00e+00h  1\n",
      "  22  3.6587635e-02 8.43e-08 2.48e-02  -4.0 1.79e-02  -0.5 1.00e+00 1.00e+00h  1\n",
      "  23  2.6302058e-02 5.63e-07 9.67e-02  -4.0 4.48e-02  -1.0 1.00e+00 1.00e+00h  1\n",
      "  24  1.1814375e-02 2.38e-06 1.11e+00  -4.0 8.49e-02  -1.4 1.00e+00 1.00e+00h  1\n",
      "  25  3.0643669e-03 4.60e-06 3.15e+00  -4.0 9.49e-02  -1.9 1.00e+00 1.00e+00h  1\n",
      "  26  2.8540151e-03 9.09e-09 3.27e-02  -4.0 4.15e-03  -0.6 1.00e+00 1.00e+00h  1\n",
      "  27  2.3943573e-03 6.42e-08 2.00e+02  -4.0 9.96e-03  -1.1 1.00e+00 1.00e+00h  1\n",
      "  28  2.3940604e-03 1.06e-12 2.00e+02  -4.0 7.93e-05   2.1 1.00e+00 1.00e+00F  1\n",
      "  29  2.3931292e-03 3.10e-13 2.00e+02  -4.0 2.19e-05   1.6 1.00e+00 1.00e+00h  1\n",
      "iter    objective    inf_pr   inf_du lg(mu)  ||d||  lg(rg) alpha_du alpha_pr  ls\n",
      "  30  2.3927930e-03 3.91e-13 2.00e+02  -4.0 7.93e-05   2.0 1.00e+00 1.00e+00F  1\n",
      "  31  2.3917518e-03 3.92e-13 2.00e+02  -4.0 2.46e-05   1.6 1.00e+00 1.00e+00h  1\n",
      "  32  2.3886613e-03 3.52e-12 8.80e-04  -4.0 7.36e-05   1.1 1.00e+00 1.00e+00h  1\n",
      "\n",
      "Number of Iterations....: 32\n",
      "\n",
      "                                   (scaled)                 (unscaled)\n",
      "Objective...............:   5.9716531781576652e-04    2.3886612712630661e-03\n",
      "Dual infeasibility......:   8.7978825967899646e-04    3.5191530387159858e-03\n",
      "Constraint violation....:   3.5185448982568215e-12    3.5185448982568215e-12\n",
      "Variable bound violation:   0.0000000000000000e+00    0.0000000000000000e+00\n",
      "Complementarity.........:   1.0000000000000002e-04    4.0000000000000007e-04\n",
      "Overall NLP error.......:   5.9775176083838739e-06    3.5191530387159858e-03\n",
      "\n",
      "\n",
      "Number of objective function evaluations             = 46\n",
      "Number of objective gradient evaluations             = 33\n",
      "Number of equality constraint evaluations            = 46\n",
      "Number of inequality constraint evaluations          = 0\n",
      "Number of equality constraint Jacobian evaluations   = 33\n",
      "Number of inequality constraint Jacobian evaluations = 0\n",
      "Number of Lagrangian Hessian evaluations             = 32\n",
      "Total seconds in IPOPT                               = 6.982\n",
      "\n",
      "EXIT: Optimal Solution Found.\n"
     ]
    }
   ],
   "source": [
    "#this will give us the nominal trajectory that we need to track\n",
    "solve!(prob)"
   ]
  },
  {
   "cell_type": "code",
   "execution_count": 377,
   "metadata": {},
   "outputs": [],
   "source": [
    "#Extract the solution\n",
    "Xopt = prob.trajectory.states\n",
    "Uopt = prob.trajectory.actions\n",
    "\n",
    "for i = 1:length(Xopt)\n",
    "    x = Xopt[i]\n",
    "    meas = zeros(0)\n",
    "    for s = 1:sys.nqstates\n",
    "        iso_state = x[slice(s, sys.isodim)]\n",
    "        append!(meas, meas_x_iso(iso_state))\n",
    "        append!(meas, meas_y_iso(iso_state))\n",
    "        append!(meas, meas_z_iso(iso_state))\n",
    "    end\n",
    "    Xopt[i] = [x[1:sys.n_wfn_states]; meas; x[(sys.n_wfn_states + 1):end]]\n",
    "end\n"
   ]
  },
  {
   "cell_type": "code",
   "execution_count": 378,
   "metadata": {},
   "outputs": [
    {
     "name": "stdout",
     "output_type": "stream",
     "text": [
      "18"
     ]
    }
   ],
   "source": [
    "n = sys.nstates + 3*sys.nqstates\n",
    "print(n)\n",
    "m = sys.ncontrols\n",
    "\n",
    "xnom = zeros(n, prob.T)\n",
    "\n",
    "for k = 1:prob.T\n",
    "    xnom[:, k] .= Xopt[k]\n",
    "end\n",
    "\n",
    "unom = zeros(m, prob.T - 1)\n",
    "utraj = zeros(m, prob.T - 1)\n",
    "\n",
    "for k = 1:prob.T - 1\n",
    "    unom[:, k] .= Uopt[k]\n",
    "    utraj[:, k] .= Uopt[k]\n",
    "end\n",
    "\n"
   ]
  },
  {
   "cell_type": "code",
   "execution_count": 379,
   "metadata": {},
   "outputs": [
    {
     "data": {
      "text/plain": [
       "true_dynamics (generic function with 1 method)"
      ]
     },
     "execution_count": 379,
     "metadata": {},
     "output_type": "execute_result"
    }
   ],
   "source": [
    "function discrete_dynamics(x, u)\n",
    "    G = sys.G_drift + x[15] * sys.G_drives[1] + x[16] * sys.G_drives[2]\n",
    "    h_prop = exp(G * Δt)\n",
    "    state1_ = x[1:4]\n",
    "    state2_ = x[5:8]\n",
    "    state1 = h_prop * state1_\n",
    "    state2 = h_prop * state2_\n",
    "    meas_1 = [meas_x_iso(state1), meas_y_iso(state1), meas_z_iso(state1)]\n",
    "    meas_2 = [meas_x_iso(state2), meas_y_iso(state2), meas_z_iso(state2)]\n",
    "    controls = x[15:16] + x[17:18] .* Δt\n",
    "    dcontrols = x[17:18] + u[1:2] .* Δt\n",
    "    return [state1; state2; meas_1; meas_2; controls; dcontrols]\n",
    "end\n",
    "\n",
    "function true_dynamics(x, u)\n",
    "    G = sys.G_drift + 0.01*get_mat_iso(-1im * sigmaz()) + u[1] * sys.G_drives[1] + u[2] * sys.G_drives[2]\n",
    "    h_prop = exp(G * Δt)\n",
    "    state1_ = x[1:4]\n",
    "    state2_ = x[5:8]\n",
    "    state1 = h_prop * state1_\n",
    "    state2 = h_prop * state2_\n",
    "    meas_1 = [meas_x_iso(state1), meas_y_iso(state1), meas_z_iso(state1)]\n",
    "    meas_2 = [meas_x_iso(state2), meas_y_iso(state2), meas_z_iso(state2)]\n",
    "    controls = x[15:16] + x[17:18] .* Δt\n",
    "    dcontrols = x[17:18] + u[1:2] .* Δt\n",
    "    return [state1; state2; meas_1; meas_2; controls; dcontrols]\n",
    "end\n"
   ]
  },
  {
   "cell_type": "code",
   "execution_count": 380,
   "metadata": {},
   "outputs": [],
   "source": [
    "#Compute linearization of dynamics using nominal dynamics + trajectory\n",
    "\n",
    "A = zeros(n, n, T-1)\n",
    "B = zeros(n, m, T-1)  \n",
    "\n",
    "for k = 1:(T-1)\n",
    "    A[:, :, k] .= ForwardDiff.jacobian(x->discrete_dynamics(x, Uopt[k]), Xopt[k])\n",
    "    B[:, :, k] .= ForwardDiff.jacobian(u->discrete_dynamics(Xopt[k], u), Uopt[k])\n",
    "end    "
   ]
  },
  {
   "cell_type": "code",
   "execution_count": 381,
   "metadata": {},
   "outputs": [
    {
     "data": {
      "text/plain": [
       "Operator(dim=2x2)\n",
       "  basis: Basis(dim=2)\n",
       " 0.104095+0.0im             0.0-0.994567im\n",
       "      0.0+0.994567im  -0.104095+0.0im"
      ]
     },
     "execution_count": 381,
     "metadata": {},
     "output_type": "execute_result"
    }
   ],
   "source": [
    "basis = GenericBasis(2)\n",
    "ketψg = Ket(basis, ψg)\n",
    "ketψe = Ket(basis, ψe)\n",
    "\n",
    "σx_noisy = Operator(basis, basis, noisy_sigmax(error = 0.13))\n",
    "σy_noisy = Operator(basis, basis, noisy_sigmay(error = 0.13))"
   ]
  },
  {
   "cell_type": "code",
   "execution_count": 477,
   "metadata": {},
   "outputs": [],
   "source": [
    "xtraj = zeros(n, T)\n",
    "xtraj[17, :] .= [0. ; cumsum(utraj[1, :]*Δt)]\n",
    "xtraj[18, :] .= [0. ; cumsum(utraj[2, :]*Δt)]\n",
    "xtraj[15, :] .= [0.;cumsum(xtraj[17, :]*Δt)][1:end-1]\n",
    "xtraj[16, :] .= [0.;cumsum(xtraj[18, :]*Δt)][1:end-1];"
   ]
  },
  {
   "cell_type": "code",
   "execution_count": 478,
   "metadata": {},
   "outputs": [],
   "source": [
    "tspan = 0.0:Δt:39.9\n",
    "uint_1 = constant_interpolation(tspan, xtraj[15,:])\n",
    "uint_2 = constant_interpolation(tspan, xtraj[16,:]);"
   ]
  },
  {
   "cell_type": "code",
   "execution_count": 479,
   "metadata": {},
   "outputs": [
    {
     "data": {
      "text/plain": [
       "400-element Vector{Float64}:\n",
       " -1.0\n",
       " -0.9993910940808095\n",
       " -0.998640012919534\n",
       " -0.9968933236347359\n",
       " -0.9940111691277684\n",
       " -0.9899973890911706\n",
       " -0.9856617052002163\n",
       " -0.9832286477276101\n",
       " -0.9824131386040843\n",
       " -0.9815395516710071\n",
       " -0.9806057642044309\n",
       " -0.979605371700358\n",
       " -0.9785308935896834\n",
       "  ⋮\n",
       "  0.8964956952259415\n",
       "  0.8959579140087237\n",
       "  0.8954543566678624\n",
       "  0.894992243838575\n",
       "  0.8945810856155877\n",
       "  0.8942278293262479\n",
       "  0.8939352204913282\n",
       "  0.8937061670387195\n",
       "  0.8935433007040571\n",
       "  0.8934445334075485\n",
       "  0.8934037275725992\n",
       "  0.8934253682369813"
      ]
     },
     "execution_count": 479,
     "metadata": {},
     "output_type": "execute_result"
    }
   ],
   "source": [
    "basis = GenericBasis(2)\n",
    "ketψg = Ket(basis, ψg)\n",
    "ketψe = Ket(basis, ψe)\n",
    "\n",
    "#True dynamics with Lindblad master equation\n",
    "Ts = [tspan;]\n",
    "T1 = 100e1/3\n",
    "T2 = 150e1/3\n",
    "nth = 0.015\n",
    "rates = [1/T1 * (1+nth), 1/T1 * nth, 1/T2 - 1/2/T1]\n",
    "J = [Operator(basis, basis, Pico.annihilate(2)), Operator(basis, basis, Pico.create(2)),\n",
    "     Operator(basis, basis, Pico.number(2))]\n",
    "Jdagger = dagger.(J)\n",
    "\n",
    "function f(t, ρ)\n",
    "    Hop = Operator(basis, basis, H_drift + uint_1(t)*H_drive[1] + uint_2(t) * H_drive[2])\n",
    "    return Hop, J, Jdagger\n",
    "end\n",
    "\n",
    "toutg, ρgt = timeevolution.master_dynamic(Ts, ketψg, f, rates = rates)\n",
    "toute, ρet = timeevolution.master_dynamic(Ts, ketψe, f, rates = rates)\n",
    "\n",
    "expectxg = real(expect(σx_noisy, ρgt))\n",
    "expectyg = real(expect(σy_noisy, ρgt))\n",
    "expectzg = real(expect(Operator(basis, basis, sigmaz()), ρgt))\n",
    "\n",
    "expectxe = real(expect(σx_noisy, ρet))\n",
    "expectye = real(expect(σy_noisy, ρet))\n",
    "expectze = real(expect(Operator(basis, basis, sigmaz()), ρet))\n"
   ]
  },
  {
   "cell_type": "code",
   "execution_count": 480,
   "metadata": {},
   "outputs": [],
   "source": [
    "xtraj[1:8, :] .= xnom[1:8, :]\n",
    "xtraj[9, :] .= expectxg\n",
    "xtraj[10,:] .= expectyg\n",
    "xtraj[11, :] .= expectzg\n",
    "xtraj[12, :] .= expectxe\n",
    "xtraj[13, :] .= expectye\n",
    "xtraj[14, :] .= expectze;"
   ]
  },
  {
   "cell_type": "code",
   "execution_count": 481,
   "metadata": {},
   "outputs": [
    {
     "data": {
      "image/png": "[encoded data removed]",
      "text/plain": [
       "Figure(PyObject <Figure size 640x480 with 1 Axes>)"
      ]
     },
     "metadata": {},
     "output_type": "display_data"
    },
    {
     "data": {
      "text/plain": [
       "1-element Vector{PyCall.PyObject}:\n",
       " PyObject <matplotlib.lines.Line2D object at 0x000000008B9EBA58>"
      ]
     },
     "execution_count": 481,
     "metadata": {},
     "output_type": "execute_result"
    }
   ],
   "source": [
    "plot(xtraj[14, :])\n",
    "plot(xnom[14, :])"
   ]
  },
  {
   "cell_type": "code",
   "execution_count": 482,
   "metadata": {},
   "outputs": [
    {
     "data": {
      "image/png": "[encoded data removed]",
      "text/plain": [
       "Figure(PyObject <Figure size 640x480 with 1 Axes>)"
      ]
     },
     "metadata": {},
     "output_type": "display_data"
    },
    {
     "data": {
      "text/plain": [
       "1-element Vector{PyCall.PyObject}:\n",
       " PyObject <matplotlib.lines.Line2D object at 0x000000008BA7E208>"
      ]
     },
     "execution_count": 482,
     "metadata": {},
     "output_type": "execute_result"
    }
   ],
   "source": [
    "plot([Xopt[i][15:16] for i = 1:length(Xopt)])\n",
    "plot(xtraj[15,:])\n",
    "plot(xtraj[16, :])"
   ]
  },
  {
   "cell_type": "code",
   "execution_count": 483,
   "metadata": {},
   "outputs": [
    {
     "data": {
      "text/plain": [
       "18-element Vector{Float64}:\n",
       "  0.0\n",
       "  0.0\n",
       "  0.0\n",
       "  0.0\n",
       "  0.0\n",
       "  0.0\n",
       "  0.0\n",
       "  0.0\n",
       " -0.0024577866744122656\n",
       " -0.06907201670844668\n",
       "  0.10097293716772082\n",
       " -0.0020689948861749366\n",
       " -0.0689824344972211\n",
       " -0.10657463176301873\n",
       " -2.5680846338360652e-14\n",
       "  9.462916561453483e-16\n",
       "  0.00021398465186435456\n",
       "  4.270808778403072e-5"
      ]
     },
     "metadata": {},
     "output_type": "display_data"
    },
    {
     "name": "stdout",
     "output_type": "stream",
     "text": [
      "-----------------------------------------------------------------\n",
      "           OSQP v0.6.2  -  Operator Splitting QP Solver\n",
      "              (c) Bartolomeo Stellato,  Goran Banjac\n",
      "        University of Oxford  -  Stanford University 2021\n",
      "-----------------------------------------------------------------\n",
      "problem:  variables n = 7980, constraints m = 7980\n",
      "          nnz(P) + nnz(A) = 51331\n",
      "settings: linear system solver = qdldl,\n",
      "          eps_abs = 1.0e-008, eps_rel = 1.0e-008,\n",
      "          eps_prim_inf = 1.0e-008, eps_dual_inf = 1.0e-008,\n",
      "          rho = 1.00e-001 (adaptive),\n",
      "          sigma = 1.00e-006, alpha = 1.60, max_iter = 4000\n",
      "          check_termination: on (interval 25),\n",
      "          scaling: on, scaled_termination: off\n",
      "          warm start: on, polish: on, time_limit: off\n",
      "\n",
      "iter  objective    pri res    dua res    rho        time\n",
      "   1 -5.7212e+001  1.06e-002  5.12e+002  1.00e-001  2.53e-002s\n",
      " 200 -7.7738e-006  2.07e-011  1.62e-004  5.93e+001  1.99e-001s\n",
      " 400 -7.8215e-006  6.08e-012  8.70e-005  5.93e+001  3.79e-001s\n",
      " 600 -7.8374e-006  3.15e-012  6.33e-005  5.93e+001  5.42e-001s\n",
      " 800 -7.8465e-006  4.14e-011  5.14e-005  1.18e+001  7.07e-001s\n",
      "1000 -7.8615e-006  1.28e-011  3.82e-005  1.18e+001  8.81e-001s\n",
      "1200 -7.8677e-006  6.81e-012  3.35e-005  1.18e+001  1.04e+000s\n",
      "1400 -7.8718e-006  4.47e-012  3.13e-005  1.18e+001  1.21e+000s\n",
      "1600 -7.8750e-006  3.28e-012  2.99e-005  1.18e+001  1.38e+000s\n",
      "1800 -7.8777e-006  2.58e-012  2.87e-005  1.18e+001  1.55e+000s\n",
      "2000 -7.8800e-006  2.12e-012  2.78e-005  1.18e+001  1.72e+000s\n",
      "2200 -7.8824e-006  4.21e-011  2.67e-005  2.35e+000  1.90e+000s\n",
      "2400 -7.8906e-006  2.51e-011  2.42e-005  2.35e+000  2.07e+000s\n",
      "2600 -7.8968e-006  1.82e-011  2.26e-005  2.35e+000  2.24e+000s\n",
      "2800 -7.9018e-006  1.44e-011  2.13e-005  2.35e+000  2.41e+000s\n",
      "3000 -7.9059e-006  1.19e-011  2.03e-005  2.35e+000  2.57e+000s\n",
      "3200 -7.9094e-006  1.02e-011  1.94e-005  2.35e+000  2.73e+000s\n",
      "3400 -7.9125e-006  8.88e-012  1.87e-005  2.35e+000  2.90e+000s\n",
      "3600 -7.9151e-006  7.87e-012  1.80e-005  2.35e+000  3.08e+000s\n",
      "3800 -7.9175e-006  7.06e-012  1.74e-005  2.35e+000  3.22e+000s\n",
      "4000 -7.9197e-006  6.39e-012  1.69e-005  2.35e+000  3.37e+000s\n",
      "\n",
      "status:               solved inaccurate\n",
      "number of iterations: 4000\n",
      "optimal objective:    -0.0000\n",
      "run time:             3.37e+000s\n",
      "optimal rho estimate: 6.58e-001\n",
      "\n"
     ]
    }
   ],
   "source": [
    "#Set up the ILC QP\n",
    "\n",
    "#Cost   \n",
    "Qf = Diagonal([fill(0., sys.isodim*sys.nqstates); [0, 0, 8000.]; [0., 0., 8000.]; fill(0., 4)])\n",
    "\n",
    "Qilc = sparse(Diagonal([fill(0., sys.isodim*sys.nqstates); fill(1., 3*sys.nqstates); fill(0., 4)]))\n",
    "\n",
    "Rilc = sparse(Diagonal([0.00, 0.00]))\n",
    "H = blockdiag(kron(I(T-2), blockdiag(Rilc, Qilc)), Rilc, sparse(Qf))\n",
    "q = zeros((n+m)*(T-1))\n",
    "for k = 1:(T-2)\n",
    "   q[(k-1)*(m+n) .+ (1:(m+n))] .= [zeros(sys.ncontrols); Qilc*(xtraj[:,k+1] - Xopt[k+1])] \n",
    "end\n",
    "q[(T-2)*(m+n) .+ (1:(m+n))] .= [zeros(sys.ncontrols); Qf*(xtraj[:,T] - Xopt[T])]\n",
    "\n",
    "display(xtraj[:,T] - Xopt[T])\n",
    "\n",
    "#Constraints\n",
    "U = kron(I(T-1), [I zeros(m,n)]) #Matrix that picks out all u\n",
    "C = kron(I(T-1), [zeros(m,16) I zeros(m,2)]) #picks out all cntrls\n",
    "X = kron(I(T-1), [zeros(n,m) I]) #Matrix that picks out all x\n",
    "D = spzeros(n*(T-1), (n+m)*(T-1)) #dynamics constraints\n",
    "\n",
    "D[1:n,1:m] .= B[:,:,1]\n",
    "D[1:n,(m+1):(m+n)] .= -I(n)\n",
    "for k = 1:(T-2)\n",
    "    D[(k*n).+(1:n), (m+(k-1)*(n+m)).+(1:(2*n+m))] .= [A[:,:,k+1] B[:,:,k+1] -I]\n",
    "end \n",
    "\n",
    "c_bnd = [fill(2π*19e-3, 2*(T-2)); zeros(2)]\n",
    "ctrajF = reduce(vcat, xtraj[15:16,2:end])\n",
    "lb = [zeros(n*(T-1)); -c_bnd-ctrajF]\n",
    "ub = [zeros(n*(T-1)); c_bnd-ctrajF]\n",
    "\n",
    "qp = OSQP.Model()\n",
    "OSQP.setup!(qp, P=H, q=q, A=[D; C], l=lb, u=ub, eps_abs=1e-8, eps_rel=1e-8, eps_prim_inf = 1.0e-8, eps_dual_inf = 1.0e-8, polish=1)\n",
    "results = OSQP.solve!(qp)\n",
    "ztraj = results.x;"
   ]
  },
  {
   "cell_type": "code",
   "execution_count": 484,
   "metadata": {},
   "outputs": [
    {
     "data": {
      "text/plain": [
       "2×41 Matrix{Float64}:\n",
       "  0.00546338  -0.00150447  -0.00247707  …  -0.00117012   -0.00061595\n",
       " -0.00105594   4.05467e-5   0.00165574     -0.000680193  -0.000152768"
      ]
     },
     "metadata": {},
     "output_type": "display_data"
    },
    {
     "data": {
      "text/plain": [
       "2×41 Matrix{Float64}:\n",
       " -0.0373846  0.00607403  -0.0403439  -0.0158185   …   0.00313797  0.0195944\n",
       " -0.010675   0.0108708   -0.011477   -0.00275569     -0.00218327  0.00158855"
      ]
     },
     "metadata": {},
     "output_type": "display_data"
    },
    {
     "data": {
      "text/plain": [
       "2×41 Matrix{Float64}:\n",
       " -0.0319213  0.00456955  -0.042821    -0.0130362   …   0.00196785  0.0189785\n",
       " -0.011731   0.0109114   -0.00982126  -0.00515281     -0.00286347  0.00143578"
      ]
     },
     "metadata": {},
     "output_type": "display_data"
    }
   ],
   "source": [
    "Δu = reshape(U*ztraj, 2, :)\n",
    "display(Δu[:, 20:60])\n",
    "display(utraj[:, 20:60])\n",
    "utraj = utraj+Δu\n",
    "display(utraj[:, 20:60])"
   ]
  },
  {
   "cell_type": "code",
   "execution_count": null,
   "metadata": {},
   "outputs": [],
   "source": []
  }
 ],
 "metadata": {
  "kernelspec": {
   "display_name": "Julia 1.7.2",
   "language": "julia",
   "name": "julia-1.7"
  },
  "language_info": {
   "file_extension": ".jl",
   "mimetype": "application/julia",
   "name": "julia",
   "version": "1.7.2"
  }
 },
 "nbformat": 4,
 "nbformat_minor": 4
}
