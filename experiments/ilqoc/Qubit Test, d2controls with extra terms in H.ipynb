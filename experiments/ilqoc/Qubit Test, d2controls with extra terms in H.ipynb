{
 "cells": [
  {
   "cell_type": "code",
   "execution_count": 1,
   "metadata": {},
   "outputs": [
    {
     "name": "stderr",
     "output_type": "stream",
     "text": [
      "\u001b[32m\u001b[1m  Activating\u001b[22m\u001b[39m project at `C:\\Users\\a7b\\Pico.jl`\n"
     ]
    }
   ],
   "source": [
    "import Pkg; Pkg.activate(\"C:/Users/a7b/Pico.jl\"); Pkg.instantiate()"
   ]
  },
  {
   "cell_type": "code",
   "execution_count": 2,
   "metadata": {},
   "outputs": [],
   "source": [
    "using Pico\n",
    "using PyPlot\n",
    "using QuantumOptics\n",
    "using ForwardDiff\n",
    "using Interpolations\n",
    "using LinearAlgebra\n",
    "using SparseArrays\n",
    "using OSQP"
   ]
  },
  {
   "cell_type": "code",
   "execution_count": 3,
   "metadata": {},
   "outputs": [
    {
     "data": {
      "text/plain": [
       "exp_frechet!"
      ]
     },
     "execution_count": 3,
     "metadata": {},
     "output_type": "execute_result"
    }
   ],
   "source": [
    "WDIR = joinpath(@__DIR__, \"../../\")\n",
    "include(joinpath(WDIR, \"experiments\", \"ilqoc\", \"measurement.jl\"))"
   ]
  },
  {
   "cell_type": "code",
   "execution_count": 4,
   "metadata": {},
   "outputs": [],
   "source": [
    "#set up the 2 level transmon system\n",
    "\n",
    "iter = 3000\n",
    "ω = 2π * 4.96 #GHz\n",
    "α = -2π * 0.143 #GHz\n",
    "levels = 2\n",
    "\n",
    "ψg = [1. + 0*im, 0]\n",
    "ψe = [0, 1. + 0*im]\n",
    "\n",
    "ψ1 = [ψg, ψe]\n",
    "ψf = [-im*ψe, -im*ψg]\n",
    "\n",
    "H_drift = α/2 * Pico.quad(levels)\n",
    "H_drive = [Pico.create(levels) + Pico.annihilate(levels),\n",
    "1im * (Pico.create(levels) - Pico.annihilate(levels))]\n",
    "\n",
    "sys = QuantumSystem(\n",
    "    H_drift, \n",
    "    H_drive,\n",
    "    ψ1 = ψ1,\n",
    "    ψf = ψf,\n",
    "    control_bounds = [2π * 19e-3,  2π * 19e-3]\n",
    ");"
   ]
  },
  {
   "cell_type": "code",
   "execution_count": 31,
   "metadata": {},
   "outputs": [],
   "source": [
    "# Define the optimal control problem.\n",
    "# Here we are doing a pi pulse (Rx(pi) gate).\n",
    "T = 400\n",
    "Δt = 0.1\n",
    "Q = 200.\n",
    "R = 0.1\n",
    "cost = infidelity_cost\n",
    "hess = true\n",
    "pinqstate = true\n",
    "\n",
    "time = T * Δt\n",
    "\n",
    "options = Options(\n",
    "    max_iter = iter,\n",
    "    tol = 1e-5\n",
    ")\n",
    "\n",
    "prob = QuantumControlProblem(\n",
    "    sys,\n",
    "    T;\n",
    "    Δt = Δt,\n",
    "    Q = Q,\n",
    "    R = R,\n",
    "    eval_hessian = hess,\n",
    "    cost = cost,\n",
    "    pin_first_qstate = pinqstate,\n",
    "    options = options\n",
    ");"
   ]
  },
  {
   "cell_type": "code",
   "execution_count": 32,
   "metadata": {},
   "outputs": [
    {
     "name": "stdout",
     "output_type": "stream",
     "text": [
      "This is Ipopt version 3.14.4, running with linear solver MUMPS 5.4.1.\n",
      "\n",
      "Number of nonzeros in equality constraint Jacobian...:    36634\n",
      "Number of nonzeros in inequality constraint Jacobian.:        0\n",
      "Number of nonzeros in Lagrangian Hessian.............:    14723\n",
      "\n",
      "Total number of variables............................:     5580\n",
      "                     variables with only lower bounds:        0\n",
      "                variables with lower and upper bounds:      796\n",
      "                     variables with only upper bounds:        0\n",
      "Total number of equality constraints.................:     4788\n",
      "Total number of inequality constraints...............:        0\n",
      "        inequality constraints with only lower bounds:        0\n",
      "   inequality constraints with lower and upper bounds:        0\n",
      "        inequality constraints with only upper bounds:        0\n",
      "\n",
      "iter    objective    inf_pr   inf_du lg(mu)  ||d||  lg(rg) alpha_du alpha_pr  ls\n",
      "   0  4.3451816e-01 5.29e-01 9.16e-03  -1.0 0.00e+00    -  0.00e+00 0.00e+00   0\n",
      "   1  8.7602094e+00 4.26e-01 7.52e+00  -1.7 7.28e+00  -4.0 2.25e-02 1.94e-01f  1\n",
      "   2  2.0903413e+01 3.55e-03 2.00e+02  -1.7 2.43e+00  -4.5 1.26e-01 1.00e+00f  1\n",
      "   3  2.9801888e+00 9.26e-05 1.03e+00  -1.7 2.27e+00  -5.0 7.60e-01 1.00e+00f  1\n",
      "   4  1.3919969e-01 3.51e-04 8.77e-01  -1.7 6.45e-01  -5.4 1.00e+00 1.00e+00f  1\n",
      "   5  2.2929382e-02 8.21e-05 1.64e-01  -1.7 1.68e-01  -5.9 1.00e+00 1.00e+00h  1\n",
      "   6  1.2026552e-02 1.53e-06 9.71e-03  -2.5 1.42e-01  -6.4 1.00e+00 1.00e+00h  1\n",
      "   7  3.7837137e-03 8.15e-06 2.23e-01  -3.8 1.29e-01  -6.9 9.34e-01 1.00e+00h  1\n",
      "   8  1.9595744e-03 3.71e-06 2.00e+02  -3.8 3.20e-02  -1.9 1.00e+00 1.00e+00h  1\n",
      "   9  1.0856245e-03 3.45e-06 2.00e+02  -3.8 2.28e-02  -2.4 1.00e+00 1.00e+00h  1\n",
      "iter    objective    inf_pr   inf_du lg(mu)  ||d||  lg(rg) alpha_du alpha_pr  ls\n",
      "  10  8.0706768e-04 1.48e-06 2.00e+02  -3.8 8.67e-03  -2.9 1.00e+00 1.00e+00h  1\n",
      "  11  7.6393259e-04 1.09e-07 2.00e+02  -3.8 2.03e-03  -2.4 1.00e+00 1.00e+00h  1\n",
      "  12  7.2093920e-04 2.31e-07 2.00e+02  -3.8 3.71e-03  -2.9 1.00e+00 1.00e+00h  1\n",
      "  13  7.1035942e-04 2.09e-08 2.00e+02  -3.8 1.17e-03  -2.5 1.00e+00 1.00e+00h  1\n",
      "  14  6.9350660e-04 8.56e-08 1.31e-01  -3.8 2.45e-03  -3.0 1.00e+00 1.00e+00h  1\n",
      "  15  6.9276945e-04 1.86e-10 1.06e-03  -3.8 1.16e-04  -1.6 1.00e+00 1.00e+00h  1\n",
      "  16  6.2866444e-04 9.28e-08 6.85e-05  -4.0 3.27e-03  -2.1 1.00e+00 1.00e+00h  1\n",
      "  17  5.7189749e-04 1.29e-07 2.00e+02  -4.0 2.28e-03  -2.6 1.00e+00 1.00e+00h  1\n",
      "  18  5.5873734e-04 1.03e-08 2.22e-02  -4.0 6.46e-04  -2.2 1.00e+00 1.00e+00h  1\n",
      "  19  5.4127561e-04 3.30e-08 2.00e+02  -4.0 1.27e-03  -2.7 1.00e+00 1.00e+00h  1\n",
      "iter    objective    inf_pr   inf_du lg(mu)  ||d||  lg(rg) alpha_du alpha_pr  ls\n",
      "  20  5.2398927e-04 3.81e-08 2.00e+02  -4.0 2.42e-03  -3.1 1.00e+00 1.00e+00F  1\n",
      "  21  5.2186195e-04 1.69e-10 2.00e+02  -4.0 1.21e-04  -1.8 1.00e+00 1.00e+00h  1\n",
      "  22  5.2018026e-04 3.89e-11 7.23e-03  -4.0 3.56e-04  -2.3 1.00e+00 1.00e+00F  1\n",
      "  23  5.1626573e-04 7.75e-09 2.00e+02  -4.0 8.95e-04  -2.8 1.00e+00 1.00e+00h  1\n",
      "  24  5.0947777e-04 3.42e-08 2.77e-02  -4.0 1.97e-03  -3.2 1.00e+00 1.00e+00h  1\n",
      "  25  5.0738753e-04 3.83e-09 2.00e+02  -4.0 6.66e-04  -2.8 1.00e+00 1.00e+00h  1\n",
      "  26  5.0353797e-04 1.98e-08 2.00e+02  -4.0 1.48e-03  -3.3 1.00e+00 1.00e+00h  1\n",
      "  27  4.9974925e-04 4.33e-08 2.00e+02  -4.0 2.35e-03  -3.8 1.00e+00 1.00e+00h  1\n",
      "  28  4.9938315e-04 6.29e-08 6.73e-02  -4.0 2.92e-03  -4.2 1.00e+00 1.00e+00h  1\n",
      "  29  4.9762659e-04 5.61e-08 5.88e-02  -4.0 1.00e-02  -4.7 1.00e+00 1.25e-01h  4\n",
      "iter    objective    inf_pr   inf_du lg(mu)  ||d||  lg(rg) alpha_du alpha_pr  ls\n",
      "  30  4.9787579e-04 5.23e-08 2.00e+02  -4.0 7.85e-03  -4.3 1.00e+00 6.25e-02h  5\n",
      "  31  4.9830520e-04 4.48e-08 1.22e-02  -4.0 1.84e-03  -4.8 1.00e+00 1.00e+00h  1\n",
      "  32  4.9730924e-04 1.60e-08 2.00e+02  -4.0 1.06e-03  -5.2 1.00e+00 1.00e+00h  1\n",
      "  33  4.9725510e-04 2.59e-08 2.00e+02  -4.0 1.49e-03  -5.7 1.00e+00 1.00e+00h  1\n",
      "  34  4.9708614e-04 8.79e-12 2.00e+02  -4.0 1.80e-05  -1.7 1.00e+00 1.00e+00h  1\n",
      "  35  4.9709859e-04 4.92e-11 1.09e-03  -4.0 4.39e-05  -2.2 1.00e+00 1.00e+00h  1\n",
      "  36  4.9711511e-04 2.61e-10 2.00e+02  -4.0 1.07e-04  -2.6 1.00e+00 1.00e+00h  1\n",
      "  37  4.9702087e-04 1.08e-09 3.91e-03  -4.0 2.29e-04  -3.1 1.00e+00 1.00e+00F  1\n",
      "  38  4.9711004e-04 9.91e-10 2.00e+02  -4.0 2.87e-04  -3.6 1.00e+00 1.00e+00h  1\n",
      "  39  4.9710985e-04 9.91e-10 1.19e-03  -4.0 2.12e-04  -3.2 1.00e+00 2.38e-07h 23\n",
      "iter    objective    inf_pr   inf_du lg(mu)  ||d||  lg(rg) alpha_du alpha_pr  ls\n",
      "  40  4.9706128e-04 3.65e-10 1.51e-04  -4.0 1.72e-04  -3.6 1.00e+00 1.00e+00h  1\n",
      "  41  4.9695261e-04 4.42e-10 2.00e+02  -4.0 2.11e-04  -4.1 1.00e+00 1.00e+00h  1\n",
      "  42  4.9695257e-04 4.42e-10 3.77e-07  -4.0 7.98e-05  -2.8 1.00e+00 1.86e-09h 30\n",
      "\n",
      "Number of Iterations....: 42\n",
      "\n",
      "                                   (scaled)                 (unscaled)\n",
      "Objective...............:   1.2423814133819005e-04    4.9695256535276021e-04\n",
      "Dual infeasibility......:   3.7740280328657505e-07    1.5096112131463002e-06\n",
      "Constraint violation....:   4.4186050738442839e-10    4.4186050738442839e-10\n",
      "Variable bound violation:   0.0000000000000000e+00    0.0000000000000000e+00\n",
      "Complementarity.........:   1.0000327058689250e-04    4.0001308234757001e-04\n",
      "Overall NLP error.......:   3.7740280328657505e-07    1.5096112131463002e-06\n",
      "\n",
      "\n",
      "Number of objective function evaluations             = 114\n",
      "Number of objective gradient evaluations             = 43\n",
      "Number of equality constraint evaluations            = 114\n",
      "Number of inequality constraint evaluations          = 0\n",
      "Number of equality constraint Jacobian evaluations   = 43\n",
      "Number of inequality constraint Jacobian evaluations = 0\n",
      "Number of Lagrangian Hessian evaluations             = 42\n",
      "Total seconds in IPOPT                               = 6.938\n",
      "\n",
      "EXIT: Optimal Solution Found.\n"
     ]
    }
   ],
   "source": [
    "# This will give us the nominal trajectory that we need to track\n",
    "solve!(prob)"
   ]
  },
  {
   "cell_type": "code",
   "execution_count": 33,
   "metadata": {},
   "outputs": [],
   "source": [
    "#Extract the solution\n",
    "Xopt = prob.trajectory.states\n",
    "Uopt = prob.trajectory.actions\n",
    "\n",
    "#Add the measurements we care about to the state vector.\n",
    "#Here they are the Pauli measurements <σ_x>, <σ_y>, <σ_z>\n",
    "for i = 1:length(Xopt)\n",
    "    x = Xopt[i]\n",
    "    meas = zeros(0)\n",
    "    for s = 1:sys.nqstates\n",
    "        iso_state = x[slice(s, sys.isodim)]\n",
    "        append!(meas, meas_x_iso(iso_state))\n",
    "        append!(meas, meas_y_iso(iso_state))\n",
    "        append!(meas, meas_z_iso(iso_state))\n",
    "    end\n",
    "    Xopt[i] = [x[1:sys.n_wfn_states]; meas; x[(sys.n_wfn_states + 1):end]]\n",
    "end\n"
   ]
  },
  {
   "cell_type": "code",
   "execution_count": 34,
   "metadata": {},
   "outputs": [
    {
     "name": "stdout",
     "output_type": "stream",
     "text": [
      "18"
     ]
    }
   ],
   "source": [
    "#Set up xnom, unom, and utraj\n",
    "\n",
    "n = sys.nstates + 3*sys.nqstates\n",
    "print(n)\n",
    "m = sys.ncontrols\n",
    "\n",
    "xnom = zeros(n, prob.T)\n",
    "\n",
    "for k = 1:prob.T\n",
    "    xnom[:, k] .= Xopt[k]\n",
    "end\n",
    "\n",
    "unom = zeros(m, prob.T - 1)\n",
    "utraj = zeros(m, prob.T - 1)\n",
    "\n",
    "for k = 1:prob.T - 1\n",
    "    unom[:, k] .= Uopt[k]\n",
    "    utraj[:, k] .= Uopt[k]\n",
    "end\n",
    "\n"
   ]
  },
  {
   "cell_type": "code",
   "execution_count": 35,
   "metadata": {},
   "outputs": [
    {
     "data": {
      "text/plain": [
       "true_dynamics (generic function with 1 method)"
      ]
     },
     "execution_count": 35,
     "metadata": {},
     "output_type": "execute_result"
    }
   ],
   "source": [
    "#Nominal model for the system\n",
    "function discrete_dynamics(x, u)\n",
    "    G = sys.G_drift + x[15] * sys.G_drives[1] + x[16] * sys.G_drives[2]\n",
    "    h_prop = exp(G * Δt)\n",
    "    state1_ = x[1:4]\n",
    "    state2_ = x[5:8]\n",
    "    state1 = h_prop * state1_\n",
    "    state2 = h_prop * state2_\n",
    "    meas_1 = [meas_x_iso(state1), meas_y_iso(state1), meas_z_iso(state1)]\n",
    "    meas_2 = [meas_x_iso(state2), meas_y_iso(state2), meas_z_iso(state2)]\n",
    "    controls = x[15:16] + x[17:18] .* Δt\n",
    "    dcontrols = x[17:18] + u[1:2] .* Δt\n",
    "    return [state1; state2; meas_1; meas_2; controls; dcontrols]\n",
    "end\n",
    "\n",
    "#Fake true model for the system. Just add a small sigmaz() term to the Hamiltonian\n",
    "function true_dynamics(x, u)\n",
    "    G = sys.G_drift + 0.01*get_mat_iso(-1im * sigmaz()) + x[15] * sys.G_drives[1] + x[16] * sys.G_drives[2]\n",
    "    h_prop = exp(G * Δt)\n",
    "    state1_ = x[1:4]\n",
    "    state2_ = x[5:8]\n",
    "    state1 = h_prop * state1_\n",
    "    state2 = h_prop * state2_\n",
    "    meas_1 = [meas_x_iso(state1), meas_y_iso(state1), meas_z_iso(state1)]\n",
    "    meas_2 = [meas_x_iso(state2), meas_y_iso(state2), meas_z_iso(state2)]\n",
    "    controls = x[15:16] + x[17:18] .* Δt\n",
    "    dcontrols = x[17:18] + u[1:2] .* Δt\n",
    "    return [state1; state2; meas_1; meas_2; controls; dcontrols]\n",
    "end\n"
   ]
  },
  {
   "cell_type": "code",
   "execution_count": 36,
   "metadata": {},
   "outputs": [],
   "source": [
    "#Compute linearization of dynamics using nominal dynamics + trajectory\n",
    "# This cell takes around 30 seconds to run\n",
    "\n",
    "A = zeros(n, n, T-1)\n",
    "B = zeros(n, m, T-1)  \n",
    "\n",
    "for k = 1:(T-1)\n",
    "    A[:, :, k] .= ForwardDiff.jacobian(x->discrete_dynamics(x, Uopt[k]), Xopt[k])\n",
    "    B[:, :, k] .= ForwardDiff.jacobian(u->discrete_dynamics(Xopt[k], u), Uopt[k])\n",
    "end    "
   ]
  },
  {
   "cell_type": "markdown",
   "metadata": {},
   "source": [
    "## To run the ILC algorithm run all the cells below and repeat until solution is sufficiently dialed in."
   ]
  },
  {
   "cell_type": "code",
   "execution_count": 43,
   "metadata": {},
   "outputs": [],
   "source": [
    "#Rollout on the \"real\" system\n",
    "xtraj = zeros(n,T)\n",
    "xtraj[:,1] .= xnom[:,1]\n",
    "for k = 1:(T-1)\n",
    "    xtraj[:,k+1] .= true_dynamics(xtraj[:,k], utraj[:,k])\n",
    "end\n"
   ]
  },
  {
   "cell_type": "code",
   "execution_count": 44,
   "metadata": {},
   "outputs": [
    {
     "data": {
      "image/png": "[encoded data removed]",
      "text/plain": [
       "Figure(PyObject <Figure size 640x480 with 1 Axes>)"
      ]
     },
     "metadata": {},
     "output_type": "display_data"
    },
    {
     "data": {
      "text/plain": [
       "0.9961479672019382"
      ]
     },
     "execution_count": 44,
     "metadata": {},
     "output_type": "execute_result"
    }
   ],
   "source": [
    "#plot σz for the state that starts in |e> and goes to -i|g>\n",
    "plot(xtraj[14, :])\n",
    "plot(xnom[14, :])\n",
    "xtraj[14, end]"
   ]
  },
  {
   "cell_type": "code",
   "execution_count": 45,
   "metadata": {},
   "outputs": [
    {
     "data": {
      "image/png": "[encoded data removed]",
      "text/plain": [
       "Figure(PyObject <Figure size 640x480 with 1 Axes>)"
      ]
     },
     "metadata": {},
     "output_type": "display_data"
    },
    {
     "data": {
      "text/plain": [
       "-0.9961479672019407"
      ]
     },
     "execution_count": 45,
     "metadata": {},
     "output_type": "execute_result"
    }
   ],
   "source": [
    "#plot σz for the state that starts in |g> and goes to -i|e>\n",
    "plot(xtraj[11, :])\n",
    "plot(xnom[11, :])\n",
    "xtraj[11, end]"
   ]
  },
  {
   "cell_type": "code",
   "execution_count": 46,
   "metadata": {},
   "outputs": [
    {
     "data": {
      "image/png": "[encoded data removed]",
      "text/plain": [
       "Figure(PyObject <Figure size 640x480 with 1 Axes>)"
      ]
     },
     "metadata": {},
     "output_type": "display_data"
    },
    {
     "data": {
      "text/plain": [
       "1-element Vector{PyCall.PyObject}:\n",
       " PyObject <matplotlib.lines.Line2D object at 0x0000000049D45B38>"
      ]
     },
     "execution_count": 46,
     "metadata": {},
     "output_type": "execute_result"
    }
   ],
   "source": [
    "# Plot controls. The blue and yellow are the nominal controls and the red and green \n",
    "#are the updated controls after each iteration.\n",
    "plot([Xopt[i][15:16] for i = 1:length(Xopt)])\n",
    "plot(xtraj[15,:])\n",
    "plot(xtraj[16, :])"
   ]
  },
  {
   "cell_type": "code",
   "execution_count": 47,
   "metadata": {},
   "outputs": [
    {
     "data": {
      "text/plain": [
       "18-element Vector{Float64}:\n",
       "  0.040316378717837\n",
       " -0.011370177236461318\n",
       " -0.01733799313956495\n",
       "  0.0010281772389274524\n",
       "  0.011370177236458846\n",
       "  0.040316378717980626\n",
       "  0.0010281772389088006\n",
       "  0.017337993139562385\n",
       "  0.033723524476192125\n",
       " -0.08094412477960948\n",
       "  0.003852032798059346\n",
       " -0.03372352447618697\n",
       "  0.08094412477989664\n",
       " -0.0038520327980220426\n",
       "  6.342582709040201e-18\n",
       " -4.7704895589362195e-18\n",
       "  0.008048161840709403\n",
       "  0.00164113784963366"
      ]
     },
     "metadata": {},
     "output_type": "display_data"
    },
    {
     "name": "stdout",
     "output_type": "stream",
     "text": [
      "-----------------------------------------------------------------\n",
      "           OSQP v0.6.2  -  Operator Splitting QP Solver\n",
      "              (c) Bartolomeo Stellato,  Goran Banjac\n",
      "        University of Oxford  -  Stanford University 2021\n",
      "-----------------------------------------------------------------\n",
      "problem:  variables n = 7980, constraints m = 7980\n",
      "          nnz(P) + nnz(A) = 51234\n",
      "settings: linear system solver = qdldl,\n",
      "          eps_abs = 1.0e-008, eps_rel = 1.0e-008,\n",
      "          eps_prim_inf = 1.0e-008, eps_dual_inf = 1.0e-008,\n",
      "          rho = 1.00e-001 (adaptive),\n",
      "          sigma = 1.00e-006, alpha = 1.60, max_iter = 4000\n",
      "          check_termination: on (interval 25),\n",
      "          scaling: on, scaled_termination: off\n",
      "          warm start: on, polish: on, time_limit: off\n",
      "\n",
      "iter  objective    pri res    dua res    rho        time\n",
      "   1 -2.7279e-001  1.04e-003  1.85e+001  1.00e-001  2.95e-002s\n",
      " 200 -4.1396e-001  6.42e-006  5.09e-006  6.68e+001  2.01e-001s\n",
      " 400 -3.5718e-001  2.24e-006  1.09e-006  3.34e+002  3.92e-001s\n",
      " 600 -3.1338e-001  3.88e-007  6.55e-007  3.34e+002  5.25e-001s\n",
      " 800 -3.0463e-001  6.72e-008  3.93e-007  3.34e+002  6.80e-001s\n",
      "1000 -3.0308e-001  1.16e-008  2.35e-007  3.34e+002  8.09e-001s\n",
      "1025 -3.0302e-001  9.34e-009  2.21e-007  3.34e+002  8.23e-001s\n",
      "\n",
      "status:               solved\n",
      "solution polish:      unsuccessful\n",
      "number of iterations: 1025\n",
      "optimal objective:    -0.3030\n",
      "run time:             8.41e-001s\n",
      "optimal rho estimate: 1.76e+002\n",
      "\n"
     ]
    }
   ],
   "source": [
    "#Set up the ILC QP\n",
    "\n",
    "#Costs\n",
    "\n",
    "# Only really care about getting sigmaz measurments to be 1 since that \n",
    "# forces the other measurements to be 0.\n",
    "Qf = Diagonal([fill(0., sys.isodim*sys.nqstates); [0, 0, 8000.]; [0., 0., 8000.]; fill(0., 4)])\n",
    "\n",
    "Qilc = sparse(Diagonal([fill(0., sys.isodim*sys.nqstates); fill(1., 3*sys.nqstates); fill(0., 4)]))\n",
    "\n",
    "Rilc = sparse(Diagonal([0.01, 0.01]))\n",
    "H = blockdiag(kron(I(T-2), blockdiag(Rilc, Qilc)), Rilc, sparse(Qf))\n",
    "q = zeros((n+m)*(T-1))\n",
    "#errors from the \"real\" rollout\n",
    "for k = 1:(T-2)\n",
    "   q[(k-1)*(m+n) .+ (1:(m+n))] .= [zeros(sys.ncontrols); Qilc*(xtraj[:,k+1] - Xopt[k+1])] \n",
    "end\n",
    "q[(T-2)*(m+n) .+ (1:(m+n))] .= [zeros(sys.ncontrols); Qf*(xtraj[:,T] - Xopt[T])]\n",
    "\n",
    "display(xtraj[:,T] - Xopt[T])\n",
    "\n",
    "#Constraints\n",
    "U = kron(I(T-1), [I zeros(m,n)]) #Matrix that picks out all u (d2controls)\n",
    "C = kron(I(T-1), [zeros(m,16) I zeros(m,2)]) #picks out all cntrls\n",
    "X = kron(I(T-1), [zeros(n,m) I]) #Matrix that picks out all x\n",
    "D = spzeros(n*(T-1), (n+m)*(T-1)) #dynamics constraints\n",
    "\n",
    "D[1:n,1:m] .= B[:,:,1]\n",
    "D[1:n,(m+1):(m+n)] .= -I(n)\n",
    "for k = 1:(T-2)\n",
    "    D[(k*n).+(1:n), (m+(k-1)*(n+m)).+(1:(2*n+m))] .= [A[:,:,k+1] B[:,:,k+1] -I]\n",
    "end \n",
    "\n",
    "c_bnd = [fill(2π*19e-3, 2*(T-2)); zeros(2)]\n",
    "ctrajF = reduce(vcat, xtraj[15:16,2:end])\n",
    "lb = [zeros(n*(T-1)); -c_bnd-ctrajF]\n",
    "ub = [zeros(n*(T-1)); c_bnd-ctrajF]\n",
    "\n",
    "qp = OSQP.Model()\n",
    "OSQP.setup!(qp, P=H, q=q, A=[D; C], l=lb, u=ub, eps_abs=1e-8, eps_rel=1e-8, eps_prim_inf = 1.0e-8, eps_dual_inf = 1.0e-8, polish=1)\n",
    "results = OSQP.solve!(qp)\n",
    "ztraj = results.x;"
   ]
  },
  {
   "cell_type": "code",
   "execution_count": 48,
   "metadata": {},
   "outputs": [
    {
     "data": {
      "text/plain": [
       "2×399 Matrix{Float64}:\n",
       "  0.0332035    0.0290146    0.0250984    …   0.0304454     0.033223\n",
       " -6.06741e-5  -0.00011509  -0.000163742     -0.000222619  -1.81175e-5"
      ]
     },
     "execution_count": 48,
     "metadata": {},
     "output_type": "execute_result"
    }
   ],
   "source": [
    "#update utraj\n",
    "Δu = reshape(U*ztraj, 2, :)\n",
    "#display(Δu[:, 20:60])\n",
    "#display(utraj[:, 20:60])\n",
    "utraj = utraj+Δu\n",
    "#display(utraj[:, 20:60])"
   ]
  },
  {
   "cell_type": "code",
   "execution_count": null,
   "metadata": {},
   "outputs": [],
   "source": []
  }
 ],
 "metadata": {
  "kernelspec": {
   "display_name": "Julia 1.7.2",
   "language": "julia",
   "name": "julia-1.7"
  },
  "language_info": {
   "file_extension": ".jl",
   "mimetype": "application/julia",
   "name": "julia",
   "version": "1.7.2"
  }
 },
 "nbformat": 4,
 "nbformat_minor": 4
}
