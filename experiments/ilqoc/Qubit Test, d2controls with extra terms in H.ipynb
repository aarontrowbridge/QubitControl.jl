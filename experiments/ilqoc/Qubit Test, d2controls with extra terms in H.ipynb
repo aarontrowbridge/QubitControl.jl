{
 "cells": [
  {
   "cell_type": "code",
   "execution_count": null,
   "metadata": {
    "ExecuteTime": {
     "start_time": "2022-09-04T21:08:27.795Z"
    }
   },
   "outputs": [],
   "source": [
    "import Pkg; Pkg.activate(\"C:/Users/a7b/Pico.jl\"); Pkg.instantiate()"
   ]
  },
  {
   "cell_type": "code",
   "execution_count": null,
   "metadata": {
    "ExecuteTime": {
     "start_time": "2022-09-04T21:08:33.850Z"
    }
   },
   "outputs": [],
   "source": [
    "using Pico\n",
    "using PyPlot\n",
    "using QuantumOptics\n",
    "using ForwardDiff\n",
    "using Interpolations\n",
    "using LinearAlgebra\n",
    "using SparseArrays\n",
    "using OSQP"
   ]
  },
  {
   "cell_type": "code",
   "execution_count": null,
   "metadata": {
    "ExecuteTime": {
     "start_time": "2022-09-04T21:08:34.403Z"
    }
   },
   "outputs": [],
   "source": [
    "WDIR = joinpath(@__DIR__, \"../../\")\n",
    "include(joinpath(WDIR, \"experiments\", \"ilqoc\", \"measurement.jl\"))"
   ]
  },
  {
   "cell_type": "code",
   "execution_count": null,
   "metadata": {
    "ExecuteTime": {
     "start_time": "2022-09-04T21:08:34.808Z"
    }
   },
   "outputs": [],
   "source": [
    "#set up the 2 level transmon system\n",
    "\n",
    "iter = 3000\n",
    "ω = 2π * 4.96 #GHz\n",
    "α = -2π * 0.143 #GHz\n",
    "levels = 2\n",
    "\n",
    "ψg = [1. + 0*im, 0]\n",
    "ψe = [0, 1. + 0*im]\n",
    "\n",
    "ψ1 = [ψg, ψe]\n",
    "ψf = [-im*ψe, -im*ψg]\n",
    "\n",
    "H_drift = α/2 * Pico.quad(levels)\n",
    "H_drive = [Pico.create(levels) + Pico.annihilate(levels),\n",
    "1im * (Pico.create(levels) - Pico.annihilate(levels))]\n",
    "\n",
    "sys = QuantumSystem(\n",
    "    H_drift, \n",
    "    H_drive,\n",
    "    ψ1 = ψ1,\n",
    "    ψf = ψf,\n",
    "    control_bounds = [2π * 19e-3,  2π * 19e-3]\n",
    ");"
   ]
  },
  {
   "cell_type": "code",
   "execution_count": null,
   "metadata": {
    "ExecuteTime": {
     "start_time": "2022-09-04T21:08:38.857Z"
    }
   },
   "outputs": [],
   "source": [
    "# Define the optimal control problem.\n",
    "# Here we are doing a pi pulse (Rx(pi) gate).\n",
    "T = 400\n",
    "Δt = 0.1\n",
    "Q = 200.\n",
    "R = 0.1\n",
    "cost = infidelity_cost\n",
    "hess = true\n",
    "pinqstate = true\n",
    "\n",
    "time = T * Δt\n",
    "\n",
    "options = Options(\n",
    "    max_iter = iter,\n",
    "    tol = 1e-5\n",
    ")\n",
    "\n",
    "prob = QuantumControlProblem(\n",
    "    sys,\n",
    "    T;\n",
    "    Δt = Δt,\n",
    "    Q = Q,\n",
    "    R = R,\n",
    "    eval_hessian = hess,\n",
    "    cost = cost,\n",
    "    pin_first_qstate = pinqstate,\n",
    "    options = options\n",
    ");"
   ]
  },
  {
   "cell_type": "code",
   "execution_count": null,
   "metadata": {
    "ExecuteTime": {
     "start_time": "2022-09-04T21:02:18.320Z"
    }
   },
   "outputs": [],
   "source": [
    "# This will give us the nominal trajectory that we need to track\n",
    "solve!(prob)"
   ]
  },
  {
   "cell_type": "code",
   "execution_count": null,
   "metadata": {
    "ExecuteTime": {
     "start_time": "2022-09-04T21:02:32.589Z"
    }
   },
   "outputs": [],
   "source": [
    "#Extract the solution\n",
    "Xopt = prob.trajectory.states\n",
    "Uopt = prob.trajectory.actions \n",
    "\n",
    "display(Xopt)\n",
    "display(Uopt)\n",
    "\n",
    "#Add the measurements we care about to the state vector.\n",
    "#Here they are the Pauli measurements <σ_x>, <σ_y>, <σ_z>\n",
    "for i = 1:length(Xopt)\n",
    "    x = Xopt[i]\n",
    "    meas = zeros(0)\n",
    "    for s = 1:sys.nqstates\n",
    "        iso_state = x[slice(s, sys.isodim)]\n",
    "        append!(meas, meas_x_iso(iso_state))\n",
    "        append!(meas, meas_y_iso(iso_state))\n",
    "        append!(meas, meas_z_iso(iso_state))\n",
    "    end\n",
    "    Xopt[i] = [x[1:sys.n_wfn_states]; meas; x[(sys.n_wfn_states + 1):end]]\n",
    "end\n"
   ]
  },
  {
   "cell_type": "code",
   "execution_count": 8,
   "metadata": {
    "ExecuteTime": {
     "end_time": "2022-08-23T11:24:34.686000-05:00",
     "start_time": "2022-08-23T16:24:34.205Z"
    }
   },
   "outputs": [
    {
     "name": "stdout",
     "output_type": "stream",
     "text": [
      "18"
     ]
    }
   ],
   "source": [
    "#Set up xnom, unom, and utraj\n",
    "\n",
    "n = sys.nstates + 3*sys.nqstates\n",
    "print(n)\n",
    "m = sys.ncontrols\n",
    "\n",
    "xnom = zeros(n, prob.T)\n",
    "\n",
    "for k = 1:prob.T\n",
    "    xnom[:, k] .= Xopt[k]\n",
    "end\n",
    "\n",
    "unom = zeros(m, prob.T - 1)\n",
    "utraj = zeros(m, prob.T - 1)\n",
    "\n",
    "for k = 1:prob.T - 1\n",
    "    unom[:, k] .= Uopt[k]\n",
    "    utraj[:, k] .= Uopt[k]\n",
    "end\n",
    "\n",
    "display(xnom)\n",
    "display(Xopt)"
   ]
  },
  {
   "cell_type": "code",
   "execution_count": 9,
   "metadata": {
    "ExecuteTime": {
     "end_time": "2022-08-23T11:24:38.444000-05:00",
     "start_time": "2022-08-23T16:24:37.171Z"
    }
   },
   "outputs": [
    {
     "data": {
      "text/plain": [
       "true_dynamics (generic function with 1 method)"
      ]
     },
     "execution_count": 9,
     "metadata": {},
     "output_type": "execute_result"
    }
   ],
   "source": [
    "#Nominal model for the system\n",
    "function discrete_dynamics(x, u)\n",
    "    G = sys.G_drift + x[15] * sys.G_drives[1] + x[16] * sys.G_drives[2]\n",
    "    h_prop = exp(G * Δt)\n",
    "    state1_ = x[1:4]\n",
    "    state2_ = x[5:8]\n",
    "    state1 = h_prop * state1_\n",
    "    state2 = h_prop * state2_\n",
    "    meas_1 = [meas_x_iso(state1), meas_y_iso(state1), meas_z_iso(state1)]\n",
    "    meas_2 = [meas_x_iso(state2), meas_y_iso(state2), meas_z_iso(state2)]\n",
    "    controls = x[15:16] + x[17:18] .* Δt\n",
    "    dcontrols = x[17:18] + u[1:2] .* Δt\n",
    "    return [state1; state2; meas_1; meas_2; controls; dcontrols]\n",
    "end\n",
    "\n",
    "#Fake true model for the system. Just add a small sigmaz() term to the Hamiltonian\n",
    "function true_dynamics(x, u)\n",
    "    G = sys.G_drift + 0.01*get_mat_iso(-1im * sigmaz()) + x[15] * sys.G_drives[1] + x[16] * sys.G_drives[2]\n",
    "    h_prop = exp(G * Δt)\n",
    "    state1_ = x[1:4]\n",
    "    state2_ = x[5:8]\n",
    "    state1 = h_prop * state1_\n",
    "    state2 = h_prop * state2_\n",
    "    meas_1 = [meas_x_iso(state1), meas_y_iso(state1), meas_z_iso(state1)]\n",
    "    meas_2 = [meas_x_iso(state2), meas_y_iso(state2), meas_z_iso(state2)]\n",
    "    controls = x[15:16] + x[17:18] .* Δt\n",
    "    dcontrols = x[17:18] + u[1:2] .* Δt\n",
    "    return [state1; state2; meas_1; meas_2; controls; dcontrols]\n",
    "end\n"
   ]
  },
  {
   "cell_type": "code",
   "execution_count": 10,
   "metadata": {
    "ExecuteTime": {
     "end_time": "2022-08-23T11:25:49.622000-05:00",
     "start_time": "2022-08-23T16:24:43.520Z"
    }
   },
   "outputs": [],
   "source": [
    "#Compute linearization of dynamics using nominal dynamics + trajectory\n",
    "# This cell takes around 30 seconds to run\n",
    "\n",
    "A = zeros(n, n, T-1)\n",
    "B = zeros(n, m, T-1)  \n",
    "\n",
    "for k = 1:(T-1)\n",
    "    A[:, :, k] .= ForwardDiff.jacobian(x->discrete_dynamics(x, Uopt[k]), Xopt[k])\n",
    "    B[:, :, k] .= ForwardDiff.jacobian(u->discrete_dynamics(Xopt[k], u), Uopt[k])\n",
    "end    "
   ]
  },
  {
   "cell_type": "markdown",
   "metadata": {},
   "source": [
    "## To run the ILC algorithm run all the cells below and repeat until solution is sufficiently dialed in."
   ]
  },
  {
   "cell_type": "code",
   "execution_count": 17,
   "metadata": {
    "ExecuteTime": {
     "end_time": "2022-08-23T11:57:10.613000-05:00",
     "start_time": "2022-08-23T16:57:10.448Z"
    }
   },
   "outputs": [],
   "source": [
    "#Rollout on the \"real\" system\n",
    "xtraj = zeros(n,T)\n",
    "xtraj[:,1] .= xnom[:,1]\n",
    "for k = 1:(T-1)\n",
    "    xtraj[:,k+1] .= true_dynamics(xtraj[:,k], utraj[:,k])\n",
    "end\n"
   ]
  },
  {
   "cell_type": "code",
   "execution_count": 18,
   "metadata": {
    "ExecuteTime": {
     "end_time": "2022-08-23T11:57:12.376000-05:00",
     "start_time": "2022-08-23T16:57:11.872Z"
    }
   },
   "outputs": [
    {
     "data": {
      "image/png": "[encoded data removed]",
      "text/plain": [
       "Figure(PyObject <Figure size 640x480 with 1 Axes>)"
      ]
     },
     "metadata": {},
     "output_type": "display_data"
    },
    {
     "data": {
      "text/plain": [
       "0.9956201773815888"
      ]
     },
     "execution_count": 18,
     "metadata": {},
     "output_type": "execute_result"
    }
   ],
   "source": [
    "#plot σz for the state that starts in |e> and goes to -i|g>\n",
    "plot(xtraj[14, :])\n",
    "plot(xnom[14, :])\n",
    "xtraj[14, end]"
   ]
  },
  {
   "cell_type": "code",
   "execution_count": 13,
   "metadata": {
    "ExecuteTime": {
     "end_time": "2022-08-23T11:27:02.913000-05:00",
     "start_time": "2022-08-23T16:26:44.600Z"
    }
   },
   "outputs": [
    {
     "data": {
      "image/png": "[encoded data removed]",
      "text/plain": [
       "Figure(PyObject <Figure size 640x480 with 1 Axes>)"
      ]
     },
     "metadata": {},
     "output_type": "display_data"
    },
    {
     "data": {
      "text/plain": [
       "-0.8782730783994893"
      ]
     },
     "execution_count": 13,
     "metadata": {},
     "output_type": "execute_result"
    }
   ],
   "source": [
    "#plot σz for the state that starts in |g> and goes to -i|e>\n",
    "plot(xtraj[11, :])\n",
    "plot(xnom[11, :])\n",
    "xtraj[11, end]"
   ]
  },
  {
   "cell_type": "code",
   "execution_count": 14,
   "metadata": {
    "ExecuteTime": {
     "end_time": "2022-08-23T11:27:12.011000-05:00",
     "start_time": "2022-08-23T16:26:46.287Z"
    }
   },
   "outputs": [
    {
     "data": {
      "image/png": "[encoded data removed]",
      "text/plain": [
       "Figure(PyObject <Figure size 640x480 with 1 Axes>)"
      ]
     },
     "metadata": {},
     "output_type": "display_data"
    },
    {
     "data": {
      "text/plain": [
       "1-element Vector{PyCall.PyObject}:\n",
       " PyObject <matplotlib.lines.Line2D object at 0x000000006EAFBAC8>"
      ]
     },
     "execution_count": 14,
     "metadata": {},
     "output_type": "execute_result"
    }
   ],
   "source": [
    "# Plot controls. The blue and yellow are the nominal controls and the red and green \n",
    "#are the updated controls after each iteration.\n",
    "plot([Xopt[i][15:16] for i = 1:length(Xopt)])\n",
    "plot(xtraj[15,:])\n",
    "plot(xtraj[16, :])"
   ]
  },
  {
   "cell_type": "code",
   "execution_count": 15,
   "metadata": {
    "ExecuteTime": {
     "end_time": "2022-08-23T11:39:06.373000-05:00",
     "start_time": "2022-08-23T16:38:39.958Z"
    }
   },
   "outputs": [
    {
     "data": {
      "text/plain": [
       "18-element Vector{Float64}:\n",
       " -0.05039248364419515\n",
       "  0.013451946213555999\n",
       " -0.24150374405466898\n",
       "  0.031002794460783578\n",
       " -0.01345194415635858\n",
       " -0.050392476726764786\n",
       "  0.031002794460817995\n",
       "  0.24150373487741\n",
       "  0.46667715227336637\n",
       "  0.10415774241360314\n",
       "  0.12172692160051068\n",
       " -0.4666771339188488\n",
       " -0.10415772857874254\n",
       " -0.12172692160057963\n",
       "  8.708286912753604e-13\n",
       " -1.7859054079333303e-13\n",
       " -1.734723475976807e-18\n",
       "  2.168404344971009e-19"
      ]
     },
     "metadata": {},
     "output_type": "display_data"
    },
    {
     "name": "stdout",
     "output_type": "stream",
     "text": [
      "-----------------------------------------------------------------\n",
      "           OSQP v0.6.2  -  Operator Splitting QP Solver\n",
      "              (c) Bartolomeo Stellato,  Goran Banjac\n",
      "        University of Oxford  -  Stanford University 2021\n",
      "-----------------------------------------------------------------\n",
      "problem:  variables n = 7980, constraints m = 7980\n",
      "          nnz(P) + nnz(A) = 51360\n",
      "settings: linear system solver = qdldl,\n",
      "          eps_abs = 1.0e-008, eps_rel = 1.0e-008,\n",
      "          eps_prim_inf = 1.0e-008, eps_dual_inf = 1.0e-008,\n",
      "          rho = 1.00e-001 (adaptive),\n",
      "          sigma = 1.00e-006, alpha = 1.60, max_iter = 4000\n",
      "          check_termination: on (interval 25),\n",
      "          scaling: on, scaled_termination: off\n",
      "          warm start: on, polish: on, time_limit: off\n",
      "\n",
      "iter  objective    pri res    dua res    rho        time\n",
      "   1 -1.0122e+002  4.47e-004  5.84e+002  1.00e-001  7.15e-002s\n",
      " 200 -5.4946e+001  2.21e-005  3.68e-003  5.37e-001  5.87e-001s\n",
      " 400 -3.7061e+001  1.39e-006  1.73e-003  5.37e-001  9.33e-001s\n",
      " 600 -3.5891e+001  3.41e-006  8.37e-004  5.37e-001  1.34e+000s\n",
      " 800 -3.5817e+001  1.49e-007  2.50e-004  5.37e-001  1.70e+000s\n",
      "1000 -3.5812e+001  2.43e-008  8.89e-005  5.37e-001  2.12e+000s\n",
      "1200 -3.5812e+001  9.47e-009  5.58e-005  5.37e-001  2.41e+000s\n",
      "1400 -3.5812e+001  5.74e-009  4.32e-005  5.37e-001  2.96e+000s\n",
      "1600 -3.5812e+001  4.21e-009  3.46e-005  5.37e-001  3.41e+000s\n",
      "1800 -3.5812e+001  3.48e-009  2.79e-005  5.37e-001  3.86e+000s\n",
      "2000 -3.5812e+001  2.83e-009  2.24e-005  5.37e-001  4.32e+000s\n",
      "2200 -3.5812e+001  2.28e-009  1.81e-005  5.37e-001  4.81e+000s\n",
      "2400 -3.5812e+001  1.84e-009  1.45e-005  5.37e-001  5.20e+000s\n",
      "2600 -3.5812e+001  1.48e-009  1.17e-005  5.37e-001  5.48e+000s\n",
      "2775 -3.5812e+001  1.22e-009  9.67e-006  5.37e-001  5.78e+000s\n",
      "\n",
      "status:               solved\n",
      "solution polish:      unsuccessful\n",
      "number of iterations: 2775\n",
      "optimal objective:    -35.8120\n",
      "run time:             5.82e+000s\n",
      "optimal rho estimate: 1.88e-001\n",
      "\n"
     ]
    }
   ],
   "source": [
    "#Set up the ILC QP\n",
    "\n",
    "#Costs\n",
    "\n",
    "# Only really care about getting sigmaz measurments to be 1 since that \n",
    "# forces the other measurements to be 0.\n",
    "Qf = Diagonal([fill(0., sys.isodim*sys.nqstates); [0, 0, 8000.]; [0., 0., 8000.]; fill(0., 4)])\n",
    "\n",
    "Qilc = sparse(Diagonal([fill(0., sys.isodim*sys.nqstates); fill(1., 3*sys.nqstates); fill(0., 4)]))\n",
    "\n",
    "Rilc = sparse(Diagonal([0.01, 0.01]))\n",
    "H = blockdiag(kron(I(T-2), blockdiag(Rilc, Qilc)), Rilc, sparse(Qf))\n",
    "q = zeros((n+m)*(T-1))\n",
    "#errors from the \"real\" rollout\n",
    "for k = 1:(T-2)\n",
    "   q[(k-1)*(m+n) .+ (1:(m+n))] .= [zeros(sys.ncontrols); Qilc*(xtraj[:,k+1] - Xopt[k+1])] \n",
    "end\n",
    "q[(T-2)*(m+n) .+ (1:(m+n))] .= [zeros(sys.ncontrols); Qf*(xtraj[:,T] - Xopt[T])]\n",
    "\n",
    "display(xtraj[:,T] - Xopt[T])\n",
    "\n",
    "#Constraints\n",
    "U = kron(I(T-1), [I zeros(m,n)]) #Matrix that picks out all u (d2controls)\n",
    "C = kron(I(T-1), [zeros(m,16) I zeros(m,2)]) #picks out all cntrls\n",
    "X = kron(I(T-1), [zeros(n,m) I]) #Matrix that picks out all x\n",
    "D = spzeros(n*(T-1), (n+m)*(T-1)) #dynamics constraints\n",
    "\n",
    "D[1:n,1:m] .= B[:,:,1]\n",
    "D[1:n,(m+1):(m+n)] .= -I(n)\n",
    "for k = 1:(T-2)\n",
    "    D[(k*n).+(1:n), (m+(k-1)*(n+m)).+(1:(2*n+m))] .= [A[:,:,k+1] B[:,:,k+1] -I]\n",
    "end \n",
    "\n",
    "c_bnd = [fill(2π*19e-3, 2*(T-2)); zeros(2)]\n",
    "ctrajF = reduce(vcat, xtraj[15:16,2:end])\n",
    "lb = [zeros(n*(T-1)); -c_bnd-ctrajF]\n",
    "ub = [zeros(n*(T-1)); c_bnd-ctrajF]\n",
    "\n",
    "qp = OSQP.Model()\n",
    "OSQP.setup!(qp, P=H, q=q, A=[D; C], l=lb, u=ub, eps_abs=1e-8, eps_rel=1e-8, eps_prim_inf = 1.0e-8, eps_dual_inf = 1.0e-8, polish=1)\n",
    "results = OSQP.solve!(qp)\n",
    "ztraj = results.x;"
   ]
  },
  {
   "cell_type": "code",
   "execution_count": 16,
   "metadata": {
    "ExecuteTime": {
     "end_time": "2022-08-23T11:57:05.892000-05:00",
     "start_time": "2022-08-23T16:57:02.109Z"
    }
   },
   "outputs": [
    {
     "data": {
      "text/plain": [
       "2×399 Matrix{Float64}:\n",
       " 0.0767016   0.0616288   0.048521    …  0.0485817   0.0572032   0.0674406\n",
       " 0.00652942  0.00484291  0.00327649     0.00836932  0.00942815  0.0106061"
      ]
     },
     "execution_count": 16,
     "metadata": {},
     "output_type": "execute_result"
    }
   ],
   "source": [
    "#update utraj\n",
    "Δu = reshape(U*ztraj, 2, :)\n",
    "#display(Δu[:, 20:60])\n",
    "#display(utraj[:, 20:60])\n",
    "utraj = utraj+Δu\n",
    "#display(utraj[:, 20:60])"
   ]
  },
  {
   "cell_type": "code",
   "execution_count": null,
   "metadata": {},
   "outputs": [],
   "source": []
  }
 ],
 "metadata": {
  "kernelspec": {
   "display_name": "Julia 1.7.2",
   "language": "julia",
   "name": "julia-1.7"
  },
  "language_info": {
   "file_extension": ".jl",
   "mimetype": "application/julia",
   "name": "julia",
   "version": "1.7.2"
  }
 },
 "nbformat": 4,
 "nbformat_minor": 4
}
