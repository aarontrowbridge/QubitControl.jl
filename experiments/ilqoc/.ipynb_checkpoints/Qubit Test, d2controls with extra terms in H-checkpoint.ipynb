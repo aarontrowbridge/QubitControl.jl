{
 "cells": [
  {
   "cell_type": "code",
   "execution_count": 1,
   "metadata": {
    "ExecuteTime": {
     "end_time": "2022-09-12T17:31:45.619000-07:00",
     "start_time": "2022-09-13T00:31:24.115Z"
    }
   },
   "outputs": [
    {
     "name": "stderr",
     "output_type": "stream",
     "text": [
      "\u001b[32m\u001b[1m  Activating\u001b[22m\u001b[39m project at `C:\\Users\\a7b\\Pico.jl`\n"
     ]
    }
   ],
   "source": [
    "import Pkg; Pkg.activate(\"C:/Users/a7b/Pico.jl\"); Pkg.instantiate()"
   ]
  },
  {
   "cell_type": "code",
   "execution_count": 2,
   "metadata": {
    "ExecuteTime": {
     "end_time": "2022-09-12T17:32:55.137000-07:00",
     "start_time": "2022-09-13T00:31:24.806Z"
    }
   },
   "outputs": [],
   "source": [
    "using Pico\n",
    "using PyPlot\n",
    "using QuantumOptics\n",
    "using ForwardDiff\n",
    "using Interpolations\n",
    "using LinearAlgebra\n",
    "using SparseArrays\n",
    "using OSQP"
   ]
  },
  {
   "cell_type": "code",
   "execution_count": 3,
   "metadata": {
    "ExecuteTime": {
     "end_time": "2022-09-12T17:32:56.682000-07:00",
     "start_time": "2022-09-13T00:31:26.703Z"
    }
   },
   "outputs": [
    {
     "data": {
      "text/plain": [
       "exp_frechet!"
      ]
     },
     "execution_count": 3,
     "metadata": {},
     "output_type": "execute_result"
    }
   ],
   "source": [
    "WDIR = joinpath(@__DIR__, \"../../\")\n",
    "include(joinpath(WDIR, \"experiments\", \"ilqoc\", \"measurement.jl\"))"
   ]
  },
  {
   "cell_type": "code",
   "execution_count": 4,
   "metadata": {
    "ExecuteTime": {
     "end_time": "2022-09-12T17:33:08.203000-07:00",
     "start_time": "2022-09-13T00:31:31.540Z"
    }
   },
   "outputs": [],
   "source": [
    "#set up the 2 level transmon system\n",
    "\n",
    "iter = 3000\n",
    "ω = 2π * 4.96 #GHz\n",
    "α = -2π * 0.143 #GHz\n",
    "levels = 2\n",
    "\n",
    "ψg = [1. + 0*im, 0]\n",
    "ψe = [0, 1. + 0*im]\n",
    "\n",
    "ψ1 = [ψg, ψe]\n",
    "ψf = [-im*ψe, -im*ψg]\n",
    "\n",
    "H_drift = α/2 * Pico.quad(levels)\n",
    "H_drive = [Pico.create(levels) + Pico.annihilate(levels),\n",
    "1im * (Pico.create(levels) - Pico.annihilate(levels))]\n",
    "\n",
    "sys = QuantumSystem(\n",
    "    H_drift, \n",
    "    H_drive,\n",
    "    ψ1,\n",
    "    ψf,\n",
    "    [2π * 19e-3,  2π * 19e-3]\n",
    ");"
   ]
  },
  {
   "cell_type": "code",
   "execution_count": 70,
   "metadata": {
    "ExecuteTime": {
     "end_time": "2022-09-12T17:50:32.930000-07:00",
     "start_time": "2022-09-13T00:50:32.697Z"
    }
   },
   "outputs": [],
   "source": [
    "# Define the optimal control problem.\n",
    "# Here we are doing a pi pulse (Rx(pi) gate).\n",
    "T = 400\n",
    "Δt = 0.1\n",
    "Q = 200.\n",
    "R = 0.1\n",
    "cost = infidelity_cost\n",
    "hess = true\n",
    "pinqstate = true\n",
    "\n",
    "time = T * Δt\n",
    "\n",
    "options = Options(\n",
    "    max_iter = iter,\n",
    "    tol = 1e-5\n",
    ")\n",
    "\n",
    "prob = QuantumControlProblem(\n",
    "    sys,\n",
    "    T = T,\n",
    "    Δt = Δt,\n",
    "    Q = Q,\n",
    "    R = R,\n",
    "    eval_hessian = hess,\n",
    "    pin_first_qstate = pinqstate,\n",
    "    options = options\n",
    ");"
   ]
  },
  {
   "cell_type": "code",
   "execution_count": 71,
   "metadata": {
    "ExecuteTime": {
     "end_time": "2022-09-12T17:50:55.974000-07:00",
     "start_time": "2022-09-13T00:50:33.398Z"
    }
   },
   "outputs": [
    {
     "name": "stdout",
     "output_type": "stream",
     "text": [
      "This is Ipopt version 3.14.4, running with linear solver MUMPS 5.4.1.\n",
      "\n",
      "Number of nonzeros in equality constraint Jacobian...:    36634\n",
      "Number of nonzeros in inequality constraint Jacobian.:        0\n",
      "Number of nonzeros in Lagrangian Hessian.............:    14723\n",
      "\n",
      "Total number of variables............................:     5580\n",
      "                     variables with only lower bounds:        0\n",
      "                variables with lower and upper bounds:      796\n",
      "                     variables with only upper bounds:        0\n",
      "Total number of equality constraints.................:     4788\n",
      "Total number of inequality constraints...............:        0\n",
      "        inequality constraints with only lower bounds:        0\n",
      "   inequality constraints with lower and upper bounds:        0\n",
      "        inequality constraints with only upper bounds:        0\n",
      "\n",
      "iter    objective    inf_pr   inf_du lg(mu)  ||d||  lg(rg) alpha_du alpha_pr  ls\n",
      "   0  3.9972257e-01 5.08e-01 7.40e-03  -1.0 0.00e+00    -  0.00e+00 0.00e+00   0\n",
      "   1  1.6990991e+01 3.57e-01 2.00e+02  -1.7 7.70e+00  -4.0 2.18e-02 2.97e-01f  1\n",
      "   2  1.3512471e+01 3.08e-03 2.00e+02  -1.7 2.59e+00  -4.5 1.79e-01 1.00e+00f  1\n",
      "   3  1.9364724e+00 1.83e-04 8.38e-01  -1.7 1.63e+00  -5.0 6.81e-01 1.00e+00f  1\n",
      "   4  1.3788274e-01 2.50e-04 2.00e+02  -1.7 6.94e-01  -5.4 1.00e+00 1.00e+00f  1\n",
      "   5  2.1526249e-02 1.56e-04 6.39e-01  -1.7 1.79e-01  -5.9 1.00e+00 1.00e+00f  1\n",
      "   6  2.3001572e-02 2.11e-05 3.26e-01  -1.7 3.44e-02  -6.4 1.00e+00 1.00e+00h  1\n",
      "   7  2.3132857e-02 5.22e-06 2.00e+02  -1.7 5.00e-02  -6.9 1.00e+00 1.00e+00h  1\n",
      "   8  2.2760691e-02 1.22e-06 2.00e+02  -1.7 9.18e-03  -7.3 1.00e+00 1.00e+00h  1\n",
      "   9  2.2685661e-02 5.78e-08 2.00e+02  -1.7 2.17e-03  -7.8 1.00e+00 1.00e+00h  1\n",
      "iter    objective    inf_pr   inf_du lg(mu)  ||d||  lg(rg) alpha_du alpha_pr  ls\n",
      "  10  2.2700556e-02 9.49e-09 2.17e-02  -1.7 2.32e-03  -8.3 1.00e+00 1.00e+00F  1\n",
      "  11  1.1013218e-02 1.80e-06 2.00e+02  -3.8 1.58e-01  -8.8 9.39e-01 1.00e+00f  1\n",
      "  12  1.1020217e-02 6.38e-08 2.00e+02  -3.8 1.23e-03   1.1 1.00e+00 1.00e+00H  1\n",
      "  13  1.0909018e-02 4.95e-10 2.00e+02  -3.8 7.71e-04   0.6 1.00e+00 1.00e+00h  1\n",
      "  14  1.0657518e-02 4.45e-09 2.00e+02  -3.8 2.31e-03   0.1 1.00e+00 1.00e+00h  1\n",
      "  15  1.0574442e-02 5.89e-09 2.00e+02  -3.8 9.40e-04   0.5 1.00e+00 1.00e+00F  1\n",
      "  16  1.0555201e-02 3.38e-10 2.00e+02  -3.8 3.31e-04   1.0 1.00e+00 1.00e+00F  1\n",
      "  17  1.0431389e-02 7.72e-10 2.00e+02  -3.8 9.58e-04   0.5 1.00e+00 1.00e+00h  1\n",
      "  18  1.0412289e-02 8.95e-10 2.00e+02  -3.8 3.77e-04   0.9 1.00e+00 1.00e+00F  1\n",
      "  19  1.0281004e-02 9.13e-10 2.00e+02  -3.8 1.06e-03   0.4 1.00e+00 1.00e+00h  1\n",
      "iter    objective    inf_pr   inf_du lg(mu)  ||d||  lg(rg) alpha_du alpha_pr  ls\n",
      "  20  1.0276197e-02 2.40e-10 2.00e+02  -3.8 8.81e-05   1.8 1.00e+00 1.00e+00F  1\n",
      "  21  1.0259800e-02 1.89e-11 2.94e-02  -3.8 1.50e-04   1.3 1.00e+00 1.00e+00h  1\n",
      "  22  1.0212039e-02 1.72e-10 2.97e-03  -4.0 4.53e-04   0.8 1.00e+00 1.00e+00h  1\n",
      "  23  1.0070835e-02 1.53e-09 2.95e-03  -4.0 1.35e-03   0.3 1.00e+00 1.00e+00h  1\n",
      "  24  9.6652666e-03 1.31e-08 2.87e-03  -4.0 3.93e-03  -0.1 1.00e+00 1.00e+00h  1\n",
      "  25  8.5929548e-03 1.03e-07 1.45e-02  -4.0 1.09e-02  -0.6 1.00e+00 1.00e+00h  1\n",
      "  26  6.3169390e-03 6.38e-07 9.09e-02  -4.0 2.61e-02  -1.1 1.00e+00 1.00e+00h  1\n",
      "  27  6.3035645e-03 3.72e-09 2.00e+02  -4.0 1.71e-04   1.1 1.00e+00 1.00e+00h  1\n",
      "  28  6.2990133e-03 3.95e-11 2.00e+02  -4.0 7.96e-05   1.6 1.00e+00 1.00e+00F  1\n",
      "  29  6.2810572e-03 2.02e-08 2.00e+02  -4.0 1.98e-04   1.1 1.00e+00 1.00e+00F  1\n",
      "iter    objective    inf_pr   inf_du lg(mu)  ||d||  lg(rg) alpha_du alpha_pr  ls\n",
      "  30  6.2415637e-03 2.31e-10 3.59e-02  -4.0 5.05e-04   0.6 1.00e+00 1.00e+00h  1\n",
      "  31  6.1242603e-03 2.16e-09 2.00e+02  -4.0 1.51e-03   0.1 1.00e+00 1.00e+00h  1\n",
      "  32  6.1188802e-03 7.55e-11 2.00e+02  -4.0 7.97e-05   1.5 1.00e+00 1.00e+00F  1\n",
      "  33  6.0152479e-03 7.75e-07 2.00e+02  -4.0 2.63e-04   1.0 1.00e+00 1.00e+00F  1\n",
      "  34  5.9661409e-03 5.18e-10 2.00e+02  -4.0 6.80e-04   0.5 1.00e+00 1.00e+00h  1\n",
      "  35  5.8243722e-03 3.29e-09 2.00e+02  -4.0 1.86e-03   0.0 1.00e+00 1.00e+00h  1\n",
      "  36  5.8178657e-03 1.96e-10 2.00e+02  -4.0 9.20e-05   1.4 1.00e+00 1.00e+00F  1\n",
      "  37  5.7983054e-03 6.48e-11 2.00e+02  -4.0 2.61e-04   0.9 1.00e+00 1.00e+00h  1\n",
      "  38  5.7404773e-03 5.75e-10 2.03e-03  -4.0 7.76e-04   0.4 1.00e+00 1.00e+00h  1\n",
      "  39  5.7377176e-03 6.54e-10 2.00e+02  -4.0 3.71e-05   1.7 1.00e+00 1.00e+00h  1\n",
      "iter    objective    inf_pr   inf_du lg(mu)  ||d||  lg(rg) alpha_du alpha_pr  ls\n",
      "  40  5.7296371e-03 1.13e-11 7.01e-03  -4.0 1.09e-04   1.3 1.00e+00 1.00e+00h  1\n",
      "  41  5.7055010e-03 1.02e-10 2.00e+02  -4.0 3.26e-04   0.8 1.00e+00 1.00e+00h  1\n",
      "  42  5.6341802e-03 9.00e-10 2.52e-03  -4.0 9.68e-04   0.3 1.00e+00 1.00e+00h  1\n",
      "  43  5.6307650e-03 7.97e-10 2.00e+02  -4.0 4.64e-05   1.6 1.00e+00 1.00e+00h  1\n",
      "  44  5.6205793e-03 1.13e-09 2.00e+02  -4.0 1.48e-04   1.2 1.00e+00 1.00e+00F  1\n",
      "  45  5.6169775e-03 1.68e-11 2.00e+02  -4.0 7.96e-05   1.6 1.00e+00 1.00e+00F  1\n",
      "  46  5.6056632e-03 2.24e-11 2.00e+02  -4.0 1.52e-04   1.1 1.00e+00 1.00e+00h  1\n",
      "  47  5.5724205e-03 2.00e-10 1.94e-03  -4.0 4.55e-04   0.6 1.00e+00 1.00e+00h  1\n",
      "  48  5.4748075e-03 1.76e-09 1.91e-03  -4.0 1.35e-03   0.2 1.00e+00 1.00e+00h  1\n",
      "  49  5.1998918e-03 1.48e-08 1.90e-03  -4.0 3.88e-03  -0.3 1.00e+00 1.00e+00h  1\n",
      "iter    objective    inf_pr   inf_du lg(mu)  ||d||  lg(rg) alpha_du alpha_pr  ls\n",
      "  50  4.5109673e-03 1.11e-07 1.41e-02  -4.0 1.03e-02  -0.8 1.00e+00 1.00e+00h  1\n",
      "  51  4.5070229e-03 1.17e-09 2.00e+02  -4.0 6.31e-05   1.4 1.00e+00 1.00e+00h  1\n",
      "  52  4.4955255e-03 3.39e-11 1.31e-02  -4.0 1.81e-04   1.0 1.00e+00 1.00e+00h  1\n",
      "  53  4.4910392e-03 1.13e-09 2.00e+02  -4.0 7.06e-05   1.4 1.00e+00 1.00e+00h  1\n",
      "  54  4.4278595e-03 2.94e-07 2.00e+02  -4.0 2.54e-04   0.9 1.00e+00 1.00e+00F  1\n",
      "  55  4.3901684e-03 3.74e-10 2.65e-03  -4.0 6.02e-04   0.4 1.00e+00 1.00e+00h  1\n",
      "  56  4.2804964e-03 3.30e-09 2.00e+02  -4.0 1.77e-03  -0.1 1.00e+00 1.00e+00h  1\n",
      "  57  4.2754182e-03 1.80e-10 2.00e+02  -4.0 8.79e-05   1.3 1.00e+00 1.00e+00F  1\n",
      "  58  4.2737571e-03 4.59e-12 2.00e+02  -4.0 7.96e-05   1.7 1.00e+00 1.00e+00F  1\n",
      "  59  4.2677715e-03 9.13e-12 1.57e-03  -4.0 9.31e-05   1.2 1.00e+00 1.00e+00h  1\n",
      "iter    objective    inf_pr   inf_du lg(mu)  ||d||  lg(rg) alpha_du alpha_pr  ls\n",
      "  60  4.2507463e-03 8.17e-11 1.56e-03  -4.0 2.78e-04   0.7 1.00e+00 1.00e+00h  1\n",
      "  61  4.2004709e-03 7.24e-10 1.54e-03  -4.0 8.26e-04   0.3 1.00e+00 1.00e+00h  1\n",
      "  62  4.1980545e-03 6.96e-10 2.00e+02  -4.0 3.97e-05   1.6 1.00e+00 1.00e+00h  1\n",
      "  63  4.1910384e-03 1.42e-11 2.66e-03  -4.0 1.16e-04   1.1 1.00e+00 1.00e+00h  1\n",
      "  64  4.1883230e-03 7.54e-10 1.58e-03  -4.0 4.47e-05   1.5 1.00e+00 1.00e+00h  1\n",
      "  65  4.1794140e-03 2.88e-09 2.00e+02  -4.0 1.45e-04   1.1 1.00e+00 1.00e+00h  1\n",
      "  66  4.1565104e-03 1.48e-10 9.98e-02  -4.0 3.81e-04   0.6 1.00e+00 1.00e+00h  1\n",
      "  67  4.1473352e-03 1.28e-09 2.00e+02  -4.0 1.51e-04   1.0 1.00e+00 1.00e+00h  1\n",
      "  68  4.1441513e-03 1.12e-11 2.00e+02  -4.0 7.97e-05   1.4 1.00e+00 1.00e+00F  1\n",
      "  69  4.1342802e-03 2.84e-11 1.52e-03  -4.0 1.63e-04   1.0 1.00e+00 1.00e+00h  1\n",
      "iter    objective    inf_pr   inf_du lg(mu)  ||d||  lg(rg) alpha_du alpha_pr  ls\n",
      "  70  4.1304931e-03 9.17e-10 2.00e+02  -4.0 6.29e-05   1.4 1.00e+00 1.00e+00h  1\n",
      "  71  4.1189885e-03 2.13e-09 2.00e+02  -4.0 2.03e-04   0.9 1.00e+00 1.00e+00F  1\n",
      "  72  4.0865993e-03 3.14e-10 2.00e+02  -4.0 5.43e-04   0.4 1.00e+00 1.00e+00h  1\n",
      "  73  4.0739927e-03 1.82e-09 2.00e+02  -4.0 2.22e-04   0.9 1.00e+00 1.00e+00F  1\n",
      "  74  4.0694953e-03 2.66e-11 2.00e+02  -4.0 7.97e-05   1.3 1.00e+00 1.00e+00F  1\n",
      "  75  4.0559380e-03 5.60e-11 2.00e+02  -4.0 2.28e-04   0.8 1.00e+00 1.00e+00h  1\n",
      "  76  4.0159240e-03 4.97e-10 1.91e-03  -4.0 6.79e-04   0.3 1.00e+00 1.00e+00h  1\n",
      "  77  3.9981011e-03 5.14e-09 2.00e+02  -4.0 2.95e-04   0.8 1.00e+00 1.00e+00h  1\n",
      "  78  3.9925604e-03 6.34e-11 2.00e+02  -4.0 9.90e-05   1.2 1.00e+00 1.00e+00F  1\n",
      "  79  3.9759493e-03 8.72e-11 1.47e-03  -4.0 2.84e-04   0.7 1.00e+00 1.00e+00h  1\n",
      "iter    objective    inf_pr   inf_du lg(mu)  ||d||  lg(rg) alpha_du alpha_pr  ls\n",
      "  80  3.9270342e-03 7.71e-10 1.45e-03  -4.0 8.42e-04   0.2 1.00e+00 1.00e+00h  1\n",
      "  81  3.9022992e-03 9.75e-09 2.00e+02  -4.0 4.09e-04   0.7 1.00e+00 1.00e+00h  1\n",
      "  82  3.8519401e-03 7.58e-10 1.67e-01  -4.0 8.87e-04   0.2 1.00e+00 1.00e+00h  1\n",
      "  83  3.7004613e-03 8.05e-09 2.00e+02  -4.0 2.69e-03  -0.3 1.00e+00 1.00e+00h  1\n",
      "  84  3.3130094e-03 6.11e-08 2.12e-02  -4.0 7.24e-03  -0.8 1.00e+00 1.00e+00h  1\n",
      "  85  2.5484240e-03 3.48e-07 2.79e-02  -4.0 1.62e-02  -1.2 1.00e+00 1.00e+00h  1\n",
      "  86  2.5442233e-03 1.43e-09 2.00e+02  -4.0 1.01e-04   1.0 1.00e+00 1.00e+00h  1\n",
      "  87  2.5427203e-03 3.21e-12 2.00e+02  -4.0 7.97e-05   1.4 1.00e+00 1.00e+00F  1\n",
      "  88  2.5381742e-03 1.80e-10 2.00e+02  -4.0 1.14e-04   0.9 1.00e+00 1.00e+00F  1\n",
      "  89  2.5365644e-03 4.75e-12 2.00e+02  -4.0 7.97e-05   1.4 1.00e+00 1.00e+00F  1\n",
      "iter    objective    inf_pr   inf_du lg(mu)  ||d||  lg(rg) alpha_du alpha_pr  ls\n",
      "  90  2.5315330e-03 1.89e-11 9.16e-04  -4.0 1.19e-04   0.9 1.00e+00 1.00e+00h  1\n",
      "  91  2.5296070e-03 6.13e-10 2.00e+02  -4.0 4.59e-05   1.3 1.00e+00 1.00e+00h  1\n",
      "  92  2.5241215e-03 2.33e-11 6.36e-02  -4.0 1.33e-04   0.8 1.00e+00 1.00e+00h  1\n",
      "  93  2.5054637e-03 3.50e-09 2.00e+02  -4.0 4.36e-04   0.4 1.00e+00 1.00e+00h  1\n",
      "  94  2.4993292e-03 2.95e-11 2.00e+02  -4.0 1.54e-04   0.8 1.00e+00 1.00e+00F  1\n",
      "  95  2.4879618e-03 3.78e-09 2.00e+02  -4.0 5.04e-04   0.3 1.00e+00 1.00e+00F  1\n",
      "  96  2.4844223e-03 2.22e-10 2.00e+02  -4.0 1.72e-04   0.7 1.00e+00 1.00e+00F  1\n",
      "  97  2.4646075e-03 6.29e-09 2.00e+02  -4.0 5.75e-04   0.3 1.00e+00 1.00e+00F  1\n",
      "  98  2.4090822e-03 1.93e-09 2.00e+02  -4.0 1.32e-03  -0.2 1.00e+00 1.00e+00h  1\n",
      "  99  2.2561561e-03 2.22e-08 2.00e+02  -4.0 3.92e-03  -0.7 1.00e+00 1.00e+00h  1\n",
      "iter    objective    inf_pr   inf_du lg(mu)  ||d||  lg(rg) alpha_du alpha_pr  ls\n",
      " 100  1.9248877e-03 1.39e-07 3.41e-02  -4.0 9.19e-03  -1.2 1.00e+00 1.00e+00h  1\n",
      " 101  1.4443968e-03 5.50e-07 4.31e-02  -4.0 1.54e-02  -1.7 1.00e+00 1.00e+00h  1\n",
      " 102  1.4404769e-03 3.99e-09 2.00e+02  -4.0 1.26e-04   0.6 1.00e+00 1.00e+00h  1\n",
      " 103  1.4346456e-03 1.06e-10 9.26e-02  -4.0 2.40e-04   0.1 1.00e+00 1.00e+00h  1\n",
      " 104  1.4317305e-03 1.04e-09 2.00e+02  -4.0 1.06e-04   0.5 1.00e+00 1.00e+00h  1\n",
      " 105  1.4307674e-03 1.61e-11 2.00e+02  -4.0 7.98e-05   1.0 1.00e+00 1.00e+00F  1\n",
      " 106  1.4278708e-03 2.91e-11 2.00e+02  -4.0 1.11e-04   0.5 1.00e+00 1.00e+00h  1\n",
      " 107  1.4193594e-03 2.56e-10 1.59e-03  -4.0 3.27e-04  -0.0 1.00e+00 1.00e+00h  1\n",
      " 108  1.4148337e-03 3.09e-09 2.00e+02  -4.0 1.53e-04   0.4 1.00e+00 1.00e+00h  1\n",
      " 109  1.4136571e-03 3.77e-11 2.00e+02  -4.0 7.98e-05   0.9 1.00e+00 1.00e+00F  1\n",
      "iter    objective    inf_pr   inf_du lg(mu)  ||d||  lg(rg) alpha_du alpha_pr  ls\n",
      " 110  1.4101435e-03 4.46e-11 4.93e-04  -4.0 1.36e-04   0.4 1.00e+00 1.00e+00h  1\n",
      " 111  1.3998566e-03 3.91e-10 3.13e-04  -4.0 3.98e-04  -0.1 1.00e+00 1.00e+00h  1\n",
      " 112  1.3932512e-03 5.27e-09 2.00e+02  -4.0 2.11e-04   0.3 1.00e+00 1.00e+00h  1\n",
      " 113  1.3861872e-03 1.67e-10 1.60e-01  -4.0 3.42e-04  -0.2 1.00e+00 1.00e+00h  1\n",
      " 114  1.3819784e-03 1.93e-09 2.00e+02  -4.0 1.61e-04   0.3 1.00e+00 1.00e+00h  1\n",
      " 115  1.3701064e-03 5.44e-10 2.41e-01  -4.0 4.72e-04  -0.2 1.00e+00 1.00e+00h  1\n",
      " 116  1.3359692e-03 5.03e-09 2.00e+02  -4.0 1.32e-03  -0.7 1.00e+00 1.00e+00h  1\n",
      " 117  1.2762571e-03 6.80e-08 2.00e+02  -4.0 3.88e-03  -1.2 1.00e+00 1.00e+00F  1\n",
      " 118  1.1733119e-03 5.84e-08 2.00e+02  -4.0 4.65e-03  -1.6 1.00e+00 1.00e+00h  1\n",
      " 119  1.1223842e-03 2.35e-08 2.00e+02  -4.0 1.88e-03  -1.2 1.00e+00 1.00e+00h  1\n",
      "iter    objective    inf_pr   inf_du lg(mu)  ||d||  lg(rg) alpha_du alpha_pr  ls\n",
      " 120  1.1210421e-03 1.76e-10 2.00e+02  -4.0 9.14e-05   0.1 1.00e+00 1.00e+00F  1\n",
      " 121  1.1133153e-03 4.52e-10 2.00e+02  -4.0 2.54e-04  -0.4 1.00e+00 1.00e+00h  1\n",
      " 122  1.0942970e-03 3.76e-09 6.95e-03  -4.0 6.97e-04  -0.8 1.00e+00 1.00e+00h  1\n",
      " 123  1.0848627e-03 3.55e-09 2.00e+02  -4.0 3.18e-04  -0.4 1.00e+00 1.00e+00h  1\n",
      " 124  1.0735256e-03 1.22e-09 3.68e-01  -4.0 4.85e-04  -0.9 1.00e+00 1.00e+00h  1\n",
      " 125  1.0245497e-03 3.17e-08 2.00e+02  -4.0 1.65e-03  -1.4 1.00e+00 1.00e+00h  1\n",
      " 126  9.2705870e-04 1.72e-07 4.95e-02  -4.0 2.97e-03  -1.8 1.00e+00 1.00e+00h  1\n",
      " 127  7.7686451e-04 7.09e-07 2.00e+02  -4.0 5.31e-03  -2.3 1.00e+00 1.00e+00h  1\n",
      " 128  7.8079912e-04 7.09e-07 2.00e+02  -4.0 1.26e-01  -2.8 1.00e+00 1.95e-03h 10\n",
      " 129  7.2989609e-04 1.54e-07 1.41e+00  -4.0 2.80e-03  -3.3 1.00e+00 1.00e+00h  1\n",
      "iter    objective    inf_pr   inf_du lg(mu)  ||d||  lg(rg) alpha_du alpha_pr  ls\n",
      " 130  7.0357596e-04 4.32e-08 2.00e+02  -4.0 1.37e-03  -1.9 1.00e+00 1.00e+00h  1\n",
      " 131  6.5574440e-04 1.65e-07 2.00e+02  -4.0 2.85e-03  -2.4 1.00e+00 1.00e+00h  1\n",
      " 132  6.5362032e-04 3.60e-10 2.00e+02  -4.0 1.38e-04  -1.1 1.00e+00 1.00e+00h  1\n",
      " 133  6.4775800e-04 2.99e-09 8.01e-03  -4.0 3.93e-04  -1.6 1.00e+00 1.00e+00h  1\n",
      " 134  6.2782910e-04 4.22e-08 2.00e+02  -4.0 1.51e-03  -2.0 1.00e+00 1.00e+00h  1\n",
      " 135  6.2461450e-04 8.67e-10 2.00e+02  -4.0 4.19e-04  -1.6 1.00e+00 1.00e+00F  1\n",
      " 136  6.1183629e-04 1.60e-08 2.00e+02  -4.0 9.46e-04  -2.1 1.00e+00 1.00e+00h  1\n",
      " 137  6.0786923e-04 2.05e-09 2.00e+02  -4.0 3.41e-04  -1.7 1.00e+00 1.00e+00h  1\n",
      " 138  5.7331046e-04 3.09e-07 7.90e-02  -4.0 2.25e-03  -2.1 1.00e+00 1.00e+00F  1\n",
      " 139  5.7098134e-04 2.73e-09 1.43e-04  -4.0 3.12e-04  -1.7 1.00e+00 1.00e+00h  1\n",
      "iter    objective    inf_pr   inf_du lg(mu)  ||d||  lg(rg) alpha_du alpha_pr  ls\n",
      " 140  5.5345804e-04 6.05e-08 1.87e-04  -4.0 2.18e-03  -2.2 1.00e+00 1.00e+00h  1\n",
      " 141  5.5096631e-04 8.24e-09 4.10e-02  -4.0 5.25e-04  -2.7 1.00e+00 1.00e+00h  1\n",
      " 142  5.4596241e-04 2.08e-08 2.00e+02  -4.0 1.20e-03  -2.3 1.00e+00 1.00e+00h  1\n",
      " 143  5.3651507e-04 2.67e-08 2.00e+02  -4.0 1.24e-03  -2.7 1.00e+00 1.00e+00h  1\n",
      " 144  5.3334572e-04 2.68e-09 2.00e+02  -4.0 4.44e-04  -2.3 1.00e+00 1.00e+00h  1\n",
      " 145  5.2657272e-04 1.45e-08 2.26e-02  -4.0 1.07e-03  -2.8 1.00e+00 1.00e+00h  1\n",
      " 146  5.1552029e-04 7.19e-08 2.00e+02  -4.0 2.01e-03  -3.3 1.00e+00 1.00e+00h  1\n",
      " 147  5.1200866e-04 9.19e-08 2.00e+02  -4.0 1.88e-03  -2.8 1.00e+00 1.00e+00h  1\n",
      " 148  5.1061702e-04 2.15e-09 2.00e+02  -4.0 2.35e-04  -2.4 1.00e+00 1.00e+00h  1\n",
      " 149  5.0785866e-04 5.04e-09 1.47e-02  -4.0 5.92e-04  -2.9 1.00e+00 1.00e+00h  1\n",
      "iter    objective    inf_pr   inf_du lg(mu)  ||d||  lg(rg) alpha_du alpha_pr  ls\n",
      " 150  5.0356445e-04 1.30e-08 2.00e+02  -4.0 1.08e-03  -3.4 1.00e+00 1.00e+00h  1\n",
      " 151  5.0337005e-04 8.66e-11 2.00e+02  -4.0 5.93e-05  -2.0 1.00e+00 1.00e+00h  1\n",
      " 152  5.0329430e-04 4.23e-12 2.00e+02  -4.0 7.98e-05  -1.6 1.00e+00 1.00e+00F  1\n",
      " 153  5.0303497e-04 9.59e-11 2.00e+02  -4.0 1.14e-04  -2.1 1.00e+00 1.00e+00F  1\n",
      " 154  5.0295637e-04 8.74e-12 2.00e+02  -4.0 7.98e-05  -1.7 1.00e+00 1.00e+00F  1\n",
      " 155  5.0264168e-04 1.60e-10 2.00e+02  -4.0 1.27e-04  -2.1 1.00e+00 1.00e+00F  1\n",
      " 156  5.0255865e-04 6.18e-12 2.00e+02  -4.0 7.98e-05  -1.7 1.00e+00 1.00e+00F  1\n",
      " 157  5.0214736e-04 2.78e-10 2.41e-03  -4.0 1.43e-04  -2.2 1.00e+00 1.00e+00F  1\n",
      " 158  5.0155286e-04 2.36e-10 1.44e-03  -4.0 1.58e-04  -2.7 1.00e+00 1.00e+00h  1\n",
      " 159  5.0113783e-04 2.83e-10 6.94e-07  -4.0 1.11e-04  -2.2 1.00e+00 1.00e+00h  1\n",
      "iter    objective    inf_pr   inf_du lg(mu)  ||d||  lg(rg) alpha_du alpha_pr  ls\n",
      " 160  5.0059645e-04 1.96e-10 2.00e+02  -4.0 1.44e-04  -2.7 1.00e+00 1.00e+00h  1\n",
      " 161  5.0010162e-04 4.18e-10 2.00e+02  -4.0 1.13e-04  -2.3 1.00e+00 1.00e+00F  1\n",
      " 162  4.9968302e-04 1.20e-10 2.00e+02  -4.0 1.14e-04  -2.8 1.00e+00 1.00e+00h  1\n",
      " 163  4.9874143e-04 6.94e-10 2.00e+02  -4.0 2.74e-04  -3.2 1.00e+00 1.00e+00h  1\n",
      " 164  4.9869718e-04 7.71e-12 2.00e+02  -4.0 7.98e-05  -1.9 1.00e+00 1.00e+00F  1\n",
      " 165  4.9819607e-04 5.66e-10 3.89e-03  -4.0 9.38e-05  -2.4 1.00e+00 1.00e+00F  1\n",
      " 166  4.9815100e-04 3.67e-11 2.00e+02  -4.0 1.40e-05  -2.0 1.00e+00 1.00e+00h  1\n",
      " 167  4.9736530e-04 1.25e-09 7.80e-03  -4.0 1.15e-04  -2.4 1.00e+00 1.00e+00F  1\n",
      " 168  4.9734418e-04 7.01e-11 2.00e+02  -4.0 7.85e-06  -2.0 1.00e+00 1.00e+00h  1\n",
      " 169  4.9660328e-04 3.64e-09 1.64e-02  -4.0 8.05e-05  -2.5 1.00e+00 1.00e+00F  1\n",
      "iter    objective    inf_pr   inf_du lg(mu)  ||d||  lg(rg) alpha_du alpha_pr  ls\n",
      " 170  4.9665352e-04 3.90e-11 2.00e+02  -4.0 4.08e-05  -3.0 1.00e+00 1.00e+00h  1\n",
      " 171  4.9677545e-04 1.57e-11 4.17e-03  -4.0 3.84e-05  -3.4 1.00e+00 1.00e+00h  1\n",
      " 172  4.9688264e-04 3.50e-11 2.00e+02  -4.0 6.02e-05  -3.9 1.00e+00 1.00e+00h  1\n",
      " 173  4.9691580e-04 2.50e-11 1.25e-02  -4.0 4.47e-05  -4.4 1.00e+00 1.00e+00h  1\n",
      " 174  4.9691929e-04 9.12e-13 2.14e-03  -4.0 6.90e-06  -3.1 1.00e+00 1.00e+00h  1\n",
      " 175  4.9691980e-04 3.92e-12 3.06e-03  -4.0 1.34e-05  -3.5 1.00e+00 1.00e+00h  1\n",
      " 176  4.9691608e-04 1.85e-12 3.00e-03  -4.0 1.23e-05  -4.0 1.00e+00 1.00e+00h  1\n",
      " 177  4.9691469e-04 1.08e-12 2.00e+02  -4.0 1.10e-05  -4.5 1.00e+00 1.00e+00h  1\n",
      " 178  4.9691526e-04 1.05e-12 4.93e-03  -4.0 6.51e-06  -5.0 1.00e+00 1.00e+00h  1\n",
      " 179  4.9690883e-04 4.21e-13 2.00e+02  -4.0 6.36e-06  -4.6 1.00e+00 1.00e+00h  1\n",
      "iter    objective    inf_pr   inf_du lg(mu)  ||d||  lg(rg) alpha_du alpha_pr  ls\n",
      " 180  4.9691569e-04 8.72e-13 1.34e-03  -4.0 4.16e-06  -5.0 1.00e+00 1.00e+00h  1\n",
      " 181  4.9691459e-04 3.24e-14 2.09e-05  -4.0 1.36e-06  -5.5 1.00e+00 1.00e+00h  1\n",
      "\n",
      "Number of Iterations....: 181\n",
      "\n",
      "                                   (scaled)                 (unscaled)\n",
      "Objective...............:   1.2422864869677597e-04    4.9691459478710389e-04\n",
      "Dual infeasibility......:   2.0886397623443194e-05    8.3545590493772776e-05\n",
      "Constraint violation....:   3.2398326109856244e-14    3.2398326109856244e-14\n",
      "Variable bound violation:   0.0000000000000000e+00    0.0000000000000000e+00\n",
      "Complementarity.........:   1.0000000000000002e-04    4.0000000000000007e-04\n",
      "Overall NLP error.......:   1.9410794597885297e-06    8.3545590493772776e-05\n",
      "\n",
      "\n",
      "Number of objective function evaluations             = 271\n",
      "Number of objective gradient evaluations             = 182\n",
      "Number of equality constraint evaluations            = 271\n",
      "Number of inequality constraint evaluations          = 0\n",
      "Number of equality constraint Jacobian evaluations   = 182\n",
      "Number of inequality constraint Jacobian evaluations = 0\n",
      "Number of Lagrangian Hessian evaluations             = 181\n",
      "Total seconds in IPOPT                               = 22.552\n",
      "\n",
      "EXIT: Optimal Solution Found.\n"
     ]
    }
   ],
   "source": [
    "# This will give us the nominal trajectory that we need to track\n",
    "solve!(prob)"
   ]
  },
  {
   "cell_type": "code",
   "execution_count": 72,
   "metadata": {
    "ExecuteTime": {
     "end_time": "2022-09-12T17:51:05.020000-07:00",
     "start_time": "2022-09-13T00:51:04.812Z"
    }
   },
   "outputs": [],
   "source": [
    "#Extract the solution\n",
    "Xopt = prob.trajectory.states\n",
    "Uopt = prob.trajectory.actions \n",
    "\n",
    "# display(Xopt)\n",
    "# display(Uopt)\n",
    "\n",
    "#Add the measurements we care about to the state vector.\n",
    "#Here they are the Pauli measurements <σ_x>, <σ_y>, <σ_z>\n",
    "for i = 1:length(Xopt)\n",
    "    x = Xopt[i]\n",
    "    meas = zeros(0)\n",
    "    for s = 1:sys.nqstates\n",
    "        iso_state = x[slice(s, sys.isodim)]\n",
    "        append!(meas, meas_x_iso(iso_state))\n",
    "        append!(meas, meas_y_iso(iso_state))\n",
    "        append!(meas, meas_z_iso(iso_state))\n",
    "    end\n",
    "    Xopt[i] = [x[1:sys.n_wfn_states]; meas; x[(sys.n_wfn_states + 1):end]]\n",
    "end\n"
   ]
  },
  {
   "cell_type": "code",
   "execution_count": 73,
   "metadata": {
    "ExecuteTime": {
     "end_time": "2022-09-12T17:51:05.976000-07:00",
     "start_time": "2022-09-13T00:51:05.935Z"
    }
   },
   "outputs": [
    {
     "name": "stdout",
     "output_type": "stream",
     "text": [
      "18"
     ]
    }
   ],
   "source": [
    "#Set up xnom, unom, and utraj\n",
    "\n",
    "n = sys.nstates + 3*sys.nqstates\n",
    "print(n)\n",
    "m = sys.ncontrols\n",
    "\n",
    "xnom = zeros(n, prob.trajectory.T)\n",
    "\n",
    "for k = 1:prob.trajectory.T\n",
    "    xnom[:, k] .= Xopt[k]\n",
    "end\n",
    "\n",
    "unom = zeros(m, prob.trajectory.T - 1)\n",
    "utraj = zeros(m, prob.trajectory.T - 1)\n",
    "\n",
    "for k = 1:prob.trajectory.T - 1\n",
    "    unom[:, k] .= Uopt[k]\n",
    "    utraj[:, k] .= Uopt[k]\n",
    "end\n",
    "\n",
    "# display(xnom)\n",
    "# display(Xopt)"
   ]
  },
  {
   "cell_type": "code",
   "execution_count": 74,
   "metadata": {
    "ExecuteTime": {
     "end_time": "2022-09-12T17:51:06.735000-07:00",
     "start_time": "2022-09-13T00:51:06.723Z"
    }
   },
   "outputs": [
    {
     "data": {
      "text/plain": [
       "true_dynamics (generic function with 1 method)"
      ]
     },
     "execution_count": 74,
     "metadata": {},
     "output_type": "execute_result"
    }
   ],
   "source": [
    "#Nominal model for the system\n",
    "function discrete_dynamics(x, u)\n",
    "    G = sys.G_drift + x[15] * sys.G_drives[1] + x[16] * sys.G_drives[2]\n",
    "    h_prop = exp(G * Δt)\n",
    "    state1_ = x[1:4]\n",
    "    state2_ = x[5:8]\n",
    "    state1 = h_prop * state1_\n",
    "    state2 = h_prop * state2_\n",
    "    meas_1 = [meas_x_iso(state1), meas_y_iso(state1), meas_z_iso(state1)]\n",
    "    meas_2 = [meas_x_iso(state2), meas_y_iso(state2), meas_z_iso(state2)]\n",
    "    controls = x[15:16] + x[17:18] .* Δt\n",
    "    dcontrols = x[17:18] + u[1:2] .* Δt\n",
    "    return [state1; state2; meas_1; meas_2; controls; dcontrols]\n",
    "end\n",
    "\n",
    "#Fake true model for the system. Just add a small sigmaz() term to the Hamiltonian\n",
    "function true_dynamics(x, u)\n",
    "    G = sys.G_drift + 0.01*get_mat_iso(-1im * sigmaz()) + x[15] * sys.G_drives[1] + x[16] * sys.G_drives[2]\n",
    "    h_prop = exp(G * Δt)\n",
    "    state1_ = x[1:4]\n",
    "    state2_ = x[5:8]\n",
    "    state1 = h_prop * state1_\n",
    "    state2 = h_prop * state2_\n",
    "    meas_1 = [meas_x_iso(state1), meas_y_iso(state1), meas_z_iso(state1)]\n",
    "    meas_2 = [meas_x_iso(state2), meas_y_iso(state2), meas_z_iso(state2)]\n",
    "    controls = x[15:16] + x[17:18] .* Δt\n",
    "    dcontrols = x[17:18] + u[1:2] .* Δt\n",
    "    return [state1; state2; meas_1; meas_2; controls; dcontrols]\n",
    "end\n"
   ]
  },
  {
   "cell_type": "code",
   "execution_count": 75,
   "metadata": {
    "ExecuteTime": {
     "end_time": "2022-09-12T17:51:20.224000-07:00",
     "start_time": "2022-09-13T00:51:07.431Z"
    }
   },
   "outputs": [],
   "source": [
    "#Compute linearization of dynamics using nominal dynamics + trajectory\n",
    "# This cell takes around 30 seconds to run\n",
    "\n",
    "A = zeros(n, n, T-1)\n",
    "B = zeros(n, m, T-1)  \n",
    "\n",
    "# for k = 1:(T-1)\n",
    "#     A[:, :, k] .= ForwardDiff.jacobian(x->discrete_dynamics(x, Uopt[k]), Xopt[k])\n",
    "#     B[:, :, k] .= ForwardDiff.jacobian(u->discrete_dynamics(Xopt[k], u), Uopt[k])\n",
    "# end    \n",
    "for k = 1:(T-1)\n",
    "    A[:, :, k] .= ForwardDiff.jacobian(x->discrete_dynamics(x, unom[:,k]), xnom[:,k])\n",
    "    B[:, :, k] .= ForwardDiff.jacobian(u->discrete_dynamics(xnom[:, k], u), unom[:,k])\n",
    "end \n"
   ]
  },
  {
   "cell_type": "markdown",
   "metadata": {},
   "source": [
    "## To run the ILC algorithm run all the cells below and repeat until solution is sufficiently dialed in."
   ]
  },
  {
   "cell_type": "code",
   "execution_count": 83,
   "metadata": {
    "ExecuteTime": {
     "end_time": "2022-09-12T17:54:14.566000-07:00",
     "start_time": "2022-09-13T00:54:14.456Z"
    }
   },
   "outputs": [],
   "source": [
    "#Rollout on the \"real\" system\n",
    "xtraj = zeros(n,T)\n",
    "xtraj[:,1] .= xnom[:,1]\n",
    "for k = 1:(T-1)\n",
    "    xtraj[:,k+1] .= true_dynamics(xtraj[:,k], utraj[:,k])\n",
    "end\n"
   ]
  },
  {
   "cell_type": "code",
   "execution_count": 84,
   "metadata": {
    "ExecuteTime": {
     "end_time": "2022-09-12T17:54:15.548000-07:00",
     "start_time": "2022-09-13T00:54:15.394Z"
    }
   },
   "outputs": [
    {
     "data": {
      "image/png": "[encoded data removed]",
      "text/plain": [
       "Figure(PyObject <Figure size 640x480 with 1 Axes>)"
      ]
     },
     "metadata": {},
     "output_type": "display_data"
    },
    {
     "data": {
      "text/plain": [
       "0.9991129464959394"
      ]
     },
     "execution_count": 84,
     "metadata": {},
     "output_type": "execute_result"
    }
   ],
   "source": [
    "#plot σz for the state that starts in |e> and goes to -i|g>\n",
    "plot(xtraj[14, :])\n",
    "plot(xnom[14, :])\n",
    "xtraj[14, end]"
   ]
  },
  {
   "cell_type": "code",
   "execution_count": 85,
   "metadata": {
    "ExecuteTime": {
     "end_time": "2022-09-12T17:54:21.556000-07:00",
     "start_time": "2022-09-13T00:54:21.372Z"
    }
   },
   "outputs": [
    {
     "data": {
      "image/png": "[encoded data removed]",
      "text/plain": [
       "Figure(PyObject <Figure size 640x480 with 1 Axes>)"
      ]
     },
     "metadata": {},
     "output_type": "display_data"
    },
    {
     "data": {
      "text/plain": [
       "-0.9991129464959339"
      ]
     },
     "execution_count": 85,
     "metadata": {},
     "output_type": "execute_result"
    }
   ],
   "source": [
    "#plot σz for the state that starts in |g> and goes to -i|e>\n",
    "plot(xtraj[11, :])\n",
    "plot(xnom[11, :])\n",
    "xtraj[11, end]"
   ]
  },
  {
   "cell_type": "code",
   "execution_count": 79,
   "metadata": {
    "ExecuteTime": {
     "end_time": "2022-09-12T17:51:22.179000-07:00",
     "start_time": "2022-09-13T00:51:10.619Z"
    }
   },
   "outputs": [
    {
     "data": {
      "image/png": "[encoded data removed]",
      "text/plain": [
       "Figure(PyObject <Figure size 640x480 with 1 Axes>)"
      ]
     },
     "metadata": {},
     "output_type": "display_data"
    },
    {
     "data": {
      "text/plain": [
       "1-element Vector{PyCall.PyObject}:\n",
       " PyObject <matplotlib.lines.Line2D object at 0x00000000499927F0>"
      ]
     },
     "execution_count": 79,
     "metadata": {},
     "output_type": "execute_result"
    }
   ],
   "source": [
    "# Plot controls. The blue and yellow are the nominal controls and the red and green \n",
    "#are the updated controls after each iteration.\n",
    "plot([Xopt[i][15:16] for i = 1:length(Xopt)])\n",
    "plot(xtraj[15,:])\n",
    "plot(xtraj[16, :])"
   ]
  },
  {
   "cell_type": "code",
   "execution_count": 81,
   "metadata": {
    "ExecuteTime": {
     "end_time": "2022-09-12T17:53:54.979000-07:00",
     "start_time": "2022-09-13T00:53:50.230Z"
    }
   },
   "outputs": [
    {
     "data": {
      "text/plain": [
       "18-element Vector{Float64}:\n",
       " -0.04955954656312643\n",
       " -0.001945508352498471\n",
       " -0.22651395082308404\n",
       "  0.027255688053520855\n",
       "  0.0019455083525018113\n",
       " -0.049559546563126264\n",
       "  0.02725568805351286\n",
       "  0.22651395082309736\n",
       "  0.44087315150292816\n",
       "  0.09553616447728835\n",
       "  0.10752943714604646\n",
       " -0.4408731515029562\n",
       " -0.09553616447728851\n",
       " -0.10752943714603069\n",
       " -1.491862189340054e-16\n",
       "  5.4046285503959095e-18\n",
       " -6.5052130349130266e-18\n",
       "  4.714929491552258e-23"
      ]
     },
     "metadata": {},
     "output_type": "display_data"
    },
    {
     "name": "stdout",
     "output_type": "stream",
     "text": [
      "-----------------------------------------------------------------\n",
      "           OSQP v0.6.2  -  Operator Splitting QP Solver\n",
      "              (c) Bartolomeo Stellato,  Goran Banjac\n",
      "        University of Oxford  -  Stanford University 2021\n",
      "-----------------------------------------------------------------\n",
      "problem:  variables n = 7980, constraints m = 7980\n",
      "          nnz(P) + nnz(A) = 51145\n",
      "settings: linear system solver = qdldl,\n",
      "          eps_abs = 1.0e-008, eps_rel = 1.0e-008,\n",
      "          eps_prim_inf = 1.0e-008, eps_dual_inf = 1.0e-008,\n",
      "          rho = 1.00e-001 (adaptive),\n",
      "          sigma = 1.00e-006, alpha = 1.60, max_iter = 4000\n",
      "          check_termination: on (interval 25),\n",
      "          scaling: on, scaled_termination: off\n",
      "          warm start: on, polish: on, time_limit: off\n",
      "\n",
      "iter  objective    pri res    dua res    rho        time\n",
      "   1 -1.1082e+001  3.79e-004  2.12e+001  1.00e-001  2.71e-002s\n",
      " 200 -1.6280e+001  8.45e-010  5.77e-006  4.74e-002  1.62e-001s\n",
      " 400 -1.6280e+001  2.60e-010  2.55e-006  4.74e-002  2.75e-001s\n",
      " 600 -1.6280e+001  1.36e-010  1.62e-006  4.74e-002  3.88e-001s\n",
      " 800 -1.6280e+001  8.71e-011  1.18e-006  4.74e-002  4.96e-001s\n",
      "1000 -1.6280e+001  6.18e-011  1.09e-006  4.74e-002  6.07e-001s\n",
      "1200 -1.6280e+001  4.68e-011  1.06e-006  4.74e-002  7.17e-001s\n",
      "1400 -1.6280e+001  3.71e-011  1.03e-006  4.74e-002  8.34e-001s\n",
      "1600 -1.6280e+001  4.35e-010  8.76e-007  9.47e-003  9.48e-001s\n",
      "1800 -1.6280e+001  3.51e-010  8.26e-007  9.47e-003  1.06e+000s\n",
      "2000 -1.6280e+001  2.98e-010  7.90e-007  9.47e-003  1.17e+000s\n",
      "2200 -1.6280e+001  2.61e-010  7.61e-007  9.47e-003  1.29e+000s\n",
      "2400 -1.6280e+001  2.34e-010  7.38e-007  9.47e-003  1.40e+000s\n",
      "2600 -1.6280e+001  2.13e-010  7.19e-007  9.47e-003  1.51e+000s\n",
      "2800 -1.6280e+001  1.97e-010  7.02e-007  9.47e-003  1.62e+000s\n",
      "3000 -1.6280e+001  1.84e-010  6.88e-007  9.47e-003  1.74e+000s\n",
      "3200 -1.6280e+001  1.73e-010  6.74e-007  9.47e-003  1.85e+000s\n",
      "3400 -1.6280e+001  1.64e-010  6.61e-007  9.47e-003  1.96e+000s\n",
      "3600 -1.6280e+001  1.56e-010  6.49e-007  9.47e-003  2.08e+000s\n",
      "3800 -1.6280e+001  1.50e-010  6.37e-007  9.47e-003  2.19e+000s\n",
      "4000 -1.6280e+001  1.44e-010  6.25e-007  9.47e-003  2.30e+000s\n",
      "\n",
      "status:               solved inaccurate\n",
      "number of iterations: 4000\n",
      "optimal objective:    -16.2797\n",
      "run time:             2.30e+000s\n",
      "optimal rho estimate: 3.61e-003\n",
      "\n"
     ]
    }
   ],
   "source": [
    "#Set up the ILC QP\n",
    "\n",
    "#Costs\n",
    "\n",
    "# Only really care about getting sigmaz measurments to be 1 since that \n",
    "# forces the other measurements to be 0.\n",
    "\n",
    "#Need to make the Qs have penalty on all the measurements in order for it to work.\n",
    "Qf = Diagonal([fill(0., sys.isodim*sys.nqstates); fill(80., 3*sys.nqstates); fill(0., 4)])\n",
    "\n",
    "Qilc = sparse(Diagonal([fill(0., sys.isodim*sys.nqstates); fill(0., 3*sys.nqstates); fill(0., 4)]))\n",
    "\n",
    "Rilc = sparse(Diagonal([0.01, 0.01]))\n",
    "H = blockdiag(kron(I(T-2), blockdiag(Rilc, Qilc)), Rilc, sparse(Qf))\n",
    "q = zeros((n+m)*(T-1))\n",
    "#errors from the \"real\" rollout\n",
    "for k = 1:(T-2)\n",
    "   q[(k-1)*(m+n) .+ (1:(m+n))] .= [zeros(sys.ncontrols); Qilc*(xtraj[:,k+1] - Xopt[k+1])] \n",
    "end\n",
    "q[(T-2)*(m+n) .+ (1:(m+n))] .= [zeros(sys.ncontrols); Qf*(xtraj[:,T] - Xopt[T])]\n",
    "\n",
    "display(xtraj[:,T] - Xopt[T])\n",
    "\n",
    "#Constraints\n",
    "U = kron(I(T-1), [I zeros(m,n)]) #Matrix that picks out all u (d2controls)\n",
    "C = kron(I(T-1), [zeros(m,16) I zeros(m,2)]) #picks out all cntrls\n",
    "X = kron(I(T-1), [zeros(n,m) I]) #Matrix that picks out all x\n",
    "D = spzeros(n*(T-1), (n+m)*(T-1)) #dynamics constraints\n",
    "\n",
    "D[1:n,1:m] .= B[:,:,1]\n",
    "D[1:n,(m+1):(m+n)] .= -I(n)\n",
    "for k = 1:(T-2)\n",
    "    D[(k*n).+(1:n), (m+(k-1)*(n+m)).+(1:(2*n+m))] .= [A[:,:,k+1] B[:,:,k+1] -I]\n",
    "end \n",
    "\n",
    "c_bnd = [fill(2π*19e-3, 2*(T-2)); zeros(2)]\n",
    "ctrajF = reduce(vcat, xtraj[15:16,2:end])\n",
    "lb = [zeros(n*(T-1)); -c_bnd-ctrajF]\n",
    "ub = [zeros(n*(T-1)); c_bnd-ctrajF]\n",
    "\n",
    "qp = OSQP.Model()\n",
    "OSQP.setup!(qp, P=H, q=q, A=[D; C], l=lb, u=ub, eps_abs=1e-8, eps_rel=1e-8, eps_prim_inf = 1.0e-8, eps_dual_inf = 1.0e-8, polish=1)\n",
    "results = OSQP.solve!(qp)\n",
    "ztraj = results.x;"
   ]
  },
  {
   "cell_type": "code",
   "execution_count": 82,
   "metadata": {
    "ExecuteTime": {
     "end_time": "2022-09-12T17:54:09.715000-07:00",
     "start_time": "2022-09-13T00:54:09.700Z"
    }
   },
   "outputs": [
    {
     "data": {
      "text/plain": [
       "2×399 Matrix{Float64}:\n",
       "  0.0352723     0.0310018    0.0270055    …   0.0290634   0.033212\n",
       " -0.000698268  -0.00067964  -0.000661169     -1.08457e-5  7.02459e-8"
      ]
     },
     "execution_count": 82,
     "metadata": {},
     "output_type": "execute_result"
    }
   ],
   "source": [
    "#update utraj\n",
    "Δu = reshape(U*ztraj, 2, :)\n",
    "#display(Δu[:, 20:60])\n",
    "#display(utraj[:, 20:60])\n",
    "utraj = utraj+Δu\n",
    "#display(utraj[:, 20:60])"
   ]
  },
  {
   "cell_type": "code",
   "execution_count": null,
   "metadata": {},
   "outputs": [],
   "source": []
  }
 ],
 "metadata": {
  "kernelspec": {
   "display_name": "Julia 1.7.2",
   "language": "julia",
   "name": "julia-1.7"
  },
  "language_info": {
   "file_extension": ".jl",
   "mimetype": "application/julia",
   "name": "julia",
   "version": "1.7.2"
  }
 },
 "nbformat": 4,
 "nbformat_minor": 4
}
