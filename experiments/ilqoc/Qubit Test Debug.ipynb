{
 "cells": [
  {
   "cell_type": "code",
   "execution_count": 1,
   "metadata": {},
   "outputs": [
    {
     "name": "stderr",
     "output_type": "stream",
     "text": [
      "\u001b[32m\u001b[1m  Activating\u001b[22m\u001b[39m project at `C:\\Users\\a7b\\Pico.jl`\n"
     ]
    }
   ],
   "source": [
    "import Pkg; Pkg.activate(\"C:/Users/a7b/Pico.jl\"); Pkg.instantiate()"
   ]
  },
  {
   "cell_type": "code",
   "execution_count": 2,
   "metadata": {},
   "outputs": [],
   "source": [
    "using Pico\n",
    "using PyPlot\n",
    "using QuantumOptics\n",
    "using ForwardDiff\n",
    "using Interpolations\n",
    "using LinearAlgebra\n",
    "using SparseArrays\n",
    "using OSQP"
   ]
  },
  {
   "cell_type": "code",
   "execution_count": 3,
   "metadata": {},
   "outputs": [
    {
     "data": {
      "text/plain": [
       "exp_frechet!"
      ]
     },
     "execution_count": 3,
     "metadata": {},
     "output_type": "execute_result"
    }
   ],
   "source": [
    "WDIR = joinpath(@__DIR__, \"../../\")\n",
    "include(joinpath(WDIR, \"experiments\", \"ilqoc\", \"measurement.jl\"))"
   ]
  },
  {
   "cell_type": "code",
   "execution_count": 4,
   "metadata": {},
   "outputs": [],
   "source": [
    "iter = 3000\n",
    "\n",
    "ω = 2π * 4.96 #GHz\n",
    "α = -2π * 0.143 #GHz\n",
    "levels = 2\n",
    "\n",
    "ψg = [1. + 0*im, 0]\n",
    "ψe = [0, 1. + 0*im]\n",
    "\n",
    "ψ1 = [ψg, ψe]\n",
    "ψf = [-im*ψe, -im*ψg]\n",
    "\n",
    "H_drift = α/2 * Pico.quad(levels)\n",
    "H_drive = [Pico.create(levels) + Pico.annihilate(levels),\n",
    "1im * (Pico.create(levels) - Pico.annihilate(levels))]\n",
    "\n",
    "sys = QuantumSystem(\n",
    "    H_drift, \n",
    "    H_drive,\n",
    "    ψ1 = ψ1,\n",
    "    ψf = ψf,\n",
    "    control_bounds = [2π * 19e-3,  2π * 19e-3]\n",
    ");"
   ]
  },
  {
   "cell_type": "code",
   "execution_count": 5,
   "metadata": {},
   "outputs": [],
   "source": [
    "T = 400\n",
    "Δt = 0.1\n",
    "Q = 200.\n",
    "R = 0.1\n",
    "cost = infidelity_cost\n",
    "hess = true\n",
    "pinqstate = true\n",
    "\n",
    "time = T * Δt\n",
    "\n",
    "options = Options(\n",
    "    max_iter = iter,\n",
    "    tol = 1e-5\n",
    ")\n",
    "\n",
    "prob = QuantumControlProblem(\n",
    "    sys,\n",
    "    T;\n",
    "    Δt = Δt,\n",
    "    Q = Q,\n",
    "    R = R,\n",
    "    eval_hessian = hess,\n",
    "    cost = cost,\n",
    "    pin_first_qstate = pinqstate,\n",
    "    options = options\n",
    ");"
   ]
  },
  {
   "cell_type": "code",
   "execution_count": 14,
   "metadata": {},
   "outputs": [
    {
     "name": "stdout",
     "output_type": "stream",
     "text": [
      "This is Ipopt version 3.14.4, running with linear solver MUMPS 5.4.1.\n",
      "\n",
      "Number of nonzeros in equality constraint Jacobian...:    36634\n",
      "Number of nonzeros in inequality constraint Jacobian.:        0\n",
      "Number of nonzeros in Lagrangian Hessian.............:    14723\n",
      "\n",
      "Total number of variables............................:     5580\n",
      "                     variables with only lower bounds:        0\n",
      "                variables with lower and upper bounds:      796\n",
      "                     variables with only upper bounds:        0\n",
      "Total number of equality constraints.................:     4788\n",
      "Total number of inequality constraints...............:        0\n",
      "        inequality constraints with only lower bounds:        0\n",
      "   inequality constraints with lower and upper bounds:        0\n",
      "        inequality constraints with only upper bounds:        0\n",
      "\n",
      "iter    objective    inf_pr   inf_du lg(mu)  ||d||  lg(rg) alpha_du alpha_pr  ls\n",
      "   0  4.9743592e-04 7.84e-11 1.26e-04  -1.0 0.00e+00    -  0.00e+00 0.00e+00   0\n",
      "   1  5.8327677e-04 5.22e-08 1.53e-04  -2.5 1.53e-02  -2.0 1.00e+00 1.00e+00f  1\n",
      "   2  5.5678020e-04 3.70e-09 2.00e+02  -3.8 9.41e-03  -2.5 1.00e+00 1.00e+00h  1\n",
      "   3  5.8567184e-04 5.22e-09 2.22e-02  -3.8 1.13e-03  -2.1 1.00e+00 1.00e+00F  1\n",
      "   4  6.1899538e-04 5.66e-08 2.00e+02  -3.8 1.40e-03  -2.5 1.00e+00 1.00e+00h  1\n",
      "   5  6.4518963e-04 3.89e-09 2.00e+02  -3.8 1.33e-03  -3.0 1.00e+00 1.00e+00F  1\n",
      "   6  6.5537669e-04 5.19e-08 4.03e-02  -3.8 1.14e-03  -3.5 1.00e+00 1.00e+00F  1\n",
      "   7  6.5532453e-04 4.67e-10 2.00e+02  -3.8 1.91e-05  -1.3 1.00e+00 1.00e+00h  1\n",
      "   8  6.5517070e-04 6.20e-12 2.00e+02  -3.8 8.84e-05  -1.7 1.00e+00 1.00e+00F  1\n",
      "   9  6.5528747e-04 2.61e-11 2.92e-03  -3.8 1.62e-04  -2.2 1.00e+00 1.00e+00F  1\n",
      "iter    objective    inf_pr   inf_du lg(mu)  ||d||  lg(rg) alpha_du alpha_pr  ls\n",
      "  10  6.5621959e-04 1.73e-09 2.00e+02  -3.8 2.97e-04  -2.7 1.00e+00 1.00e+00h  1\n",
      "  11  6.5841771e-04 4.18e-10 1.02e-02  -3.8 4.96e-04  -3.2 1.00e+00 1.00e+00F  1\n",
      "  12  6.5915221e-04 4.87e-10 2.00e+02  -3.8 1.51e-04  -2.7 1.00e+00 1.00e+00h  1\n",
      "  13  6.6029927e-04 4.27e-10 5.54e-03  -3.8 3.46e-04  -3.2 1.00e+00 1.00e+00F  1\n",
      "  14  6.6101527e-04 3.08e-09 4.86e-03  -3.8 2.40e-03  -3.7 1.00e+00 1.25e-01h  4\n",
      "  15  6.6164965e-04 4.82e-09 2.00e+02  -3.8 5.23e-04  -3.3 1.00e+00 1.00e+00h  1\n",
      "  16  6.6174332e-04 6.67e-10 2.00e+02  -3.8 2.98e-04  -3.7 1.00e+00 1.00e+00F  1\n",
      "  17  6.6174278e-04 6.67e-10 6.73e-03  -3.8 4.69e-03  -4.2 1.00e+00 4.77e-07h 22\n",
      "  18  6.6224998e-04 1.71e-08 2.00e+02  -3.8 1.29e-03  -3.8 1.00e+00 1.00e+00h  1\n",
      "  19  6.6224518e-04 1.71e-08 1.91e-04  -3.8 2.71e-03  -4.3 1.00e+00 9.54e-07h 21\n",
      "iter    objective    inf_pr   inf_du lg(mu)  ||d||  lg(rg) alpha_du alpha_pr  ls\n",
      "  20  5.2108561e-04 6.72e-07 9.79e-05  -4.0 6.17e-03  -4.7 1.00e+00 1.00e+00h  1\n",
      "  21  4.9670136e-04 5.13e-08 7.42e-06  -4.0 1.48e-03  -5.2 1.00e+00 1.00e+00h  1\n",
      "\n",
      "Number of Iterations....: 21\n",
      "\n",
      "                                   (scaled)                 (unscaled)\n",
      "Objective...............:   1.2417533903835771e-04    4.9670135615359370e-04\n",
      "Dual infeasibility......:   7.4225769013079590e-06    2.9690307605241573e-05\n",
      "Constraint violation....:   5.1280499548274610e-08    5.1280499548274610e-08\n",
      "Variable bound violation:   0.0000000000000000e+00    0.0000000000000000e+00\n",
      "Complementarity.........:   1.0000452574713143e-04    4.0001810298865691e-04\n",
      "Overall NLP error.......:   7.4225769013079590e-06    2.9690307605241573e-05\n",
      "\n",
      "\n",
      "Number of objective function evaluations             = 82\n",
      "Number of objective gradient evaluations             = 22\n",
      "Number of equality constraint evaluations            = 82\n",
      "Number of inequality constraint evaluations          = 0\n",
      "Number of equality constraint Jacobian evaluations   = 22\n",
      "Number of inequality constraint Jacobian evaluations = 0\n",
      "Number of Lagrangian Hessian evaluations             = 21\n",
      "Total seconds in IPOPT                               = 4.725\n",
      "\n",
      "EXIT: Optimal Solution Found.\n"
     ]
    }
   ],
   "source": [
    "#this will give us the nominal trajectory that we need to track\n",
    "solve!(prob)"
   ]
  },
  {
   "cell_type": "code",
   "execution_count": 15,
   "metadata": {},
   "outputs": [],
   "source": [
    "#Extract the solution\n",
    "result = prob.trajectory.states\n",
    "\n",
    "Xopt = [result[i][1:sys.n_wfn_states] for i = 1:length(result)]\n",
    "Uopt = [result[i][sys.n_wfn_states .+ (1:2)] for i = 1:length(result)]\n",
    "\n",
    "for i = 1:length(Xopt)\n",
    "    x = Xopt[i]\n",
    "    meas = zeros(0)\n",
    "    for s = 1:sys.nqstates\n",
    "        iso_state = x[slice(s, sys.isodim)]\n",
    "        append!(meas, meas_x_iso(iso_state))\n",
    "        append!(meas, meas_y_iso(iso_state))\n",
    "        append!(meas, meas_z_iso(iso_state))\n",
    "    end\n",
    "    Xopt[i] = [x; meas]\n",
    "end"
   ]
  },
  {
   "cell_type": "code",
   "execution_count": 16,
   "metadata": {},
   "outputs": [
    {
     "name": "stdout",
     "output_type": "stream",
     "text": [
      "14"
     ]
    }
   ],
   "source": [
    "n = sys.n_wfn_states + 3*sys.nqstates\n",
    "print(n)\n",
    "m = sys.ncontrols\n",
    "\n",
    "xnom = zeros(n, prob.T)\n",
    "\n",
    "for k = 1:prob.T\n",
    "    xnom[:, k] .= Xopt[k]\n",
    "end\n",
    "\n",
    "unom = zeros(m, prob.T - 1)\n",
    "utraj = zeros(m, prob.T - 1)\n",
    "\n",
    "for k = 1:prob.T - 1\n",
    "    unom[:, k] .= Uopt[k]\n",
    "    utraj[:, k] .= Uopt[k]\n",
    "end"
   ]
  },
  {
   "cell_type": "code",
   "execution_count": 17,
   "metadata": {},
   "outputs": [
    {
     "data": {
      "text/plain": [
       "true_dynamics (generic function with 1 method)"
      ]
     },
     "execution_count": 17,
     "metadata": {},
     "output_type": "execute_result"
    }
   ],
   "source": [
    "function discrete_dynamics(x, u)\n",
    "    G = sys.G_drift + u[1] * sys.G_drives[1] + u[2] * sys.G_drives[2]\n",
    "    h_prop = exp(G * Δt)\n",
    "    state1_ = x[1:4]\n",
    "    state2_ = x[5:8]\n",
    "    state1 = h_prop * state1_\n",
    "    state2 = h_prop * state2_\n",
    "    meas_1 = [meas_x_iso(state1), meas_y_iso(state1), meas_z_iso(state1)]\n",
    "    meas_2 = [meas_x_iso(state2), meas_y_iso(state2), meas_z_iso(state2)]\n",
    "    return [state1; state2; meas_1; meas_2]\n",
    "end\n",
    "\n",
    "function true_dynamics(x, u)\n",
    "    G = sys.G_drift + 0.01*get_mat_iso(-1im * sigmaz()) + u[1] * sys.G_drives[1] + u[2] * sys.G_drives[2]\n",
    "    h_prop = exp(G * Δt)\n",
    "    state1_ = x[1:4]\n",
    "    state2_ = x[5:8]\n",
    "    state1 = h_prop * state1_\n",
    "    state2 = h_prop * state2_\n",
    "    meas_1 = [meas_x_iso(state1), meas_y_iso(state1), meas_z_iso(state1)]\n",
    "    meas_2 = [meas_x_iso(state2), meas_y_iso(state2), meas_z_iso(state2)]\n",
    "    return [state1; state2; meas_1; meas_2]\n",
    "end"
   ]
  },
  {
   "cell_type": "code",
   "execution_count": 18,
   "metadata": {},
   "outputs": [
    {
     "data": {
      "text/plain": [
       "14×14 Matrix{Float64}:\n",
       "  0.999996      3.47547e-8    2.15171e-27  …  0.0  0.0  0.0  0.0  0.0  0.0\n",
       " -3.47547e-8    0.999996      0.00275988      0.0  0.0  0.0  0.0  0.0  0.0\n",
       "  5.35593e-28  -0.00275988    0.999996        0.0  0.0  0.0  0.0  0.0  0.0\n",
       " -0.00275988    9.08569e-27  -3.47547e-8      0.0  0.0  0.0  0.0  0.0  0.0\n",
       "  0.0           0.0           0.0             0.0  0.0  0.0  0.0  0.0  0.0\n",
       "  0.0           0.0           0.0          …  0.0  0.0  0.0  0.0  0.0  0.0\n",
       "  0.0           0.0           0.0             0.0  0.0  0.0  0.0  0.0  0.0\n",
       "  0.0           0.0           0.0             0.0  0.0  0.0  0.0  0.0  0.0\n",
       " -6.92211e-7    1.99954      -0.0431266       0.0  0.0  0.0  0.0  0.0  0.0\n",
       " -0.0541628    -3.14444e-9    5.53234e-7      0.0  0.0  0.0  0.0  0.0  0.0\n",
       "  1.99927       6.92212e-7   -2.3684e-10   …  0.0  0.0  0.0  0.0  0.0  0.0\n",
       "  0.0           0.0           0.0             0.0  0.0  0.0  0.0  0.0  0.0\n",
       "  0.0           0.0           0.0             0.0  0.0  0.0  0.0  0.0  0.0\n",
       "  0.0           0.0           0.0             0.0  0.0  0.0  0.0  0.0  0.0"
      ]
     },
     "metadata": {},
     "output_type": "display_data"
    },
    {
     "data": {
      "text/plain": [
       "14×2 Matrix{Float64}:\n",
       " -0.00243224    3.11362e-8\n",
       "  6.48969e-11   0.0999766\n",
       "  2.76616e-8    0.00215633\n",
       " -0.0999704    -9.27818e-11\n",
       " -6.48993e-11  -0.0999766\n",
       " -0.00243224    3.11364e-8\n",
       " -0.0999704    -9.278e-11\n",
       " -2.76619e-8   -0.00215633\n",
       "  3.25254e-10   0.199789\n",
       " -0.199763     -3.3085e-10\n",
       " -0.0097261     1.24507e-7\n",
       " -3.25254e-10  -0.199789\n",
       "  0.199763      3.30852e-10\n",
       "  0.0097261    -1.24508e-7"
      ]
     },
     "metadata": {},
     "output_type": "display_data"
    }
   ],
   "source": [
    "#Compute linearization of dynamics using nominal dynamics + trajectory\n",
    "\n",
    "A = zeros(n, n, T-1)\n",
    "B = zeros(n, m, T-1)  \n",
    "\n",
    "for k = 1:(T-1)\n",
    "    A[:, :, k] .= ForwardDiff.jacobian(x->discrete_dynamics(x, Uopt[k]), Xopt[k])\n",
    "    B[:, :, k] .= ForwardDiff.jacobian(u->discrete_dynamics(Xopt[k], u), Uopt[k])\n",
    "end\n",
    "\n",
    "display(A[:, :, 21])\n",
    "display(B[:, :, 21])\n",
    "    "
   ]
  },
  {
   "cell_type": "code",
   "execution_count": 32,
   "metadata": {},
   "outputs": [],
   "source": [
    "xtraj = zeros(n,T)\n",
    "xtraj[:,1] .= xnom[:,1]\n",
    "for k = 1:(T-1)\n",
    "    #utraj[:,k] .= unom[:,k] - K[:,:,k]*(xtraj[:,k]-xnom[:,k]) #with LQR tracking controller\n",
    "    #utraj[:,k] .= min.(u_bnd, max.(-u_bnd, utraj[:,k])) #clip values within torque limits\n",
    "    xtraj[:,k+1] .= true_dynamics(xtraj[:,k], utraj[:,k])\n",
    "end\n"
   ]
  },
  {
   "cell_type": "code",
   "execution_count": 33,
   "metadata": {
    "scrolled": false
   },
   "outputs": [
    {
     "data": {
      "image/png": "[encoded data removed]",
      "text/plain": [
       "Figure(PyObject <Figure size 640x480 with 1 Axes>)"
      ]
     },
     "metadata": {},
     "output_type": "display_data"
    },
    {
     "data": {
      "text/plain": [
       "0.999895895375891"
      ]
     },
     "execution_count": 33,
     "metadata": {},
     "output_type": "execute_result"
    }
   ],
   "source": [
    "plot(xtraj[14, :])\n",
    "plot(xnom[14, :])\n",
    "xtraj[14, end]"
   ]
  },
  {
   "cell_type": "code",
   "execution_count": 34,
   "metadata": {},
   "outputs": [
    {
     "data": {
      "image/png": "[encoded data removed]",
      "text/plain": [
       "Figure(PyObject <Figure size 640x480 with 1 Axes>)"
      ]
     },
     "metadata": {},
     "output_type": "display_data"
    },
    {
     "data": {
      "text/plain": [
       "1-element Vector{PyCall.PyObject}:\n",
       " PyObject <matplotlib.lines.Line2D object at 0x00000000533E2198>"
      ]
     },
     "execution_count": 34,
     "metadata": {},
     "output_type": "execute_result"
    }
   ],
   "source": [
    "plot(Uopt[:])\n",
    "plot(utraj[1,:])\n",
    "plot(utraj[2, :])"
   ]
  },
  {
   "cell_type": "code",
   "execution_count": 35,
   "metadata": {},
   "outputs": [
    {
     "data": {
      "text/plain": [
       "14-element Vector{Float64}:\n",
       "  0.0023276266723938036\n",
       "  0.0498393659868734\n",
       " -0.0068289432658445\n",
       "  0.0012688122993399498\n",
       " -0.049839366008825756\n",
       "  0.002327626468146289\n",
       "  0.0012688123584098099\n",
       "  0.0068289437215671815\n",
       "  0.013872572112487089\n",
       " -0.00396864629662716\n",
       "  0.00010410462410959109\n",
       " -0.013872573023932215\n",
       "  0.003968645888132181\n",
       " -0.0001041047422492003"
      ]
     },
     "metadata": {},
     "output_type": "display_data"
    },
    {
     "name": "stdout",
     "output_type": "stream",
     "text": [
      "-----------------------------------------------------------------\n",
      "           OSQP v0.6.2  -  Operator Splitting QP Solver\n",
      "              (c) Bartolomeo Stellato,  Goran Banjac\n",
      "        University of Oxford  -  Stanford University 2021\n",
      "-----------------------------------------------------------------\n",
      "problem:  variables n = 6384, constraints m = 6384\n",
      "          nnz(P) + nnz(A) = 46208\n",
      "settings: linear system solver = qdldl,\n",
      "          eps_abs = 1.0e-008, eps_rel = 1.0e-008,\n",
      "          eps_prim_inf = 1.0e-008, eps_dual_inf = 1.0e-008,\n",
      "          rho = 1.00e-001 (adaptive),\n",
      "          sigma = 1.00e-006, alpha = 1.60, max_iter = 4000\n",
      "          check_termination: on (interval 25),\n",
      "          scaling: on, scaled_termination: off\n",
      "          warm start: on, polish: on, time_limit: off\n",
      "\n",
      "iter  objective    pri res    dua res    rho        time\n",
      "   1 -1.3602e-003  1.19e-005  2.50e-001  1.00e-001  2.68e-002s\n",
      " 200 -2.0823e-003  9.16e-010  6.49e-008  5.04e+004  1.46e-001s\n",
      " 350 -2.0821e-003  2.55e-010  5.09e-009  1.74e+001  2.92e-001s\n",
      "\n",
      "status:               solved\n",
      "solution polish:      unsuccessful\n",
      "number of iterations: 350\n",
      "optimal objective:    -0.0021\n",
      "run time:             3.12e-001s\n",
      "optimal rho estimate: 8.01e+000\n",
      "\n"
     ]
    }
   ],
   "source": [
    "#Setup the ILC QP\n",
    "\n",
    "#Cost   \n",
    "Qf = Diagonal([fill(0., sys.isodim*sys.nqstates); [10., 10., 4000.]; [10., 10., 4000.]])\n",
    "Qilc = sparse(Diagonal([fill(0., sys.isodim*sys.nqstates); fill(0., 3*sys.nqstates)]))\n",
    "Rilc = sparse(Diagonal([0.001, 0.001]))\n",
    "H = blockdiag(kron(I(T-2), blockdiag(Rilc, Qilc)), Rilc, sparse(Qf))\n",
    "q = zeros((n+m)*(T-1))\n",
    "for k = 1:(T-2)\n",
    "   q[(k-1)*(m+n) .+ (1:(m+n))] .= [zeros(sys.ncontrols); Qilc*(xtraj[:,k+1] - Xopt[k+1])] \n",
    "end\n",
    "display(xtraj[:,T] - Xopt[T])\n",
    "q[(T-2)*(m+n) .+ (1:(m+n))] .= [zeros(sys.ncontrols); Qf*(xtraj[:,T] - Xopt[T])]\n",
    "\n",
    "#Constraints\n",
    "U = kron(I(T-1), [I zeros(m,n)]) #Matrix that picks out all u\n",
    "X = kron(I(T-1), [zeros(n,m) I]) #Matrix that picks out all x\n",
    "D = spzeros(n*(T-1), (n+m)*(T-1)) #dynamics constraints\n",
    "\n",
    "D[1:n,1:m] .= B[:,:,1]\n",
    "D[1:n,(m+1):(m+n)] .= -I(n)\n",
    "for k = 1:(T-2)\n",
    "    D[(k*n).+(1:n), (m+(k-1)*(n+m)).+(1:(2*n+m))] .= [A[:,:,k+1] B[:,:,k+1] -I]\n",
    "end \n",
    "\n",
    "u_bnd = [zeros(2); fill(2π*19e-3, 2*(T-2))]\n",
    "utrajF = reduce(vcat, utraj)\n",
    "lb = [zeros(n*(T-1)); -u_bnd-utrajF]\n",
    "ub = [zeros(n*(T-1)); u_bnd-utrajF]\n",
    "\n",
    "qp = OSQP.Model()\n",
    "OSQP.setup!(qp, P=H, q=q, A=[D; U], l=lb, u=ub, eps_abs=1e-8, eps_rel=1e-8, eps_prim_inf = 1.0e-8, eps_dual_inf = 1.0e-8, polish=1)\n",
    "results = OSQP.solve!(qp)\n",
    "ztraj = results.x;"
   ]
  },
  {
   "cell_type": "code",
   "execution_count": 36,
   "metadata": {},
   "outputs": [
    {
     "data": {
      "text/plain": [
       "2×41 Matrix{Float64}:\n",
       "  0.0001097     0.000109637   0.000109563  …   9.87003e-5    9.82975e-5\n",
       " -0.000323993  -0.000323975  -0.000323947     -0.000306575  -0.000305564"
      ]
     },
     "metadata": {},
     "output_type": "display_data"
    },
    {
     "data": {
      "text/plain": [
       "2×41 Matrix{Float64}:\n",
       "  0.0868024   0.0882739   0.0896674  …   0.0934241   0.0929199   0.0924158\n",
       " -0.01177    -0.01183    -0.0118933     -0.0139688  -0.0139313  -0.0138861"
      ]
     },
     "metadata": {},
     "output_type": "display_data"
    },
    {
     "data": {
      "text/plain": [
       "2×41 Matrix{Float64}:\n",
       "  0.0869121   0.0883836   0.0897769  …   0.0935232   0.0930186   0.0925141\n",
       " -0.012094   -0.012154   -0.0122173     -0.0142764  -0.0142379  -0.0141916"
      ]
     },
     "metadata": {},
     "output_type": "display_data"
    }
   ],
   "source": [
    "Δu = reshape(U*ztraj, 2, :)\n",
    "display(Δu[:, 20:60])\n",
    "display(utraj[:, 20:60])\n",
    "utraj = utraj+Δu\n",
    "display(utraj[:, 20:60])"
   ]
  },
  {
   "cell_type": "code",
   "execution_count": null,
   "metadata": {},
   "outputs": [],
   "source": []
  }
 ],
 "metadata": {
  "kernelspec": {
   "display_name": "Julia 1.7.2",
   "language": "julia",
   "name": "julia-1.7"
  },
  "language_info": {
   "file_extension": ".jl",
   "mimetype": "application/julia",
   "name": "julia",
   "version": "1.7.2"
  }
 },
 "nbformat": 4,
 "nbformat_minor": 4
}
