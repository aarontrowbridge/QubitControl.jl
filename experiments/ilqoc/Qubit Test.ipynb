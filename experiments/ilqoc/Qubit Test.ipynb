{
 "cells": [
  {
   "cell_type": "code",
   "execution_count": 1,
   "metadata": {},
   "outputs": [
    {
     "name": "stderr",
     "output_type": "stream",
     "text": [
      "\u001b[32m\u001b[1m  Activating\u001b[22m\u001b[39m project at `C:\\Users\\a7b\\Pico.jl`\n"
     ]
    }
   ],
   "source": [
    "import Pkg; Pkg.activate(\"C:/Users/a7b/Pico.jl\"); Pkg.instantiate()"
   ]
  },
  {
   "cell_type": "code",
   "execution_count": 2,
   "metadata": {},
   "outputs": [],
   "source": [
    "using Pico\n",
    "using PyPlot\n",
    "using QuantumOptics\n",
    "using ForwardDiff\n",
    "using Interpolations\n",
    "using LinearAlgebra\n",
    "using SparseArrays\n",
    "using OSQP"
   ]
  },
  {
   "cell_type": "code",
   "execution_count": 3,
   "metadata": {},
   "outputs": [
    {
     "data": {
      "text/plain": [
       "exp_frechet!"
      ]
     },
     "execution_count": 3,
     "metadata": {},
     "output_type": "execute_result"
    }
   ],
   "source": [
    "WDIR = joinpath(@__DIR__, \"../../\")\n",
    "include(joinpath(WDIR, \"experiments\", \"ilqoc\", \"measurement.jl\"))"
   ]
  },
  {
   "cell_type": "code",
   "execution_count": 4,
   "metadata": {},
   "outputs": [],
   "source": [
    "iter = 3000\n",
    "\n",
    "ω = 2π * 4.96 #GHz\n",
    "α = -2π * 0.143 #GHz\n",
    "levels = 2\n",
    "\n",
    "ψg = [1. + 0*im, 0]\n",
    "ψe = [0, 1. + 0*im]\n",
    "\n",
    "ψ1 = [ψg, ψe]\n",
    "ψf = [-im*ψe, -im*ψg]\n",
    "\n",
    "H_drift = α/2 * Pico.quad(levels)\n",
    "H_drive = [Pico.create(levels) + Pico.annihilate(levels),\n",
    "1im * (Pico.create(levels) - Pico.annihilate(levels))]\n",
    "\n",
    "sys = QuantumSystem(\n",
    "    H_drift, \n",
    "    H_drive,\n",
    "    ψ1 = ψ1,\n",
    "    ψf = ψf,\n",
    "    control_bounds = [2π * 19e-3,  2π * 19e-3]\n",
    ");"
   ]
  },
  {
   "cell_type": "code",
   "execution_count": 311,
   "metadata": {},
   "outputs": [],
   "source": [
    "T = 400\n",
    "Δt = 0.1\n",
    "Q = 200.\n",
    "R = 0.1\n",
    "cost = infidelity_cost\n",
    "hess = true\n",
    "pinqstate = true\n",
    "\n",
    "time = T * Δt\n",
    "\n",
    "options = Options(\n",
    "    max_iter = iter,\n",
    "    tol = 1e-5\n",
    ")\n",
    "\n",
    "prob = QuantumControlProblem(\n",
    "    sys,\n",
    "    T;\n",
    "    Δt = Δt,\n",
    "    Q = Q,\n",
    "    R = R,\n",
    "    eval_hessian = hess,\n",
    "    cost = cost,\n",
    "    pin_first_qstate = pinqstate,\n",
    "    options = options\n",
    ");"
   ]
  },
  {
   "cell_type": "code",
   "execution_count": 312,
   "metadata": {},
   "outputs": [
    {
     "name": "stdout",
     "output_type": "stream",
     "text": [
      "This is Ipopt version 3.14.4, running with linear solver MUMPS 5.4.1.\n",
      "\n",
      "Number of nonzeros in equality constraint Jacobian...:    36634\n",
      "Number of nonzeros in inequality constraint Jacobian.:        0\n",
      "Number of nonzeros in Lagrangian Hessian.............:    14723\n",
      "\n",
      "Total number of variables............................:     5580\n",
      "                     variables with only lower bounds:        0\n",
      "                variables with lower and upper bounds:      796\n",
      "                     variables with only upper bounds:        0\n",
      "Total number of equality constraints.................:     4788\n",
      "Total number of inequality constraints...............:        0\n",
      "        inequality constraints with only lower bounds:        0\n",
      "   inequality constraints with lower and upper bounds:        0\n",
      "        inequality constraints with only upper bounds:        0\n",
      "\n",
      "iter    objective    inf_pr   inf_du lg(mu)  ||d||  lg(rg) alpha_du alpha_pr  ls\n",
      "   0  3.9223421e-01 6.10e-01 8.20e-03  -1.0 0.00e+00    -  0.00e+00 0.00e+00   0\n",
      "   1  8.3215246e+00 4.87e-01 7.94e+00  -1.7 7.63e+00  -4.0 2.21e-02 2.01e-01f  1\n",
      "   2  1.8760365e+01 3.17e-03 4.06e+00  -1.7 2.08e+00  -4.5 1.34e-01 1.00e+00f  1\n",
      "   3  2.3003939e+00 1.11e-04 2.00e+02  -1.7 2.15e+00  -5.0 7.65e-01 1.00e+00f  1\n",
      "   4  1.1064685e-01 3.77e-04 9.60e-01  -1.7 6.00e-01  -5.4 1.00e+00 1.00e+00f  1\n",
      "   5  2.2635090e-02 6.44e-05 7.95e-02  -1.7 1.68e-01  -5.9 1.00e+00 1.00e+00h  1\n",
      "   6  1.2017830e-02 1.31e-06 2.00e+02  -2.5 1.36e-01  -6.4 1.00e+00 1.00e+00h  1\n",
      "   7  5.3093074e-03 3.93e-06 4.68e-01  -2.5 7.94e-02  -6.9 1.00e+00 1.00e+00h  1\n",
      "   8  5.4343706e-03 1.02e-07 2.83e-02  -2.5 2.59e-03  -4.6 1.00e+00 1.00e+00h  1\n",
      "   9  5.4451783e-03 8.06e-08 1.55e-02  -2.5 1.99e-03  -5.1 1.00e+00 1.00e+00h  1\n",
      "iter    objective    inf_pr   inf_du lg(mu)  ||d||  lg(rg) alpha_du alpha_pr  ls\n",
      "  10  2.7352710e-03 2.66e-06 2.00e+02  -3.8 6.60e-02  -5.6 9.83e-01 1.00e+00h  1\n",
      "  11  7.0680327e-04 1.83e-05 2.69e-01  -3.8 4.73e-02  -6.1 1.00e+00 1.00e+00h  1\n",
      "  12  6.7687975e-04 6.92e-08 2.00e+02  -3.8 1.46e-03  -2.9 1.00e+00 1.00e+00h  1\n",
      "  13  6.7687971e-04 6.92e-08 1.82e-03  -3.8 8.14e-04  -3.4 1.00e+00 9.31e-10h 31\n",
      "  14  6.6821109e-04 9.17e-09 6.54e-06  -3.8 6.38e-04  -3.0 1.00e+00 1.00e+00h  1\n",
      "  15  5.3053204e-04 6.24e-07 2.00e+02  -4.0 6.02e-03  -3.5 1.00e+00 1.00e+00h  1\n",
      "  16  5.0598637e-04 4.48e-08 1.30e-02  -4.0 1.35e-03  -3.9 1.00e+00 1.00e+00h  1\n",
      "  17  4.9630741e-04 3.97e-08 2.00e+02  -4.0 1.76e-03  -4.4 1.00e+00 1.00e+00h  1\n",
      "  18  4.9627778e-04 3.97e-08 1.91e-04  -4.0 6.58e-03  -4.0 1.00e+00 9.54e-07h 21\n",
      "  19  4.9692251e-04 5.30e-09 2.13e-04  -4.0 6.22e-04  -4.5 1.00e+00 1.00e+00h  1\n",
      "iter    objective    inf_pr   inf_du lg(mu)  ||d||  lg(rg) alpha_du alpha_pr  ls\n",
      "  20  4.9692738e-04 3.63e-10 2.00e+02  -4.0 2.00e-04  -4.0 1.00e+00 1.00e+00h  1\n",
      "  21  4.9691273e-04 1.45e-11 2.00e+02  -4.0 3.41e-05  -4.5 1.00e+00 1.00e+00h  1\n",
      "  22  4.9697329e-04 1.49e-11 3.82e-04  -4.0 2.05e-03  -4.1 1.00e+00 1.91e-06h 20\n",
      "  23  4.9692607e-04 1.33e-11 2.00e+02  -4.0 3.66e-05  -4.6 1.00e+00 1.00e+00H  1\n",
      "  24  4.9692599e-04 1.33e-11 1.38e-02  -4.0 7.98e-05  -1.4 1.00e+00 3.73e-09h 29\n",
      "  25  4.9693169e-04 6.03e-11 1.21e-02  -4.0 8.08e-05  -1.9 1.00e+00 1.25e-01h  4\n",
      "  26  4.9693396e-04 3.13e-14 2.00e+02  -4.0 1.06e-06  -2.4 1.00e+00 1.00e+00h  1\n",
      "  27  4.9693396e-04 3.13e-14 2.00e+02  -4.0 7.98e-05  -2.0 1.00e+00 1.82e-12h 40\n",
      "  28  4.9693501e-04 2.67e-14 2.82e-05  -4.0 1.15e-06  -2.4 1.00e+00 1.00e+00h  1\n",
      "\n",
      "Number of Iterations....: 28\n",
      "\n",
      "                                   (scaled)                 (unscaled)\n",
      "Objective...............:   1.2423375188572291e-04    4.9693500754289166e-04\n",
      "Dual infeasibility......:   2.8176768584395762e-05    1.1270707433758305e-04\n",
      "Constraint violation....:   2.6704321039558131e-14    2.6704321039558131e-14\n",
      "Variable bound violation:   0.0000000000000000e+00    0.0000000000000000e+00\n",
      "Complementarity.........:   1.0000000000064052e-04    4.0000000000256210e-04\n",
      "Overall NLP error.......:   8.1811774903002723e-06    1.1270707433758305e-04\n",
      "\n",
      "\n",
      "Number of objective function evaluations             = 180\n",
      "Number of objective gradient evaluations             = 29\n",
      "Number of equality constraint evaluations            = 180\n",
      "Number of inequality constraint evaluations          = 0\n",
      "Number of equality constraint Jacobian evaluations   = 29\n",
      "Number of inequality constraint Jacobian evaluations = 0\n",
      "Number of Lagrangian Hessian evaluations             = 28\n",
      "Total seconds in IPOPT                               = 7.366\n",
      "\n",
      "EXIT: Optimal Solution Found.\n"
     ]
    }
   ],
   "source": [
    "#this will give us the nominal trajectory that we need to track\n",
    "solve!(prob)"
   ]
  },
  {
   "cell_type": "code",
   "execution_count": 313,
   "metadata": {},
   "outputs": [],
   "source": [
    "#Extract the solution\n",
    "result = prob.trajectory.states\n",
    "\n",
    "Xopt = [result[i][1:sys.n_wfn_states] for i = 1:length(result)]\n",
    "Uopt = [result[i][sys.n_wfn_states .+ (1:2)] for i = 1:length(result)]\n",
    "\n",
    "for i = 1:length(Xopt)\n",
    "    x = Xopt[i]\n",
    "    meas = zeros(0)\n",
    "    for s = 1:sys.nqstates\n",
    "        iso_state = x[slice(s, sys.isodim)]\n",
    "        append!(meas, meas_x_iso(iso_state))\n",
    "        append!(meas, meas_y_iso(iso_state))\n",
    "        append!(meas, meas_z_iso(iso_state))\n",
    "    end\n",
    "    Xopt[i] = [x; meas]\n",
    "end"
   ]
  },
  {
   "cell_type": "code",
   "execution_count": 314,
   "metadata": {},
   "outputs": [
    {
     "name": "stdout",
     "output_type": "stream",
     "text": [
      "14"
     ]
    }
   ],
   "source": [
    "n = sys.n_wfn_states + 3*sys.nqstates\n",
    "print(n)\n",
    "m = sys.ncontrols\n",
    "\n",
    "xnom = zeros(n, prob.T)\n",
    "\n",
    "for k = 1:prob.T\n",
    "    xnom[:, k] .= Xopt[k]\n",
    "end\n",
    "\n",
    "unom = zeros(m, prob.T - 1)\n",
    "utraj = zeros(m, prob.T - 1)\n",
    "\n",
    "for k = 1:prob.T - 1\n",
    "    unom[:, k] .= Uopt[k]\n",
    "    utraj[:, k] .= Uopt[k]\n",
    "end"
   ]
  },
  {
   "cell_type": "code",
   "execution_count": 315,
   "metadata": {},
   "outputs": [
    {
     "data": {
      "text/plain": [
       "discrete_dynamics (generic function with 1 method)"
      ]
     },
     "execution_count": 315,
     "metadata": {},
     "output_type": "execute_result"
    }
   ],
   "source": [
    "function discrete_dynamics(x, u)\n",
    "    G = sys.G_drift + u[1] * sys.G_drives[1] + u[2] * sys.G_drives[2]\n",
    "    h_prop = exp(G * Δt)\n",
    "    state1_ = x[1:4]\n",
    "    state2_ = x[5:8]\n",
    "    state1 = h_prop * state1_\n",
    "    state2 = h_prop * state2_\n",
    "    meas_1 = [meas_x_iso(state1), meas_y_iso(state1), meas_z_iso(state1)]\n",
    "    meas_2 = [meas_x_iso(state2), meas_y_iso(state2), meas_z_iso(state2)]\n",
    "    return [state1; state2; meas_1; meas_2]\n",
    "end\n",
    "function true_dynamics(x, u)\n",
    "    G = sys.G_drift + 0.01*get_mat_iso(-1im * sigmaz()) + u[1] * sys.G_drives[1] + u[2] * sys.G_drives[2]\n",
    "    h_prop = exp(G * Δt)\n",
    "    state1_ = x[1:4]\n",
    "    state2_ = x[5:8]\n",
    "    state1 = h_prop * state1_\n",
    "    state2 = h_prop * state2_\n",
    "    meas_1 = [meas_x_iso(state1), meas_y_iso(state1), meas_z_iso(state1)]\n",
    "    meas_2 = [meas_x_iso(state2), meas_y_iso(state2), meas_z_iso(state2)]\n",
    "    return [state1; state2; meas_1; meas_2]\n",
    "end"
   ]
  },
  {
   "cell_type": "code",
   "execution_count": 316,
   "metadata": {},
   "outputs": [
    {
     "data": {
      "text/plain": [
       "14×14 Matrix{Float64}:\n",
       "  0.999996      2.66193e-7   -5.33282e-26  …  0.0  0.0  0.0  0.0  0.0  0.0\n",
       " -2.66193e-7    0.999996      0.00276064      0.0  0.0  0.0  0.0  0.0  0.0\n",
       " -2.62574e-26  -0.00276064    0.999996        0.0  0.0  0.0  0.0  0.0  0.0\n",
       " -0.00276064   -6.00978e-26  -2.66193e-7      0.0  0.0  0.0  0.0  0.0  0.0\n",
       "  0.0           0.0           0.0             0.0  0.0  0.0  0.0  0.0  0.0\n",
       "  0.0           0.0           0.0          …  0.0  0.0  0.0  0.0  0.0  0.0\n",
       "  0.0           0.0           0.0             0.0  0.0  0.0  0.0  0.0  0.0\n",
       "  0.0           0.0           0.0             0.0  0.0  0.0  0.0  0.0  0.0\n",
       " -5.29889e-6    1.99953      -0.0431389       0.0  0.0  0.0  0.0  0.0  0.0\n",
       " -0.0541782    -2.68103e-8    4.23443e-6      0.0  0.0  0.0  0.0  0.0  0.0\n",
       "  1.99927       5.29888e-6    9.05019e-10  …  0.0  0.0  0.0  0.0  0.0  0.0\n",
       "  0.0           0.0           0.0             0.0  0.0  0.0  0.0  0.0  0.0\n",
       "  0.0           0.0           0.0             0.0  0.0  0.0  0.0  0.0  0.0\n",
       "  0.0           0.0           0.0             0.0  0.0  0.0  0.0  0.0  0.0"
      ]
     },
     "metadata": {},
     "output_type": "display_data"
    },
    {
     "data": {
      "text/plain": [
       "14×2 Matrix{Float64}:\n",
       " -0.00243294    2.38334e-7\n",
       "  6.33583e-10   0.0999766\n",
       "  2.11721e-7    0.00215694\n",
       " -0.0999704    -5.74047e-10\n",
       " -6.33583e-10  -0.0999766\n",
       " -0.00243294    2.38334e-7\n",
       " -0.0999704    -5.74047e-10\n",
       " -2.11721e-7   -0.00215694\n",
       "  2.49189e-9    0.199789\n",
       " -0.199763     -2.53317e-9\n",
       " -0.00972887    9.53056e-7\n",
       " -2.49189e-9   -0.199789\n",
       "  0.199763      2.53317e-9\n",
       "  0.00972887   -9.53056e-7"
      ]
     },
     "metadata": {},
     "output_type": "display_data"
    }
   ],
   "source": [
    "#Compute linearization of dynamics using nominal dynamics + trajectory\n",
    "\n",
    "A = zeros(n, n, T-1)\n",
    "B = zeros(n, m, T-1)  \n",
    "\n",
    "for k = 1:(T-1)\n",
    "    A[:, :, k] .= ForwardDiff.jacobian(x->discrete_dynamics(x, Uopt[k]), Xopt[k])\n",
    "    B[:, :, k] .= ForwardDiff.jacobian(u->discrete_dynamics(Xopt[k], u), Uopt[k])\n",
    "end\n",
    "\n",
    "display(A[:, :, 21])\n",
    "display(B[:, :, 21])\n",
    "    "
   ]
  },
  {
   "cell_type": "code",
   "execution_count": 317,
   "metadata": {},
   "outputs": [
    {
     "data": {
      "text/plain": [
       "Operator(dim=2x2)\n",
       "  basis: Basis(dim=2)\n",
       " 0.263943+0.0im             0.0-0.964538im\n",
       "      0.0+0.964538im  -0.263943+0.0im"
      ]
     },
     "execution_count": 317,
     "metadata": {},
     "output_type": "execute_result"
    }
   ],
   "source": [
    "basis = GenericBasis(2)\n",
    "ketψg = Ket(basis, ψg)\n",
    "ketψe = Ket(basis, ψe)\n",
    "\n",
    "σx_noisy = Operator(basis, basis, noisy_sigmax(error = 0.1))\n",
    "σy_noisy = Operator(basis, basis, noisy_sigmay(error = 0.1))"
   ]
  },
  {
   "cell_type": "code",
   "execution_count": 332,
   "metadata": {},
   "outputs": [],
   "source": [
    "tspan = 0.0:Δt:39.9\n",
    "uint_1 = constant_interpolation(tspan, vcat(utraj[1,:], [0.0]))\n",
    "uint_2 = constant_interpolation(tspan, vcat(utraj[2,:], [0.0]));"
   ]
  },
  {
   "cell_type": "code",
   "execution_count": 333,
   "metadata": {},
   "outputs": [
    {
     "data": {
      "text/plain": [
       "400-element Vector{Float64}:\n",
       " -1.0\n",
       " -0.999768863598348\n",
       " -0.9993398486787796\n",
       " -0.9986811841568771\n",
       " -0.9977855220155919\n",
       " -0.9966435786928429\n",
       " -0.9952433057562861\n",
       " -0.9935695492315904\n",
       " -0.9916061482841468\n",
       " -0.9893406264523318\n",
       " -0.9867490996633724\n",
       " -0.9838163667553919\n",
       " -0.980527358042142\n",
       "  ⋮\n",
       "  0.895847555900331\n",
       "  0.8999360533693204\n",
       "  0.9040395701568933\n",
       "  0.9081432479691053\n",
       "  0.9122426049985101\n",
       "  0.9163088213229221\n",
       "  0.9203145465981877\n",
       "  0.9242592827911008\n",
       "  0.9281150769613095\n",
       "  0.931857090813152\n",
       "  0.935460740197239\n",
       "  0.9371923447618635"
      ]
     },
     "execution_count": 333,
     "metadata": {},
     "output_type": "execute_result"
    }
   ],
   "source": [
    "basis = GenericBasis(2)\n",
    "ketψg = Ket(basis, ψg)\n",
    "ketψe = Ket(basis, ψe)\n",
    "\n",
    "#True dynamics with Lindblad master equation\n",
    "Ts = [tspan;]\n",
    "T1 = 100e1\n",
    "T2 = 150e1\n",
    "nth = 0.015\n",
    "rates = [1/T1 * (1+nth), 1/T1 * nth, 1/T2 - 1/2/T1]\n",
    "J = [Operator(basis, basis, Pico.annihilate(2)), Operator(basis, basis, Pico.create(2)),\n",
    "     Operator(basis, basis, Pico.number(2))]\n",
    "Jdagger = dagger.(J)\n",
    "\n",
    "function f(t, ρ)\n",
    "    Hop = Operator(basis, basis, H_drift + uint_1(t)*H_drive[1] + uint_2(t) * H_drive[2])\n",
    "    return Hop, J, Jdagger\n",
    "end\n",
    "\n",
    "toutg, ρgt = timeevolution.master_dynamic(Ts, ketψg, f, rates = rates)\n",
    "toute, ρet = timeevolution.master_dynamic(Ts, ketψe, f, rates = rates)\n",
    "\n",
    "expectxg = real(expect(σx_noisy, ρgt))\n",
    "expectyg = real(expect(σy_noisy, ρgt))\n",
    "expectzg = real(expect(Operator(basis, basis, sigmaz()), ρgt))\n",
    "\n",
    "expectxe = real(expect(σx_noisy, ρet))\n",
    "expectye = real(expect(σy_noisy, ρet))\n",
    "expectze = real(expect(Operator(basis, basis, sigmaz()), ρet))\n",
    "\n",
    "#TODO: make these noisy expectation values"
   ]
  },
  {
   "cell_type": "code",
   "execution_count": 334,
   "metadata": {},
   "outputs": [],
   "source": [
    "xtraj = zeros(n, T)\n",
    "\n",
    "xtraj[1:8, :] .= xnom[1:8, :]\n",
    "xtraj[9, :] .= expectxg\n",
    "xtraj[10,:] .= expectyg\n",
    "xtraj[11, :] .= expectzg\n",
    "xtraj[12, :] .= expectxe\n",
    "xtraj[13, :] .= expectye\n",
    "xtraj[14, :] .= expectze;\n"
   ]
  },
  {
   "cell_type": "code",
   "execution_count": 335,
   "metadata": {
    "scrolled": false
   },
   "outputs": [
    {
     "data": {
      "image/png": "[encoded data removed]",
      "text/plain": [
       "Figure(PyObject <Figure size 640x480 with 1 Axes>)"
      ]
     },
     "metadata": {},
     "output_type": "display_data"
    },
    {
     "data": {
      "text/plain": [
       "1-element Vector{PyCall.PyObject}:\n",
       " PyObject <matplotlib.lines.Line2D object at 0x000000006EF740B8>"
      ]
     },
     "execution_count": 335,
     "metadata": {},
     "output_type": "execute_result"
    }
   ],
   "source": [
    "plot(xtraj[14, :])\n",
    "plot(xnom[14, :])"
   ]
  },
  {
   "cell_type": "code",
   "execution_count": 336,
   "metadata": {},
   "outputs": [
    {
     "data": {
      "image/png": "[encoded data removed]",
      "text/plain": [
       "Figure(PyObject <Figure size 640x480 with 1 Axes>)"
      ]
     },
     "metadata": {},
     "output_type": "display_data"
    },
    {
     "data": {
      "text/plain": [
       "1-element Vector{PyCall.PyObject}:\n",
       " PyObject <matplotlib.lines.Line2D object at 0x000000006F033908>"
      ]
     },
     "execution_count": 336,
     "metadata": {},
     "output_type": "execute_result"
    }
   ],
   "source": [
    "plot(Uopt[:])\n",
    "plot(utraj[1,:])\n",
    "plot(utraj[2, :])"
   ]
  },
  {
   "cell_type": "code",
   "execution_count": 337,
   "metadata": {},
   "outputs": [
    {
     "data": {
      "text/plain": [
       "14-element Vector{Float64}:\n",
       "  0.0\n",
       "  0.0\n",
       "  0.0\n",
       "  0.0\n",
       "  0.0\n",
       "  0.0\n",
       "  0.0\n",
       "  0.0\n",
       "  0.09246360945957388\n",
       "  0.005489110142092357\n",
       "  0.10214897536094847\n",
       " -0.10096865280102209\n",
       " -0.007746656988222061\n",
       " -0.06280765523813647"
      ]
     },
     "metadata": {},
     "output_type": "display_data"
    },
    {
     "name": "stdout",
     "output_type": "stream",
     "text": [
      "-----------------------------------------------------------------\n",
      "           OSQP v0.6.2  -  Operator Splitting QP Solver\n",
      "              (c) Bartolomeo Stellato,  Goran Banjac\n",
      "        University of Oxford  -  Stanford University 2021\n",
      "-----------------------------------------------------------------\n",
      "problem:  variables n = 6384, constraints m = 6384\n",
      "          nnz(P) + nnz(A) = 46201\n",
      "settings: linear system solver = qdldl,\n",
      "          eps_abs = 1.0e-008, eps_rel = 1.0e-008,\n",
      "          eps_prim_inf = 1.0e-008, eps_dual_inf = 1.0e-008,\n",
      "          rho = 1.00e-001 (adaptive),\n",
      "          sigma = 1.00e-006, alpha = 1.60, max_iter = 4000\n",
      "          check_termination: on (interval 25),\n",
      "          scaling: on, scaled_termination: off\n",
      "          warm start: on, polish: on, time_limit: off\n",
      "\n",
      "iter  objective    pri res    dua res    rho        time\n",
      "   1 -1.8534e+001  3.67e-004  2.45e+002  1.00e-001  1.56e-002s\n",
      " 200 -9.4004e-002  3.05e-007  4.12e-005  8.09e-002  1.85e-001s\n",
      " 400 -9.4042e-002  5.50e-007  3.88e-005  5.32e-002  3.50e-001s\n",
      " 600 -9.4058e-002  2.47e-006  3.44e-005  4.43e-002  4.87e-001s\n",
      " 800 -9.4080e-002  4.77e-010  2.84e-005  4.32e-001  6.23e-001s\n",
      "1000 -9.4073e-002  8.41e-005  1.48e-005  3.53e-003  8.01e-001s\n",
      "1200 -9.4095e-002  1.55e-010  1.26e-005  4.44e-002  9.30e-001s\n",
      "1400 -9.4084e-002  1.23e-007  4.01e-006  1.07e-002  1.06e+000s\n",
      "1450 -9.4085e-002  1.56e-009  3.60e-006  1.02e-002  1.08e+000s\n",
      "\n",
      "status:               solved\n",
      "solution polish:      unsuccessful\n",
      "number of iterations: 1450\n",
      "optimal objective:    -0.0941\n",
      "run time:             1.10e+000s\n",
      "optimal rho estimate: 6.46e-003\n",
      "\n"
     ]
    }
   ],
   "source": [
    "#Setup the ILC QP\n",
    "\n",
    "#Cost   \n",
    "Qf = Diagonal([fill(0., sys.isodim*sys.nqstates); [10., 10., 4000.]; [10., 10., 4000.]])\n",
    "Qilc = sparse(Diagonal([fill(0., sys.isodim*sys.nqstates); fill(0., 3*sys.nqstates)]))\n",
    "Rilc = sparse(Diagonal([0.001, 0.001]))\n",
    "H = blockdiag(kron(I(T-2), blockdiag(Rilc, Qilc)), Rilc, sparse(Qf))\n",
    "q = zeros((n+m)*(T-1))\n",
    "for k = 1:(T-2)\n",
    "   q[(k-1)*(m+n) .+ (1:(m+n))] .= [zeros(sys.ncontrols); Qilc*(xtraj[:,k+1] - Xopt[k+1])] \n",
    "end\n",
    "display(xtraj[:,T] - Xopt[T])\n",
    "q[(T-2)*(m+n) .+ (1:(m+n))] .= [zeros(sys.ncontrols); Qf*(xtraj[:,T] - Xopt[T])]\n",
    "\n",
    "#Constraints\n",
    "U = kron(I(T-1), [I zeros(m,n)]) #Matrix that picks out all u\n",
    "X = kron(I(T-1), [zeros(n,m) I]) #Matrix that picks out all x\n",
    "D = spzeros(n*(T-1), (n+m)*(T-1)) #dynamics constraints\n",
    "\n",
    "D[1:n,1:m] .= B[:,:,1]\n",
    "D[1:n,(m+1):(m+n)] .= -I(n)\n",
    "for k = 1:(T-2)\n",
    "    D[(k*n).+(1:n), (m+(k-1)*(n+m)).+(1:(2*n+m))] .= [A[:,:,k+1] B[:,:,k+1] -I]\n",
    "end \n",
    "\n",
    "u_bnd = [zeros(2); fill(2π*19e-3, 2*(T-2))]\n",
    "utrajF = reduce(vcat, utraj)\n",
    "lb = [zeros(n*(T-1)); -u_bnd-utrajF]\n",
    "ub = [zeros(n*(T-1)); u_bnd-utrajF]\n",
    "\n",
    "qp = OSQP.Model()\n",
    "OSQP.setup!(qp, P=H, q=q, A=[D; U], l=lb, u=ub, eps_abs=1e-8, eps_rel=1e-8, eps_prim_inf = 1.0e-8, eps_dual_inf = 1.0e-8, polish=1)\n",
    "results = OSQP.solve!(qp)\n",
    "ztraj = results.x;"
   ]
  },
  {
   "cell_type": "code",
   "execution_count": 338,
   "metadata": {},
   "outputs": [
    {
     "data": {
      "text/plain": [
       "2×41 Matrix{Float64}:\n",
       "  0.0187877    0.0173433   …   0.0148676    0.0153993   0.0159299\n",
       " -0.00225332  -0.00225279     -0.00211965  -0.0021128  -0.0021058"
      ]
     },
     "metadata": {},
     "output_type": "display_data"
    },
    {
     "data": {
      "text/plain": [
       "2×41 Matrix{Float64}:\n",
       "  0.100593     0.102037     0.103396   …   0.103981     0.103451\n",
       " -0.00629127  -0.00628993  -0.0062883     -0.00589951  -0.00587989"
      ]
     },
     "metadata": {},
     "output_type": "display_data"
    },
    {
     "data": {
      "text/plain": [
       "2×41 Matrix{Float64}:\n",
       "  0.119381     0.119381     0.119381    …   0.119381     0.119381\n",
       " -0.00854459  -0.00854271  -0.00854045     -0.00801231  -0.0079857"
      ]
     },
     "metadata": {},
     "output_type": "display_data"
    }
   ],
   "source": [
    "Δu = reshape(U*ztraj, 2, :)\n",
    "display(Δu[:, 20:60])\n",
    "display(utraj[:, 20:60])\n",
    "utraj = utraj+Δu\n",
    "display(utraj[:, 20:60])"
   ]
  },
  {
   "cell_type": "code",
   "execution_count": null,
   "metadata": {},
   "outputs": [],
   "source": []
  }
 ],
 "metadata": {
  "kernelspec": {
   "display_name": "Julia 1.7.2",
   "language": "julia",
   "name": "julia-1.7"
  },
  "language_info": {
   "file_extension": ".jl",
   "mimetype": "application/julia",
   "name": "julia",
   "version": "1.7.2"
  }
 },
 "nbformat": 4,
 "nbformat_minor": 4
}
